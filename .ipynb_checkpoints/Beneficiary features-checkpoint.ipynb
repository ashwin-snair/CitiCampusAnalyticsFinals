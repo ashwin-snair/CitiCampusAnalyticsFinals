{
 "cells": [
  {
   "cell_type": "code",
   "execution_count": 1,
   "metadata": {},
   "outputs": [],
   "source": [
    "import numpy as np\n",
    "import pandas as pd\n",
    "import matplotlib.pyplot as plt\n",
    "from scipy.stats import chi2_contingency\n",
    "from sklearn.metrics import matthews_corrcoef\n",
    "from math import sqrt"
   ]
  },
  {
   "cell_type": "code",
   "execution_count": 2,
   "metadata": {},
   "outputs": [
    {
     "name": "stderr",
     "output_type": "stream",
     "text": [
      "C:\\Users\\nithy\\Anaconda3\\lib\\site-packages\\numpy\\lib\\arraysetops.py:569: FutureWarning: elementwise comparison failed; returning scalar instead, but in the future will perform elementwise comparison\n",
      "  mask |= (ar1 == a)\n"
     ]
    }
   ],
   "source": [
    "train = pd.read_csv('D:/_Citi Hackathon/Dataset/Train.csv', index_col=[0])\n",
    "test = pd.read_csv('D:/_Citi Hackathon/Dataset/Test_fin.csv', index_col=0)"
   ]
  },
  {
   "cell_type": "code",
   "execution_count": 40,
   "metadata": {},
   "outputs": [],
   "source": [
    "def date_formatting(data):\n",
    "    '''\n",
    "    Converts date from str to datetime, adds DD column\n",
    "    Input:\n",
    "    -------\n",
    "    data: raw test/train data\n",
    "    ''' \n",
    "    data['transaction_val_dt'] = pd.to_datetime(data['transaction_val_dt'], format='%Y-%m-%d') \n",
    "    data['transaction_DD'] = data['transaction_val_dt'].apply(lambda x: int(x.day))"
   ]
  },
  {
   "cell_type": "code",
   "execution_count": 41,
   "metadata": {},
   "outputs": [],
   "source": [
    "def add_bene_features(data):\n",
    "    '''\n",
    "    Creates beneficiary related features\n",
    "    Input:\n",
    "    -------\n",
    "    data: train/test data with DD column added  \n",
    "    '''  \n",
    "    bene = data.groupby('bene_act_no_dummy')\n",
    "\n",
    "    plt.figure(figsize=(15,10))\n",
    "    plt.hist(bene['payroll_ind'].count(), bins=50)\n",
    "    plt.show()\n",
    "\n",
    "    # number of industries bene is mapped to\n",
    "    bene_ind_c = bene['rem_company_ind'].nunique()\n",
    "    data['bene_ind_count'] = bene_ind_c[data.bene_act_no_dummy].values    \n",
    "\n",
    "    # DD abs difference with mean DD\n",
    "    bene_DD_mean = bene['transaction_DD'].mean()\n",
    "    data['bene_DD_mode_diff'] = abs(bene_DD_mean[data.bene_act_no_dummy].values - data['transaction_DD'])\n",
    "    \n",
    "    # mean txn_amount for bene\n",
    "    bene_txn = bene['txn_amt'].mean()\n",
    "    data['avg_bene_txn_diff'] = data['txn_amt'] - bene_txn[data.bene_act_no_dummy].values\n",
    "    \n",
    "    # number of companies bene recieves money from \n",
    "    bene_comp_c = bene['rem_company_id_dummy'].nunique()\n",
    "    data['bene_comp_count'] = bene_comp_c[data.bene_act_no_dummy].values\n"
   ]
  },
  {
   "cell_type": "code",
   "execution_count": 4,
   "metadata": {},
   "outputs": [],
   "source": [
    "bene = train.groupby('bene_act_no_dummy')\n",
    "n_bene = len(np.unique(train['bene_act_no_dummy']))"
   ]
  },
  {
   "cell_type": "code",
   "execution_count": 5,
   "metadata": {},
   "outputs": [
    {
     "data": {
      "image/png": "[encoded data removed]",
      "text/plain": [
       "<Figure size 1080x720 with 1 Axes>"
      ]
     },
     "metadata": {
      "needs_background": "light"
     },
     "output_type": "display_data"
    }
   ],
   "source": [
    "plt.figure(figsize=(15,10))\n",
    "plt.hist(bene['payroll_ind'].count(), bins=50)\n",
    "plt.show()"
   ]
  },
  {
   "cell_type": "markdown",
   "metadata": {},
   "source": [
    "### industry map"
   ]
  },
  {
   "cell_type": "code",
   "execution_count": 6,
   "metadata": {},
   "outputs": [
    {
     "data": {
      "text/plain": [
       "(array([ 1,  2,  3,  4,  5,  6,  7,  8,  9, 10], dtype=int64),\n",
       " array([360984,   6008,    243,     32,     15,      6,      4,      5,\n",
       "             1,      1], dtype=int64))"
      ]
     },
     "execution_count": 6,
     "metadata": {},
     "output_type": "execute_result"
    }
   ],
   "source": [
    "# print(np.unique(bene['rem_company_ind'].nunique(), return_counts=True))\n",
    "# 360984/n_bene\n",
    "# multi_ind_bene = bene.filter(lambda x : x['rem_company_ind'].nunique()>1)\n",
    "# multi_ind_bene.groupby('bene_act_no_dummy')['payroll_ind'].unique()"
   ]
  },
  {
   "cell_type": "code",
   "execution_count": 8,
   "metadata": {},
   "outputs": [],
   "source": [
    "bene_ind_c = bene['rem_company_ind'].nunique()\n",
    "train['bene_ind_count'] = bene_ind_c[train.bene_act_no_dummy].values"
   ]
  },
  {
   "cell_type": "markdown",
   "metadata": {},
   "source": [
    "### bene mode(date)-txn_date "
   ]
  },
  {
   "cell_type": "code",
   "execution_count": 38,
   "metadata": {},
   "outputs": [],
   "source": [
    "# bene_date\n",
    "bene_DD_mean = bene['transaction_DD'].mean()\n",
    "train['bene_DD_mode_diff'] = abs(bene_DD_mean[train.bene_act_no_dummy].values - train['transaction_DD']) "
   ]
  },
  {
   "cell_type": "code",
   "execution_count": 36,
   "metadata": {},
   "outputs": [
    {
     "data": {
      "text/plain": [
       "count    121939.000000\n",
       "mean         18.637720\n",
       "std           6.695062\n",
       "min           1.000000\n",
       "25%          14.000000\n",
       "50%          21.000000\n",
       "75%          23.000000\n",
       "max          31.000000\n",
       "Name: transaction_DD, dtype: float64"
      ]
     },
     "execution_count": 36,
     "metadata": {},
     "output_type": "execute_result"
    }
   ],
   "source": [
    "(train[train['payroll_ind']==1]['transaction_DD']).describe()"
   ]
  },
  {
   "cell_type": "code",
   "execution_count": 37,
   "metadata": {},
   "outputs": [
    {
     "data": {
      "text/plain": [
       "count    1.308694e+06\n",
       "mean     1.879849e+01\n",
       "std      9.195570e+00\n",
       "min      1.000000e+00\n",
       "25%      1.100000e+01\n",
       "50%      2.100000e+01\n",
       "75%      2.900000e+01\n",
       "max      3.100000e+01\n",
       "Name: transaction_DD, dtype: float64"
      ]
     },
     "execution_count": 37,
     "metadata": {},
     "output_type": "execute_result"
    }
   ],
   "source": [
    "(train[train['payroll_ind']==0]['transaction_DD']).describe()"
   ]
  },
  {
   "cell_type": "markdown",
   "metadata": {},
   "source": [
    "### Txn amount avg "
   ]
  },
  {
   "cell_type": "code",
   "execution_count": 11,
   "metadata": {},
   "outputs": [],
   "source": [
    "bene_txn = bene['txn_amt'].mean()\n",
    "train['avg_bene_txn_diff'] = train['txn_amt'] - bene_txn[train.bene_act_no_dummy].values"
   ]
  },
  {
   "cell_type": "markdown",
   "metadata": {},
   "source": [
    "### company map "
   ]
  },
  {
   "cell_type": "code",
   "execution_count": 9,
   "metadata": {},
   "outputs": [],
   "source": [
    "bene_comp_c = bene['rem_company_id_dummy'].nunique()\n",
    "train['bene_comp_count'] = bene_comp_c[train.bene_act_no_dummy].values"
   ]
  },
  {
   "cell_type": "code",
   "execution_count": null,
   "metadata": {},
   "outputs": [],
   "source": []
  },
  {
   "cell_type": "code",
   "execution_count": null,
   "metadata": {},
   "outputs": [],
   "source": []
  }
 ],
 "metadata": {
  "kernelspec": {
   "display_name": "Python 3",
   "language": "python",
   "name": "python3"
  },
  "language_info": {
   "codemirror_mode": {
    "name": "ipython",
    "version": 3
   },
   "file_extension": ".py",
   "mimetype": "text/x-python",
   "name": "python",
   "nbconvert_exporter": "python",
   "pygments_lexer": "ipython3",
   "version": "3.7.4"
  }
 },
 "nbformat": 4,
 "nbformat_minor": 2
}
