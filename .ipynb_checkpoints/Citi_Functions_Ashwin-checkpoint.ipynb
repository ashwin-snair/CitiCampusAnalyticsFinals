{
 "cells": [
  {
   "cell_type": "code",
   "execution_count": 1,
   "metadata": {
    "colab": {
     "base_uri": "https://localhost:8080/"
    },
    "id": "7AgKUz1GI0Xr",
    "outputId": "3ba20227-afd3-47f0-b38d-33a9c1c546ae"
   },
   "outputs": [
    {
     "name": "stdout",
     "output_type": "stream",
     "text": [
      "Requirement already satisfied: pingouin in /usr/local/lib/python3.7/dist-packages (0.3.10)\n",
      "Requirement already satisfied: statsmodels>=0.10.0 in /usr/local/lib/python3.7/dist-packages (from pingouin) (0.10.2)\n",
      "Requirement already satisfied: seaborn>=0.9.0 in /usr/local/lib/python3.7/dist-packages (from pingouin) (0.11.1)\n",
      "Requirement already satisfied: matplotlib>=3.0.2 in /usr/local/lib/python3.7/dist-packages (from pingouin) (3.2.2)\n",
      "Requirement already satisfied: tabulate in /usr/local/lib/python3.7/dist-packages (from pingouin) (0.8.9)\n",
      "Requirement already satisfied: pandas>=0.24 in /usr/local/lib/python3.7/dist-packages (from pingouin) (1.1.5)\n",
      "Requirement already satisfied: pandas-flavor>=0.1.2 in /usr/local/lib/python3.7/dist-packages (from pingouin) (0.2.0)\n",
      "Requirement already satisfied: numpy>=1.15 in /usr/local/lib/python3.7/dist-packages (from pingouin) (1.19.5)\n",
      "Requirement already satisfied: scipy>=1.3 in /usr/local/lib/python3.7/dist-packages (from pingouin) (1.4.1)\n",
      "Requirement already satisfied: scikit-learn in /usr/local/lib/python3.7/dist-packages (from pingouin) (0.22.2.post1)\n",
      "Requirement already satisfied: outdated in /usr/local/lib/python3.7/dist-packages (from pingouin) (0.2.1)\n",
      "Requirement already satisfied: patsy>=0.4.0 in /usr/local/lib/python3.7/dist-packages (from statsmodels>=0.10.0->pingouin) (0.5.1)\n",
      "Requirement already satisfied: pyparsing!=2.0.4,!=2.1.2,!=2.1.6,>=2.0.1 in /usr/local/lib/python3.7/dist-packages (from matplotlib>=3.0.2->pingouin) (2.4.7)\n",
      "Requirement already satisfied: cycler>=0.10 in /usr/local/lib/python3.7/dist-packages (from matplotlib>=3.0.2->pingouin) (0.10.0)\n",
      "Requirement already satisfied: python-dateutil>=2.1 in /usr/local/lib/python3.7/dist-packages (from matplotlib>=3.0.2->pingouin) (2.8.1)\n",
      "Requirement already satisfied: kiwisolver>=1.0.1 in /usr/local/lib/python3.7/dist-packages (from matplotlib>=3.0.2->pingouin) (1.3.1)\n",
      "Requirement already satisfied: pytz>=2017.2 in /usr/local/lib/python3.7/dist-packages (from pandas>=0.24->pingouin) (2018.9)\n",
      "Requirement already satisfied: xarray in /usr/local/lib/python3.7/dist-packages (from pandas-flavor>=0.1.2->pingouin) (0.15.1)\n",
      "Requirement already satisfied: joblib>=0.11 in /usr/local/lib/python3.7/dist-packages (from scikit-learn->pingouin) (1.0.1)\n",
      "Requirement already satisfied: littleutils in /usr/local/lib/python3.7/dist-packages (from outdated->pingouin) (0.2.2)\n",
      "Requirement already satisfied: requests in /usr/local/lib/python3.7/dist-packages (from outdated->pingouin) (2.23.0)\n",
      "Requirement already satisfied: six in /usr/local/lib/python3.7/dist-packages (from patsy>=0.4.0->statsmodels>=0.10.0->pingouin) (1.15.0)\n",
      "Requirement already satisfied: setuptools>=41.2 in /usr/local/lib/python3.7/dist-packages (from xarray->pandas-flavor>=0.1.2->pingouin) (54.2.0)\n",
      "Requirement already satisfied: certifi>=2017.4.17 in /usr/local/lib/python3.7/dist-packages (from requests->outdated->pingouin) (2020.12.5)\n",
      "Requirement already satisfied: chardet<4,>=3.0.2 in /usr/local/lib/python3.7/dist-packages (from requests->outdated->pingouin) (3.0.4)\n",
      "Requirement already satisfied: idna<3,>=2.5 in /usr/local/lib/python3.7/dist-packages (from requests->outdated->pingouin) (2.10)\n",
      "Requirement already satisfied: urllib3!=1.25.0,!=1.25.1,<1.26,>=1.21.1 in /usr/local/lib/python3.7/dist-packages (from requests->outdated->pingouin) (1.24.3)\n"
     ]
    }
   ],
   "source": [
    "import pandas as pd\n",
    "import matplotlib.pyplot as plt\n",
    "import numpy as np\n",
    "from google.colab import drive\n",
    "import os\n",
    "import statistics\n",
    "from scipy.stats import levene, shapiro, pointbiserialr, kruskal, ttest_ind, mannwhitneyu\n",
    "from datetime import datetime\n",
    "!pip install pingouin\n",
    "import pingouin as pg\n"
   ]
  },
  {
   "cell_type": "code",
   "execution_count": 2,
   "metadata": {
    "colab": {
     "base_uri": "https://localhost:8080/"
    },
    "id": "zeajJVDzJIWa",
    "outputId": "e95f6479-fd8c-4b3a-af3d-5154cc5fdad4"
   },
   "outputs": [
    {
     "name": "stdout",
     "output_type": "stream",
     "text": [
      "Mounted at /content/drive\n"
     ]
    }
   ],
   "source": [
    "drive.mount('/content/drive',force_remount=True)"
   ]
  },
  {
   "cell_type": "code",
   "execution_count": 3,
   "metadata": {
    "id": "mdMpfa79KZQS"
   },
   "outputs": [],
   "source": [
    "os.chdir('drive/My Drive')"
   ]
  },
  {
   "cell_type": "code",
   "execution_count": 5,
   "metadata": {
    "id": "EMXazflWJKp-"
   },
   "outputs": [],
   "source": [
    "def import_Train():\n",
    "  Train = pd.read_csv('Train.csv')\n",
    "  Train['Year'] = Train['transaction_val_dt'].apply(lambda x:int(str(x).split('-')[0]))\n",
    "  Train['Month'] = Train['transaction_val_dt'].apply(lambda x:int(str(x).split('-')[1]))\n",
    "  Train['Day'] = Train['transaction_val_dt'].apply(lambda x:int((str(x).split('-')[2].split(' ')[0])))\n",
    "  return Train"
   ]
  },
  {
   "cell_type": "code",
   "execution_count": 6,
   "metadata": {
    "id": "Z9eCSvfFKqcR"
   },
   "outputs": [],
   "source": [
    "def reindex_train(Train):\n",
    "  Train = Train.astype({\"rem_act_no_dummy\": str, \"bene_act_no_dummy\": str})\n",
    "  Train['Index'] = Train['rem_act_no_dummy'].str.cat(Train['bene_act_no_dummy'],sep=\", \")\n",
    "  Train = Train.astype({\"rem_act_no_dummy\": int, \"bene_act_no_dummy\": int})\n",
    "  Train = Train.drop(['yearmonth'], axis = 1)\n",
    "  Train = Train.set_index('Index')\n",
    "  return Train"
   ]
  },
  {
   "cell_type": "code",
   "execution_count": 7,
   "metadata": {
    "id": "jmcRQa7QL42q"
   },
   "outputs": [],
   "source": [
    "def create_train(Train):\n",
    "  train = Train[~Train.index.duplicated(keep='first')]\n",
    "  train['ID'] = train.index\n",
    "  return train"
   ]
  },
  {
   "cell_type": "code",
   "execution_count": 8,
   "metadata": {
    "id": "B19e6JboLmra"
   },
   "outputs": [],
   "source": [
    "def create_txn_type_num(train, Train):\n",
    "  Unique_txn_type = Train.groupby('Index').txn_type.unique()\n",
    "  temp = pd.DataFrame(Unique_txn_type)\n",
    "  temp['length'] = temp['txn_type'].apply(lambda x:len(x))\n",
    "  multiple_txn_type = temp[temp.length>1]\n",
    "  train.replace({'DOMESTIC':1,'CROSS BORDER':0},inplace=True)\n",
    "  ratios = []\n",
    "  multiple_index = multiple_txn_type.index\n",
    "  for i in multiple_index:\n",
    "    num = 0\n",
    "    den = 0\n",
    "    # print(Train.loc[i,'txn_type'].value_counts())\n",
    "    ratio = Train.loc[i,'txn_type'].value_counts()[0]/(Train.loc[i,'txn_type'].value_counts()[1]+Train.loc[i,'txn_type'].value_counts()[0])\n",
    "    ratios.append(ratio)\n",
    "    train.loc[i,'txn_type'] = ratio\n",
    "  return train"
   ]
  },
  {
   "cell_type": "code",
   "execution_count": 10,
   "metadata": {
    "id": "tx3nI50HLp3o"
   },
   "outputs": [],
   "source": [
    "def create_rem_company_ind(train,Train):\n",
    "  company_ind = pd.DataFrame(Train.groupby('Index').rem_company_ind.unique())\n",
    "  company_ind.iloc[:,0] = company_ind.iloc[:,0].apply(lambda x:np.sort(x)[0])\n",
    "  train['rem_company_ind'] = train.ID.apply(lambda x: company_ind.loc[x,'rem_company_ind'])\n",
    "  return train"
   ]
  },
  {
   "cell_type": "code",
   "execution_count": 11,
   "metadata": {
    "id": "RQODmHQBLuMP"
   },
   "outputs": [],
   "source": [
    "def create_avg_txn_amt(train, Train):\n",
    "  mean = Train.groupby('Index').mean()\n",
    "  train['Average_txn_amount'] = train.ID.apply(lambda x: mean.loc[x,'txn_amt'])\n",
    "  return train"
   ]
  },
  {
   "cell_type": "code",
   "execution_count": 13,
   "metadata": {
    "id": "h58vSVTPRySm"
   },
   "outputs": [],
   "source": [
    "def create_var_txn_amount(train,Train):\n",
    "  var = Train.groupby('Index').var(ddof=0)\n",
    "  train['var_txn_amount'] = train.ID.apply(lambda x: var.loc[x,'txn_amt'])\n",
    "  return train"
   ]
  },
  {
   "cell_type": "code",
   "execution_count": 14,
   "metadata": {
    "id": "e6rzxof-MlIR"
   },
   "outputs": [],
   "source": [
    "def create_transaction_by_remitter(train,Train):\n",
    "  rem_count = Train.groupby('rem_act_no_dummy').count()\n",
    "  train['transaction/remitter'] = train['ID'].apply(lambda x:(train.loc[x,'No_of_transactions']/rem_count.loc[int(x.split(',')[0]),'txn_amt']))\n",
    "  return train"
   ]
  },
  {
   "cell_type": "code",
   "execution_count": 15,
   "metadata": {
    "id": "v2aNraNoMlfN"
   },
   "outputs": [],
   "source": [
    "def create_no_of_txn(train,Train):\n",
    "  count = Train.groupby('Index').count()\n",
    "  train['No_of_transactions'] = train.ID.apply(lambda x: count.loc[x,'txn_amt'])\n",
    "  return train"
   ]
  },
  {
   "cell_type": "code",
   "execution_count": 16,
   "metadata": {
    "id": "kjNIp-YEM7_B"
   },
   "outputs": [],
   "source": [
    "def create_diff_pair_remitter(train,Train):\n",
    "  rem_amount = pd.DataFrame(Train.groupby('rem_act_no_dummy').txn_amt.mean())\n",
    "  train['Diff_pair_remitter'] = train['ID'].apply(lambda x:(train.loc[x,'Average_txn_amount'] - rem_amount.loc[int(x.split(',')[0]),'txn_amt']))\n",
    "  return train"
   ]
  },
  {
   "cell_type": "code",
   "execution_count": 17,
   "metadata": {
    "id": "LgsikfwtM9m0"
   },
   "outputs": [],
   "source": [
    "def create_diff_pair_remitter_var(train,Train):\n",
    "  # IMP: Need a column - 'var_txn_amount' - var of txn amount of rem ben pair\n",
    "  rem_var = pd.DataFrame(Train.groupby('rem_act_no_dummy').txn_amt.var(ddof=0))\n",
    "  rem_var.replace(np.nan,0,inplace = True)\n",
    "  train['Diff_pair_remitter_var'] = train['ID'].apply(lambda x:(train.loc[x,'var_txn_amount'] - rem_var.loc[int(x.split(',')[0]),'txn_amt']))\n",
    "  train['Ratio_pair_remitter_var'] = train['ID'].apply(lambda x:(train.loc[x,'var_txn_amount']/rem_var.loc[int(x.split(',')[0]),'txn_amt']))\n",
    "  return train"
   ]
  },
  {
   "cell_type": "code",
   "execution_count": 18,
   "metadata": {
    "id": "2J2HQxvUSt3m"
   },
   "outputs": [],
   "source": [
    "def drop_wrong_columns(train):\n",
    "  train.drop(['txn_amt','transaction_val_dt'],axis=1,inplace=True)\n",
    "  return train"
   ]
  },
  {
   "cell_type": "code",
   "execution_count": 19,
   "metadata": {
    "id": "d1KKjnsPNGVw"
   },
   "outputs": [],
   "source": [
    "Train = import_Train()"
   ]
  },
  {
   "cell_type": "code",
   "execution_count": 20,
   "metadata": {
    "id": "T8Jaa_WzNNsu"
   },
   "outputs": [],
   "source": [
    "Train = reindex_train(Train)"
   ]
  },
  {
   "cell_type": "code",
   "execution_count": 22,
   "metadata": {
    "colab": {
     "base_uri": "https://localhost:8080/"
    },
    "id": "LKXFIC97NP_F",
    "outputId": "c8cb352f-38c0-459f-d593-bc7be606ac52"
   },
   "outputs": [
    {
     "name": "stderr",
     "output_type": "stream",
     "text": [
      "/usr/local/lib/python3.7/dist-packages/ipykernel_launcher.py:3: SettingWithCopyWarning: \n",
      "A value is trying to be set on a copy of a slice from a DataFrame.\n",
      "Try using .loc[row_indexer,col_indexer] = value instead\n",
      "\n",
      "See the caveats in the documentation: https://pandas.pydata.org/pandas-docs/stable/user_guide/indexing.html#returning-a-view-versus-a-copy\n",
      "  This is separate from the ipykernel package so we can avoid doing imports until\n"
     ]
    }
   ],
   "source": [
    "train = create_train(Train)"
   ]
  },
  {
   "cell_type": "code",
   "execution_count": 23,
   "metadata": {
    "colab": {
     "base_uri": "https://localhost:8080/",
     "height": 235
    },
    "id": "ugUMpqjqNWOq",
    "outputId": "6b13ced2-7de0-44d5-dcd0-164310a844f0"
   },
   "outputs": [
    {
     "data": {
      "text/html": [
       "<div>\n",
       "<style scoped>\n",
       "    .dataframe tbody tr th:only-of-type {\n",
       "        vertical-align: middle;\n",
       "    }\n",
       "\n",
       "    .dataframe tbody tr th {\n",
       "        vertical-align: top;\n",
       "    }\n",
       "\n",
       "    .dataframe thead th {\n",
       "        text-align: right;\n",
       "    }\n",
       "</style>\n",
       "<table border=\"1\" class=\"dataframe\">\n",
       "  <thead>\n",
       "    <tr style=\"text-align: right;\">\n",
       "      <th></th>\n",
       "      <th>txn_refr_key_dummy</th>\n",
       "      <th>rem_company_id_dummy</th>\n",
       "      <th>rem_act_no_dummy</th>\n",
       "      <th>bene_act_no_dummy</th>\n",
       "      <th>txn_amt</th>\n",
       "      <th>transaction_val_dt</th>\n",
       "      <th>txn_type</th>\n",
       "      <th>rem_company_ind</th>\n",
       "      <th>payroll_ind</th>\n",
       "      <th>Year</th>\n",
       "      <th>Month</th>\n",
       "      <th>Day</th>\n",
       "      <th>ID</th>\n",
       "    </tr>\n",
       "    <tr>\n",
       "      <th>Index</th>\n",
       "      <th></th>\n",
       "      <th></th>\n",
       "      <th></th>\n",
       "      <th></th>\n",
       "      <th></th>\n",
       "      <th></th>\n",
       "      <th></th>\n",
       "      <th></th>\n",
       "      <th></th>\n",
       "      <th></th>\n",
       "      <th></th>\n",
       "      <th></th>\n",
       "      <th></th>\n",
       "    </tr>\n",
       "  </thead>\n",
       "  <tbody>\n",
       "    <tr>\n",
       "      <th>5000000, 8000000</th>\n",
       "      <td>1</td>\n",
       "      <td>1000000000</td>\n",
       "      <td>5000000</td>\n",
       "      <td>8000000</td>\n",
       "      <td>1.458730</td>\n",
       "      <td>2020-09-17</td>\n",
       "      <td>CROSS BORDER</td>\n",
       "      <td>Consumer</td>\n",
       "      <td>0</td>\n",
       "      <td>2020</td>\n",
       "      <td>9</td>\n",
       "      <td>17</td>\n",
       "      <td>5000000, 8000000</td>\n",
       "    </tr>\n",
       "    <tr>\n",
       "      <th>5000200, 8000200</th>\n",
       "      <td>4</td>\n",
       "      <td>1000000020</td>\n",
       "      <td>5000200</td>\n",
       "      <td>8000200</td>\n",
       "      <td>1.269716</td>\n",
       "      <td>2020-09-30</td>\n",
       "      <td>CROSS BORDER</td>\n",
       "      <td>Communications</td>\n",
       "      <td>0</td>\n",
       "      <td>2020</td>\n",
       "      <td>9</td>\n",
       "      <td>30</td>\n",
       "      <td>5000200, 8000200</td>\n",
       "    </tr>\n",
       "    <tr>\n",
       "      <th>5000300, 8000300</th>\n",
       "      <td>5</td>\n",
       "      <td>1000000030</td>\n",
       "      <td>5000300</td>\n",
       "      <td>8000300</td>\n",
       "      <td>1.190682</td>\n",
       "      <td>2020-09-22</td>\n",
       "      <td>CROSS BORDER</td>\n",
       "      <td>Industrials</td>\n",
       "      <td>0</td>\n",
       "      <td>2020</td>\n",
       "      <td>9</td>\n",
       "      <td>22</td>\n",
       "      <td>5000300, 8000300</td>\n",
       "    </tr>\n",
       "    <tr>\n",
       "      <th>5000500, 8000500</th>\n",
       "      <td>7</td>\n",
       "      <td>1000000050</td>\n",
       "      <td>5000500</td>\n",
       "      <td>8000500</td>\n",
       "      <td>5.657271</td>\n",
       "      <td>2020-09-29</td>\n",
       "      <td>CROSS BORDER</td>\n",
       "      <td>Technology</td>\n",
       "      <td>0</td>\n",
       "      <td>2020</td>\n",
       "      <td>9</td>\n",
       "      <td>29</td>\n",
       "      <td>5000500, 8000500</td>\n",
       "    </tr>\n",
       "    <tr>\n",
       "      <th>5000200, 8000600</th>\n",
       "      <td>8</td>\n",
       "      <td>1000000020</td>\n",
       "      <td>5000200</td>\n",
       "      <td>8000600</td>\n",
       "      <td>1.239628</td>\n",
       "      <td>2020-09-29</td>\n",
       "      <td>CROSS BORDER</td>\n",
       "      <td>Communications</td>\n",
       "      <td>0</td>\n",
       "      <td>2020</td>\n",
       "      <td>9</td>\n",
       "      <td>29</td>\n",
       "      <td>5000200, 8000600</td>\n",
       "    </tr>\n",
       "  </tbody>\n",
       "</table>\n",
       "</div>"
      ],
      "text/plain": [
       "                  txn_refr_key_dummy  ...                ID\n",
       "Index                                 ...                  \n",
       "5000000, 8000000                   1  ...  5000000, 8000000\n",
       "5000200, 8000200                   4  ...  5000200, 8000200\n",
       "5000300, 8000300                   5  ...  5000300, 8000300\n",
       "5000500, 8000500                   7  ...  5000500, 8000500\n",
       "5000200, 8000600                   8  ...  5000200, 8000600\n",
       "\n",
       "[5 rows x 13 columns]"
      ]
     },
     "execution_count": 23,
     "metadata": {
      "tags": []
     },
     "output_type": "execute_result"
    }
   ],
   "source": [
    "train.head()"
   ]
  },
  {
   "cell_type": "code",
   "execution_count": 24,
   "metadata": {
    "colab": {
     "base_uri": "https://localhost:8080/"
    },
    "id": "eL4vhyCnN1VM",
    "outputId": "04b1ce3d-36df-4ac6-faad-1dd4f86692c9"
   },
   "outputs": [
    {
     "name": "stderr",
     "output_type": "stream",
     "text": [
      "/usr/local/lib/python3.7/dist-packages/pandas/core/frame.py:4389: SettingWithCopyWarning: \n",
      "A value is trying to be set on a copy of a slice from a DataFrame\n",
      "\n",
      "See the caveats in the documentation: https://pandas.pydata.org/pandas-docs/stable/user_guide/indexing.html#returning-a-view-versus-a-copy\n",
      "  method=method,\n",
      "/usr/local/lib/python3.7/dist-packages/pandas/core/indexing.py:1763: SettingWithCopyWarning: \n",
      "A value is trying to be set on a copy of a slice from a DataFrame.\n",
      "Try using .loc[row_indexer,col_indexer] = value instead\n",
      "\n",
      "See the caveats in the documentation: https://pandas.pydata.org/pandas-docs/stable/user_guide/indexing.html#returning-a-view-versus-a-copy\n",
      "  isetter(loc, value)\n"
     ]
    }
   ],
   "source": [
    "train = create_txn_type_num(train,Train)"
   ]
  },
  {
   "cell_type": "code",
   "execution_count": 25,
   "metadata": {
    "colab": {
     "base_uri": "https://localhost:8080/"
    },
    "id": "h2oiyZI6N7mW",
    "outputId": "492fcc0f-ce20-4b13-b176-671e587bc71d"
   },
   "outputs": [
    {
     "data": {
      "text/plain": [
       "0.000000    194545\n",
       "1.000000    188188\n",
       "0.500000        18\n",
       "0.750000        10\n",
       "0.666667         9\n",
       "0.857143         5\n",
       "0.833333         5\n",
       "0.800000         4\n",
       "0.875000         3\n",
       "0.600000         2\n",
       "0.909091         2\n",
       "0.777778         1\n",
       "0.901961         1\n",
       "0.941176         1\n",
       "0.615385         1\n",
       "Name: txn_type, dtype: int64"
      ]
     },
     "execution_count": 25,
     "metadata": {
      "tags": []
     },
     "output_type": "execute_result"
    }
   ],
   "source": [
    "train.txn_type.value_counts()"
   ]
  },
  {
   "cell_type": "code",
   "execution_count": 26,
   "metadata": {
    "colab": {
     "base_uri": "https://localhost:8080/"
    },
    "id": "XE4ooOU-OMez",
    "outputId": "91ead249-616f-4198-8c50-d58711b7e886"
   },
   "outputs": [
    {
     "name": "stderr",
     "output_type": "stream",
     "text": [
      "/usr/local/lib/python3.7/dist-packages/ipykernel_launcher.py:4: SettingWithCopyWarning: \n",
      "A value is trying to be set on a copy of a slice from a DataFrame.\n",
      "Try using .loc[row_indexer,col_indexer] = value instead\n",
      "\n",
      "See the caveats in the documentation: https://pandas.pydata.org/pandas-docs/stable/user_guide/indexing.html#returning-a-view-versus-a-copy\n",
      "  after removing the cwd from sys.path.\n"
     ]
    }
   ],
   "source": [
    "train = create_rem_company_ind(train,Train)"
   ]
  },
  {
   "cell_type": "code",
   "execution_count": 27,
   "metadata": {
    "colab": {
     "base_uri": "https://localhost:8080/"
    },
    "id": "vvIfVI_XOYD7",
    "outputId": "a9120ba0-d13f-49cc-c4e1-b7ea4394a578"
   },
   "outputs": [
    {
     "name": "stderr",
     "output_type": "stream",
     "text": [
      "/usr/local/lib/python3.7/dist-packages/ipykernel_launcher.py:3: SettingWithCopyWarning: \n",
      "A value is trying to be set on a copy of a slice from a DataFrame.\n",
      "Try using .loc[row_indexer,col_indexer] = value instead\n",
      "\n",
      "See the caveats in the documentation: https://pandas.pydata.org/pandas-docs/stable/user_guide/indexing.html#returning-a-view-versus-a-copy\n",
      "  This is separate from the ipykernel package so we can avoid doing imports until\n"
     ]
    }
   ],
   "source": [
    "train = create_avg_txn_amt(train,Train)"
   ]
  },
  {
   "cell_type": "code",
   "execution_count": 28,
   "metadata": {
    "colab": {
     "base_uri": "https://localhost:8080/"
    },
    "id": "1POZTTeFROmr",
    "outputId": "57b3b625-b9c9-4973-8385-4c1a92e1a3e4"
   },
   "outputs": [
    {
     "name": "stderr",
     "output_type": "stream",
     "text": [
      "/usr/local/lib/python3.7/dist-packages/ipykernel_launcher.py:3: SettingWithCopyWarning: \n",
      "A value is trying to be set on a copy of a slice from a DataFrame.\n",
      "Try using .loc[row_indexer,col_indexer] = value instead\n",
      "\n",
      "See the caveats in the documentation: https://pandas.pydata.org/pandas-docs/stable/user_guide/indexing.html#returning-a-view-versus-a-copy\n",
      "  This is separate from the ipykernel package so we can avoid doing imports until\n"
     ]
    }
   ],
   "source": [
    "train = create_no_of_txn(train,Train)"
   ]
  },
  {
   "cell_type": "code",
   "execution_count": 29,
   "metadata": {
    "colab": {
     "base_uri": "https://localhost:8080/"
    },
    "id": "J74VVowNO5kB",
    "outputId": "b6c1ca58-8427-4fc5-87ed-4cd3fe570dec"
   },
   "outputs": [
    {
     "name": "stderr",
     "output_type": "stream",
     "text": [
      "/usr/local/lib/python3.7/dist-packages/ipykernel_launcher.py:3: SettingWithCopyWarning: \n",
      "A value is trying to be set on a copy of a slice from a DataFrame.\n",
      "Try using .loc[row_indexer,col_indexer] = value instead\n",
      "\n",
      "See the caveats in the documentation: https://pandas.pydata.org/pandas-docs/stable/user_guide/indexing.html#returning-a-view-versus-a-copy\n",
      "  This is separate from the ipykernel package so we can avoid doing imports until\n"
     ]
    }
   ],
   "source": [
    "train = create_transaction_by_remitter(train,Train)"
   ]
  },
  {
   "cell_type": "code",
   "execution_count": 30,
   "metadata": {
    "colab": {
     "base_uri": "https://localhost:8080/"
    },
    "id": "GxgP0c12PU6z",
    "outputId": "cd9015c6-da54-4d72-ee37-228d4cbcfbd9"
   },
   "outputs": [
    {
     "name": "stderr",
     "output_type": "stream",
     "text": [
      "/usr/local/lib/python3.7/dist-packages/ipykernel_launcher.py:3: SettingWithCopyWarning: \n",
      "A value is trying to be set on a copy of a slice from a DataFrame.\n",
      "Try using .loc[row_indexer,col_indexer] = value instead\n",
      "\n",
      "See the caveats in the documentation: https://pandas.pydata.org/pandas-docs/stable/user_guide/indexing.html#returning-a-view-versus-a-copy\n",
      "  This is separate from the ipykernel package so we can avoid doing imports until\n"
     ]
    }
   ],
   "source": [
    "train = create_diff_pair_remitter(train,Train)"
   ]
  },
  {
   "cell_type": "code",
   "execution_count": null,
   "metadata": {
    "id": "a29X4yd-TRkZ"
   },
   "outputs": [],
   "source": [
    "train = create_var_txn_amount(train,Train)"
   ]
  },
  {
   "cell_type": "code",
   "execution_count": null,
   "metadata": {
    "id": "G55i8i_6PjTw"
   },
   "outputs": [],
   "source": [
    "train = create_diff_pair_remitter_var(train,Train)"
   ]
  },
  {
   "cell_type": "code",
   "execution_count": null,
   "metadata": {
    "id": "qUiWig_bS_au"
   },
   "outputs": [],
   "source": [
    "train = drop_wrong_columns(train)"
   ]
  },
  {
   "cell_type": "code",
   "execution_count": null,
   "metadata": {
    "id": "mSJiWrTxUCwG"
   },
   "outputs": [],
   "source": [
    "train.head()"
   ]
  },
  {
   "cell_type": "code",
   "execution_count": null,
   "metadata": {
    "id": "WC40Sc0zPtJy"
   },
   "outputs": [],
   "source": [
    "train.to_csv('Ashwin.csv')"
   ]
  },
  {
   "cell_type": "code",
   "execution_count": null,
   "metadata": {
    "colab": {
     "base_uri": "https://localhost:8080/",
     "height": 17
    },
    "id": "BZkbKib4RZ7T",
    "outputId": "d58d5a32-c2b2-4945-d264-2d627ea905a3"
   },
   "outputs": [
    {
     "data": {
      "application/javascript": [
       "\n",
       "    async function download(id, filename, size) {\n",
       "      if (!google.colab.kernel.accessAllowed) {\n",
       "        return;\n",
       "      }\n",
       "      const div = document.createElement('div');\n",
       "      const label = document.createElement('label');\n",
       "      label.textContent = `Downloading \"${filename}\": `;\n",
       "      div.appendChild(label);\n",
       "      const progress = document.createElement('progress');\n",
       "      progress.max = size;\n",
       "      div.appendChild(progress);\n",
       "      document.body.appendChild(div);\n",
       "\n",
       "      const buffers = [];\n",
       "      let downloaded = 0;\n",
       "\n",
       "      const channel = await google.colab.kernel.comms.open(id);\n",
       "      // Send a message to notify the kernel that we're ready.\n",
       "      channel.send({})\n",
       "\n",
       "      for await (const message of channel.messages) {\n",
       "        // Send a message to notify the kernel that we're ready.\n",
       "        channel.send({})\n",
       "        if (message.buffers) {\n",
       "          for (const buffer of message.buffers) {\n",
       "            buffers.push(buffer);\n",
       "            downloaded += buffer.byteLength;\n",
       "            progress.value = downloaded;\n",
       "          }\n",
       "        }\n",
       "      }\n",
       "      const blob = new Blob(buffers, {type: 'application/binary'});\n",
       "      const a = document.createElement('a');\n",
       "      a.href = window.URL.createObjectURL(blob);\n",
       "      a.download = filename;\n",
       "      div.appendChild(a);\n",
       "      a.click();\n",
       "      div.remove();\n",
       "    }\n",
       "  "
      ],
      "text/plain": [
       "<IPython.core.display.Javascript object>"
      ]
     },
     "metadata": {
      "tags": []
     },
     "output_type": "display_data"
    },
    {
     "data": {
      "application/javascript": [
       "download(\"download_e8f26f0a-ce09-4a30-9f64-1a080057d139\", \"Ashwin.csv\", 78766936)"
      ],
      "text/plain": [
       "<IPython.core.display.Javascript object>"
      ]
     },
     "metadata": {
      "tags": []
     },
     "output_type": "display_data"
    }
   ],
   "source": [
    "from google.colab import files\n",
    "files.download('Ashwin.csv')"
   ]
  },
  {
   "cell_type": "code",
   "execution_count": null,
   "metadata": {
    "id": "BbFmLznVU5Gq"
   },
   "outputs": [],
   "source": []
  }
 ],
 "metadata": {
  "colab": {
   "collapsed_sections": [],
   "name": "Citi_Functions_Ashwin.ipynb",
   "provenance": []
  },
  "kernelspec": {
   "display_name": "Python 3",
   "language": "python",
   "name": "python3"
  },
  "language_info": {
   "codemirror_mode": {
    "name": "ipython",
    "version": 3
   },
   "file_extension": ".py",
   "mimetype": "text/x-python",
   "name": "python",
   "nbconvert_exporter": "python",
   "pygments_lexer": "ipython3",
   "version": "3.8.8"
  }
 },
 "nbformat": 4,
 "nbformat_minor": 1
}
