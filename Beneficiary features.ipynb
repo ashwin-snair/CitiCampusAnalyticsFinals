{
 "cells": [
  {
   "cell_type": "code",
   "execution_count": 1,
   "metadata": {},
   "outputs": [],
   "source": [
    "import numpy as np\n",
    "import pandas as pd\n",
    "import matplotlib.pyplot as plt\n",
    "from scipy.stats import chi2_contingency\n",
    "from sklearn.metrics import matthews_corrcoef\n",
    "from math import sqrt"
   ]
  },
  {
   "cell_type": "code",
   "execution_count": 2,
   "metadata": {},
   "outputs": [
    {
     "name": "stderr",
     "output_type": "stream",
     "text": [
      "C:\\Users\\nithy\\Anaconda3\\lib\\site-packages\\numpy\\lib\\arraysetops.py:569: FutureWarning: elementwise comparison failed; returning scalar instead, but in the future will perform elementwise comparison\n",
      "  mask |= (ar1 == a)\n"
     ]
    }
   ],
   "source": [
    "train = pd.read_csv('D:/_Citi Hackathon/Dataset/Train.csv', index_col=[0])\n",
    "test = pd.read_csv('D:/_Citi Hackathon/Dataset/Test_fin.csv', index_col=0)"
   ]
  },
  {
   "cell_type": "code",
   "execution_count": 3,
   "metadata": {},
   "outputs": [],
   "source": [
    "def date_formatting(data):\n",
    "    '''\n",
    "    Converts date from str to datetime, adds DD column\n",
    "    Input:\n",
    "    -------\n",
    "    data: raw test/train data\n",
    "    ''' \n",
    "    data['transaction_val_dt'] = pd.to_datetime(data['transaction_val_dt'], format='%Y-%m-%d') \n",
    "    data['transaction_DD'] = data['transaction_val_dt'].apply(lambda x: int(x.day))\n",
    "#     data['transaction_val_dt'] = data['transaction_val_dt'] - min(data['transaction_val_dt'])\n",
    "    data.drop('yearmonth', axis=1, inplace=True)\n",
    "    ## Q: should we remove duplicates and add a column or not?"
   ]
  },
  {
   "cell_type": "code",
   "execution_count": 4,
   "metadata": {},
   "outputs": [],
   "source": [
    "def add_bene_features(data):\n",
    "    '''\n",
    "    Creates beneficiary related features\n",
    "    Input:\n",
    "    -------\n",
    "    data: train/test data with DD column added  \n",
    "    '''  \n",
    "    bene = data.groupby('bene_act_no_dummy')\n",
    "\n",
    "    plt.figure(figsize=(15,10))\n",
    "    plt.hist(bene['payroll_ind'].count(), bins=50)\n",
    "    plt.show()\n",
    "\n",
    "    # number of industries bene is mapped to\n",
    "    bene_ind_c = bene['rem_company_ind'].nunique()\n",
    "    data['bene_ind_count'] = bene_ind_c[data.bene_act_no_dummy].values    \n",
    "\n",
    "    # DD abs difference with mean DD\n",
    "    bene_DD_mean = bene['transaction_DD'].mean()\n",
    "    data['bene_DD_mean_diff'] = abs(bene_DD_mean[data.bene_act_no_dummy].values - data['transaction_DD'])\n",
    "    \n",
    "    # diff of mean txn_amount for bene\n",
    "    bene_txn = bene['txn_amt'].mean()\n",
    "    data['avg_bene_txn_diff'] = data['txn_amt'] - bene_txn[data.bene_act_no_dummy].values\n",
    "    "
   ]
  },
  {
   "cell_type": "code",
   "execution_count": 5,
   "metadata": {},
   "outputs": [
    {
     "data": {
      "image/png": "[encoded data removed]",
      "text/plain": [
       "<Figure size 1080x720 with 1 Axes>"
      ]
     },
     "metadata": {
      "needs_background": "light"
     },
     "output_type": "display_data"
    }
   ],
   "source": [
    "date_formatting(train)\n",
    "add_bene_features(train)"
   ]
  },
  {
   "cell_type": "code",
   "execution_count": 6,
   "metadata": {},
   "outputs": [
    {
     "data": {
      "text/html": [
       "<div>\n",
       "<style scoped>\n",
       "    .dataframe tbody tr th:only-of-type {\n",
       "        vertical-align: middle;\n",
       "    }\n",
       "\n",
       "    .dataframe tbody tr th {\n",
       "        vertical-align: top;\n",
       "    }\n",
       "\n",
       "    .dataframe thead th {\n",
       "        text-align: right;\n",
       "    }\n",
       "</style>\n",
       "<table border=\"1\" class=\"dataframe\">\n",
       "  <thead>\n",
       "    <tr style=\"text-align: right;\">\n",
       "      <th></th>\n",
       "      <th>rem_company_id_dummy</th>\n",
       "      <th>rem_act_no_dummy</th>\n",
       "      <th>bene_act_no_dummy</th>\n",
       "      <th>txn_amt</th>\n",
       "      <th>transaction_val_dt</th>\n",
       "      <th>txn_type</th>\n",
       "      <th>rem_company_ind</th>\n",
       "      <th>payroll_ind</th>\n",
       "      <th>transaction_DD</th>\n",
       "      <th>bene_ind_count</th>\n",
       "      <th>bene_DD_mean_diff</th>\n",
       "      <th>avg_bene_txn_diff</th>\n",
       "    </tr>\n",
       "    <tr>\n",
       "      <th>txn_refr_key_dummy</th>\n",
       "      <th></th>\n",
       "      <th></th>\n",
       "      <th></th>\n",
       "      <th></th>\n",
       "      <th></th>\n",
       "      <th></th>\n",
       "      <th></th>\n",
       "      <th></th>\n",
       "      <th></th>\n",
       "      <th></th>\n",
       "      <th></th>\n",
       "      <th></th>\n",
       "    </tr>\n",
       "  </thead>\n",
       "  <tbody>\n",
       "    <tr>\n",
       "      <td>1</td>\n",
       "      <td>1000000000</td>\n",
       "      <td>5000000</td>\n",
       "      <td>8000000</td>\n",
       "      <td>1.458730</td>\n",
       "      <td>2020-09-17</td>\n",
       "      <td>CROSS BORDER</td>\n",
       "      <td>Consumer</td>\n",
       "      <td>0</td>\n",
       "      <td>17</td>\n",
       "      <td>1</td>\n",
       "      <td>5.666667</td>\n",
       "      <td>-0.021845</td>\n",
       "    </tr>\n",
       "    <tr>\n",
       "      <td>4</td>\n",
       "      <td>1000000020</td>\n",
       "      <td>5000200</td>\n",
       "      <td>8000200</td>\n",
       "      <td>1.269716</td>\n",
       "      <td>2020-09-30</td>\n",
       "      <td>CROSS BORDER</td>\n",
       "      <td>Communications</td>\n",
       "      <td>0</td>\n",
       "      <td>30</td>\n",
       "      <td>1</td>\n",
       "      <td>0.333333</td>\n",
       "      <td>0.000794</td>\n",
       "    </tr>\n",
       "    <tr>\n",
       "      <td>5</td>\n",
       "      <td>1000000030</td>\n",
       "      <td>5000300</td>\n",
       "      <td>8000300</td>\n",
       "      <td>1.190682</td>\n",
       "      <td>2020-09-22</td>\n",
       "      <td>CROSS BORDER</td>\n",
       "      <td>Industrials</td>\n",
       "      <td>0</td>\n",
       "      <td>22</td>\n",
       "      <td>1</td>\n",
       "      <td>0.000000</td>\n",
       "      <td>0.000000</td>\n",
       "    </tr>\n",
       "    <tr>\n",
       "      <td>7</td>\n",
       "      <td>1000000050</td>\n",
       "      <td>5000500</td>\n",
       "      <td>8000500</td>\n",
       "      <td>5.657271</td>\n",
       "      <td>2020-09-29</td>\n",
       "      <td>CROSS BORDER</td>\n",
       "      <td>Technology</td>\n",
       "      <td>0</td>\n",
       "      <td>29</td>\n",
       "      <td>1</td>\n",
       "      <td>10.857143</td>\n",
       "      <td>0.296643</td>\n",
       "    </tr>\n",
       "    <tr>\n",
       "      <td>8</td>\n",
       "      <td>1000000020</td>\n",
       "      <td>5000200</td>\n",
       "      <td>8000600</td>\n",
       "      <td>1.239628</td>\n",
       "      <td>2020-09-29</td>\n",
       "      <td>CROSS BORDER</td>\n",
       "      <td>Communications</td>\n",
       "      <td>0</td>\n",
       "      <td>29</td>\n",
       "      <td>1</td>\n",
       "      <td>0.200000</td>\n",
       "      <td>-0.011784</td>\n",
       "    </tr>\n",
       "  </tbody>\n",
       "</table>\n",
       "</div>"
      ],
      "text/plain": [
       "                    rem_company_id_dummy  rem_act_no_dummy  bene_act_no_dummy  \\\n",
       "txn_refr_key_dummy                                                              \n",
       "1                             1000000000           5000000            8000000   \n",
       "4                             1000000020           5000200            8000200   \n",
       "5                             1000000030           5000300            8000300   \n",
       "7                             1000000050           5000500            8000500   \n",
       "8                             1000000020           5000200            8000600   \n",
       "\n",
       "                     txn_amt transaction_val_dt      txn_type rem_company_ind  \\\n",
       "txn_refr_key_dummy                                                              \n",
       "1                   1.458730         2020-09-17  CROSS BORDER        Consumer   \n",
       "4                   1.269716         2020-09-30  CROSS BORDER  Communications   \n",
       "5                   1.190682         2020-09-22  CROSS BORDER     Industrials   \n",
       "7                   5.657271         2020-09-29  CROSS BORDER      Technology   \n",
       "8                   1.239628         2020-09-29  CROSS BORDER  Communications   \n",
       "\n",
       "                    payroll_ind  transaction_DD  bene_ind_count  \\\n",
       "txn_refr_key_dummy                                                \n",
       "1                             0              17               1   \n",
       "4                             0              30               1   \n",
       "5                             0              22               1   \n",
       "7                             0              29               1   \n",
       "8                             0              29               1   \n",
       "\n",
       "                    bene_DD_mean_diff  avg_bene_txn_diff  \n",
       "txn_refr_key_dummy                                        \n",
       "1                            5.666667          -0.021845  \n",
       "4                            0.333333           0.000794  \n",
       "5                            0.000000           0.000000  \n",
       "7                           10.857143           0.296643  \n",
       "8                            0.200000          -0.011784  "
      ]
     },
     "execution_count": 6,
     "metadata": {},
     "output_type": "execute_result"
    }
   ],
   "source": [
    "train.head()"
   ]
  },
  {
   "cell_type": "code",
   "execution_count": null,
   "metadata": {},
   "outputs": [],
   "source": [
    "np.unique(train.rem_company_ind)"
   ]
  },
  {
   "cell_type": "markdown",
   "metadata": {},
   "source": [
    "## ignore beyond this "
   ]
  },
  {
   "cell_type": "code",
   "execution_count": 9,
   "metadata": {},
   "outputs": [],
   "source": [
    "bene = train.groupby('bene_act_no_dummy')\n",
    "n_bene = len(np.unique(train['bene_act_no_dummy']))"
   ]
  },
  {
   "cell_type": "code",
   "execution_count": 5,
   "metadata": {},
   "outputs": [
    {
     "data": {
      "image/png": "[encoded data removed]",
      "text/plain": [
       "<Figure size 1080x720 with 1 Axes>"
      ]
     },
     "metadata": {
      "needs_background": "light"
     },
     "output_type": "display_data"
    }
   ],
   "source": [
    "plt.figure(figsize=(15,10))\n",
    "plt.hist(bene['payroll_ind'].count(), bins=50)\n",
    "plt.show()"
   ]
  },
  {
   "cell_type": "markdown",
   "metadata": {},
   "source": [
    "### industry map"
   ]
  },
  {
   "cell_type": "code",
   "execution_count": 6,
   "metadata": {},
   "outputs": [
    {
     "data": {
      "text/plain": [
       "(array([ 1,  2,  3,  4,  5,  6,  7,  8,  9, 10], dtype=int64),\n",
       " array([360984,   6008,    243,     32,     15,      6,      4,      5,\n",
       "             1,      1], dtype=int64))"
      ]
     },
     "execution_count": 6,
     "metadata": {},
     "output_type": "execute_result"
    }
   ],
   "source": [
    "# print(np.unique(bene['rem_company_ind'].nunique(), return_counts=True))\n",
    "# 360984/n_bene\n",
    "# multi_ind_bene = bene.filter(lambda x : x['rem_company_ind'].nunique()>1)\n",
    "# multi_ind_bene.groupby('bene_act_no_dummy')['payroll_ind'].unique()"
   ]
  },
  {
   "cell_type": "code",
   "execution_count": 8,
   "metadata": {},
   "outputs": [],
   "source": [
    "bene_ind_c = bene['rem_company_ind'].nunique()\n",
    "train['bene_ind_count'] = bene_ind_c[train.bene_act_no_dummy].values"
   ]
  },
  {
   "cell_type": "markdown",
   "metadata": {},
   "source": [
    "### bene mode(date)-txn_date "
   ]
  },
  {
   "cell_type": "code",
   "execution_count": 38,
   "metadata": {},
   "outputs": [],
   "source": [
    "# bene_date\n",
    "bene_DD_mean = bene['transaction_DD'].mean()\n",
    "train['bene_DD_mode_diff'] = abs(bene_DD_mean[train.bene_act_no_dummy].values - train['transaction_DD']) "
   ]
  },
  {
   "cell_type": "code",
   "execution_count": 36,
   "metadata": {},
   "outputs": [
    {
     "data": {
      "text/plain": [
       "count    121939.000000\n",
       "mean         18.637720\n",
       "std           6.695062\n",
       "min           1.000000\n",
       "25%          14.000000\n",
       "50%          21.000000\n",
       "75%          23.000000\n",
       "max          31.000000\n",
       "Name: transaction_DD, dtype: float64"
      ]
     },
     "execution_count": 36,
     "metadata": {},
     "output_type": "execute_result"
    }
   ],
   "source": [
    "(train[train['payroll_ind']==1]['transaction_DD']).describe()"
   ]
  },
  {
   "cell_type": "code",
   "execution_count": 37,
   "metadata": {},
   "outputs": [
    {
     "data": {
      "text/plain": [
       "count    1.308694e+06\n",
       "mean     1.879849e+01\n",
       "std      9.195570e+00\n",
       "min      1.000000e+00\n",
       "25%      1.100000e+01\n",
       "50%      2.100000e+01\n",
       "75%      2.900000e+01\n",
       "max      3.100000e+01\n",
       "Name: transaction_DD, dtype: float64"
      ]
     },
     "execution_count": 37,
     "metadata": {},
     "output_type": "execute_result"
    }
   ],
   "source": [
    "(train[train['payroll_ind']==0]['transaction_DD']).describe()"
   ]
  },
  {
   "cell_type": "markdown",
   "metadata": {},
   "source": [
    "### Txn amount avg "
   ]
  },
  {
   "cell_type": "code",
   "execution_count": 11,
   "metadata": {},
   "outputs": [],
   "source": [
    "bene_txn = bene['txn_amt'].mean()\n",
    "train['avg_bene_txn_diff'] = train['txn_amt'] - bene_txn[train.bene_act_no_dummy].values"
   ]
  },
  {
   "cell_type": "markdown",
   "metadata": {},
   "source": [
    "### company map "
   ]
  },
  {
   "cell_type": "code",
   "execution_count": 9,
   "metadata": {},
   "outputs": [],
   "source": [
    "bene_comp_c = bene['rem_company_id_dummy'].nunique()\n",
    "train['bene_comp_count'] = bene_comp_c[train.bene_act_no_dummy].values"
   ]
  },
  {
   "cell_type": "markdown",
   "metadata": {},
   "source": [
    "# # # "
   ]
  },
  {
   "cell_type": "code",
   "execution_count": 10,
   "metadata": {},
   "outputs": [],
   "source": [
    "delta = (bene['transaction_val_dt'].max()-bene['transaction_val_dt'].min()).apply(lambda x: x.days)\n",
    "avgTxnGap = delta/(bene.count()['payroll_ind']-1)"
   ]
  },
  {
   "cell_type": "code",
   "execution_count": 11,
   "metadata": {},
   "outputs": [
    {
     "data": {
      "text/plain": [
       "bene_act_no_dummy\n",
       "8000000     58.5\n",
       "8000200     30.5\n",
       "8000300      NaN\n",
       "8000500     24.5\n",
       "8000600     30.5\n",
       "            ... \n",
       "74587500     NaN\n",
       "74587600     NaN\n",
       "74587700     NaN\n",
       "74587800     NaN\n",
       "74587900     NaN\n",
       "Length: 367299, dtype: float64"
      ]
     },
     "execution_count": 11,
     "metadata": {},
     "output_type": "execute_result"
    }
   ],
   "source": [
    "avgTxnGap"
   ]
  },
  {
   "cell_type": "code",
   "execution_count": 12,
   "metadata": {},
   "outputs": [
    {
     "data": {
      "text/plain": [
       "bene_act_no_dummy\n",
       "8000000     117\n",
       "8000200      61\n",
       "8000300       0\n",
       "8000500     147\n",
       "8000600     122\n",
       "           ... \n",
       "74587500      0\n",
       "74587600      0\n",
       "74587700      0\n",
       "74587800      0\n",
       "74587900      0\n",
       "Name: transaction_val_dt, Length: 367299, dtype: int64"
      ]
     },
     "execution_count": 12,
     "metadata": {},
     "output_type": "execute_result"
    }
   ],
   "source": [
    "delta"
   ]
  },
  {
   "cell_type": "code",
   "execution_count": 22,
   "metadata": {},
   "outputs": [],
   "source": [
    "pair_train = pd.read_csv('D:/_Citi Hackathon/Dataset/groupDF.csv', index_col=0)"
   ]
  },
  {
   "cell_type": "code",
   "execution_count": 26,
   "metadata": {},
   "outputs": [],
   "source": [
    "pair_train['bene_act_no_dummy'] = pd.Series(pair_train.index).apply(lambda x:int(x.split(',')[1][:-1])).values"
   ]
  },
  {
   "cell_type": "code",
   "execution_count": 29,
   "metadata": {},
   "outputs": [
    {
     "data": {
      "text/plain": [
       "1.0"
      ]
     },
     "execution_count": 29,
     "metadata": {},
     "output_type": "execute_result"
    }
   ],
   "source": [
    "len(np.unique(pair_train.bene_act_no_dummy))/len(bene)"
   ]
  },
  {
   "cell_type": "code",
   "execution_count": null,
   "metadata": {},
   "outputs": [],
   "source": []
  }
 ],
 "metadata": {
  "kernelspec": {
   "display_name": "Python 3",
   "language": "python",
   "name": "python3"
  },
  "language_info": {
   "codemirror_mode": {
    "name": "ipython",
    "version": 3
   },
   "file_extension": ".py",
   "mimetype": "text/x-python",
   "name": "python",
   "nbconvert_exporter": "python",
   "pygments_lexer": "ipython3",
   "version": "3.7.4"
  }
 },
 "nbformat": 4,
 "nbformat_minor": 2
}
