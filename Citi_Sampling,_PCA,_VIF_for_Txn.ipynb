{
 "cells": [
  {
   "cell_type": "code",
   "execution_count": 148,
   "metadata": {
    "id": "jsd_BQMEXPAn"
   },
   "outputs": [],
   "source": [
    "import numpy as np\n",
    "import pandas as pd\n",
    "from datetime import datetime\n",
    "import matplotlib.pyplot as plt\n",
    "import pickle\n",
    "from lightgbm import LGBMClassifier\n",
    "from scipy.stats import pointbiserialr, kruskal, ttest_ind, f_oneway, shapiro, mannwhitneyu, levene\n",
    "import os\n",
    "import warnings\n",
    "from sklearn.pipeline import Pipeline\n",
    "from sklearn.model_selection import GridSearchCV\n",
    "from imblearn.under_sampling import RandomUnderSampler, EditedNearestNeighbours, NearMiss, TomekLinks\n",
    "from imblearn.over_sampling import RandomOverSampler, SMOTENC, ADASYN\n",
    "warnings.filterwarnings('ignore')"
   ]
  },
  {
   "cell_type": "code",
   "execution_count": null,
   "metadata": {
    "colab": {
     "base_uri": "https://localhost:8080/"
    },
    "id": "pJbnMEAbsamb",
    "outputId": "f9794aa7-7602-4fc4-82b3-850624e573c1"
   },
   "outputs": [
    {
     "name": "stdout",
     "output_type": "stream",
     "text": [
      "Mounted at /content/drive\n"
     ]
    }
   ],
   "source": [
    "from google.colab import drive\n",
    "drive.mount('/content/drive',force_remount=True)"
   ]
  },
  {
   "cell_type": "code",
   "execution_count": null,
   "metadata": {
    "id": "Svvazhz8sdJV"
   },
   "outputs": [],
   "source": [
    "os.chdir('drive/My Drive')"
   ]
  },
  {
   "cell_type": "code",
   "execution_count": 136,
   "metadata": {
    "id": "kq9xNPTws4qL"
   },
   "outputs": [],
   "source": [
    "train = pd.read_csv('Train_txn.csv',index_col = 0) # Train_txn is available in the drive folder\n",
    "train.drop('rem_company_ind_0',axis=1,inplace=True) #Removing unnecessary column, can ignore if already removed"
   ]
  },
  {
   "cell_type": "code",
   "execution_count": 137,
   "metadata": {
    "id": "40iEm7Ehs-gI"
   },
   "outputs": [],
   "source": [
    "trainX = train.drop('payroll_ind',axis=1)\n",
    "trainY = train.loc[:,'payroll_ind']"
   ]
  },
  {
   "cell_type": "code",
   "execution_count": 146,
   "metadata": {
    "colab": {
     "base_uri": "https://localhost:8080/",
     "height": 850
    },
    "id": "q-pTMm3llq6N",
    "outputId": "e2c7cf04-830a-47fa-ab55-11a4e7004401"
   },
   "outputs": [
    {
     "name": "stdout",
     "output_type": "stream",
     "text": [
      "Fitting 4 folds for each of 6 candidates, totalling 24 fits\n",
      "[Parallel(n_jobs=-1)]: Using backend LokyBackend with 2 concurrent workers.\n",
      "[Parallel(n_jobs=-1)]: Done   1 tasks      | elapsed:    2.1s\n",
      "[Parallel(n_jobs=-1)]: Done   2 tasks      | elapsed:    2.2s\n",
      "[Parallel(n_jobs=-1)]: Done   3 tasks      | elapsed:    2.5s\n",
      "[Parallel(n_jobs=-1)]: Done   4 tasks      | elapsed:    2.7s\n",
      "[Parallel(n_jobs=-1)]: Done   5 tasks      | elapsed:    2.9s\n",
      "[Parallel(n_jobs=-1)]: Done   6 tasks      | elapsed:    3.1s\n",
      "[Parallel(n_jobs=-1)]: Done   7 tasks      | elapsed:    3.3s\n",
      "[Parallel(n_jobs=-1)]: Done   8 tasks      | elapsed:    3.4s\n",
      "[Parallel(n_jobs=-1)]: Done   9 tasks      | elapsed:    3.7s\n",
      "[Parallel(n_jobs=-1)]: Done  10 tasks      | elapsed:    3.8s\n",
      "[Parallel(n_jobs=-1)]: Done  11 tasks      | elapsed:    4.1s\n",
      "[Parallel(n_jobs=-1)]: Done  12 tasks      | elapsed:    4.1s\n",
      "[Parallel(n_jobs=-1)]: Done  13 tasks      | elapsed:    4.5s\n",
      "[Parallel(n_jobs=-1)]: Done  14 tasks      | elapsed:    4.6s\n",
      "[Parallel(n_jobs=-1)]: Done  15 tasks      | elapsed:    4.8s\n",
      "[Parallel(n_jobs=-1)]: Done  16 tasks      | elapsed:    4.9s\n",
      "[Parallel(n_jobs=-1)]: Done  17 tasks      | elapsed:    5.3s\n",
      "[Parallel(n_jobs=-1)]: Done  18 tasks      | elapsed:    5.3s\n",
      "[Parallel(n_jobs=-1)]: Done  19 tasks      | elapsed:    5.6s\n",
      "[Parallel(n_jobs=-1)]: Done  20 tasks      | elapsed:    5.7s\n",
      "[Parallel(n_jobs=-1)]: Done  21 tasks      | elapsed:    6.0s\n",
      "[Parallel(n_jobs=-1)]: Done  22 out of  24 | elapsed:    6.1s remaining:    0.6s\n",
      "[Parallel(n_jobs=-1)]: Done  24 out of  24 | elapsed:    6.4s remaining:    0.0s\n",
      "[Parallel(n_jobs=-1)]: Done  24 out of  24 | elapsed:    6.4s finished\n"
     ]
    },
    {
     "ename": "TypeError",
     "evalue": "ignored",
     "output_type": "error",
     "traceback": [
      "\u001b[0;31m---------------------------------------------------------------------------\u001b[0m",
      "\u001b[0;31mTypeError\u001b[0m                                 Traceback (most recent call last)",
      "\u001b[0;32m<ipython-input-146-bf34042105fb>\u001b[0m in \u001b[0;36m<module>\u001b[0;34m()\u001b[0m\n\u001b[1;32m     36\u001b[0m \u001b[0;34m\u001b[0m\u001b[0m\n\u001b[1;32m     37\u001b[0m \u001b[0msearch\u001b[0m \u001b[0;34m=\u001b[0m \u001b[0mGridSearchCV\u001b[0m\u001b[0;34m(\u001b[0m\u001b[0mpipe\u001b[0m\u001b[0;34m,\u001b[0m \u001b[0mn_jobs\u001b[0m\u001b[0;34m=\u001b[0m\u001b[0;34m-\u001b[0m\u001b[0;36m1\u001b[0m\u001b[0;34m,\u001b[0m \u001b[0mparam_grid\u001b[0m\u001b[0;34m=\u001b[0m\u001b[0mparamGrid\u001b[0m\u001b[0;34m,\u001b[0m \u001b[0mverbose\u001b[0m\u001b[0;34m=\u001b[0m\u001b[0;36m100\u001b[0m\u001b[0;34m,\u001b[0m \u001b[0mcv\u001b[0m\u001b[0;34m=\u001b[0m\u001b[0;36m4\u001b[0m\u001b[0;34m,\u001b[0m \u001b[0mscoring\u001b[0m\u001b[0;34m=\u001b[0m\u001b[0;34m'roc_auc'\u001b[0m\u001b[0;34m)\u001b[0m\u001b[0;34m\u001b[0m\u001b[0;34m\u001b[0m\u001b[0m\n\u001b[0;32m---> 38\u001b[0;31m \u001b[0msearch\u001b[0m\u001b[0;34m.\u001b[0m\u001b[0mfit\u001b[0m\u001b[0;34m(\u001b[0m\u001b[0mtrainX\u001b[0m\u001b[0;34m.\u001b[0m\u001b[0mvalues\u001b[0m\u001b[0;34m,\u001b[0m \u001b[0mtrainY\u001b[0m\u001b[0;34m)\u001b[0m\u001b[0;34m\u001b[0m\u001b[0;34m\u001b[0m\u001b[0m\n\u001b[0m",
      "\u001b[0;32m/usr/local/lib/python3.7/dist-packages/sklearn/model_selection/_search.py\u001b[0m in \u001b[0;36mfit\u001b[0;34m(self, X, y, groups, **fit_params)\u001b[0m\n\u001b[1;32m    734\u001b[0m             \u001b[0;31m# of the params are estimators as well.\u001b[0m\u001b[0;34m\u001b[0m\u001b[0;34m\u001b[0m\u001b[0;34m\u001b[0m\u001b[0m\n\u001b[1;32m    735\u001b[0m             self.best_estimator_ = clone(clone(base_estimator).set_params(\n\u001b[0;32m--> 736\u001b[0;31m                 **self.best_params_))\n\u001b[0m\u001b[1;32m    737\u001b[0m             \u001b[0mrefit_start_time\u001b[0m \u001b[0;34m=\u001b[0m \u001b[0mtime\u001b[0m\u001b[0;34m.\u001b[0m\u001b[0mtime\u001b[0m\u001b[0;34m(\u001b[0m\u001b[0;34m)\u001b[0m\u001b[0;34m\u001b[0m\u001b[0;34m\u001b[0m\u001b[0m\n\u001b[1;32m    738\u001b[0m             \u001b[0;32mif\u001b[0m \u001b[0my\u001b[0m \u001b[0;32mis\u001b[0m \u001b[0;32mnot\u001b[0m \u001b[0;32mNone\u001b[0m\u001b[0;34m:\u001b[0m\u001b[0;34m\u001b[0m\u001b[0;34m\u001b[0m\u001b[0m\n",
      "\u001b[0;32m/usr/local/lib/python3.7/dist-packages/sklearn/base.py\u001b[0m in \u001b[0;36mclone\u001b[0;34m(estimator, safe)\u001b[0m\n\u001b[1;32m     70\u001b[0m     \u001b[0;32mfor\u001b[0m \u001b[0mname\u001b[0m\u001b[0;34m,\u001b[0m \u001b[0mparam\u001b[0m \u001b[0;32min\u001b[0m \u001b[0mnew_object_params\u001b[0m\u001b[0;34m.\u001b[0m\u001b[0mitems\u001b[0m\u001b[0;34m(\u001b[0m\u001b[0;34m)\u001b[0m\u001b[0;34m:\u001b[0m\u001b[0;34m\u001b[0m\u001b[0;34m\u001b[0m\u001b[0m\n\u001b[1;32m     71\u001b[0m         \u001b[0mnew_object_params\u001b[0m\u001b[0;34m[\u001b[0m\u001b[0mname\u001b[0m\u001b[0;34m]\u001b[0m \u001b[0;34m=\u001b[0m \u001b[0mclone\u001b[0m\u001b[0;34m(\u001b[0m\u001b[0mparam\u001b[0m\u001b[0;34m,\u001b[0m \u001b[0msafe\u001b[0m\u001b[0;34m=\u001b[0m\u001b[0;32mFalse\u001b[0m\u001b[0;34m)\u001b[0m\u001b[0;34m\u001b[0m\u001b[0;34m\u001b[0m\u001b[0m\n\u001b[0;32m---> 72\u001b[0;31m     \u001b[0mnew_object\u001b[0m \u001b[0;34m=\u001b[0m \u001b[0mklass\u001b[0m\u001b[0;34m(\u001b[0m\u001b[0;34m**\u001b[0m\u001b[0mnew_object_params\u001b[0m\u001b[0;34m)\u001b[0m\u001b[0;34m\u001b[0m\u001b[0;34m\u001b[0m\u001b[0m\n\u001b[0m\u001b[1;32m     73\u001b[0m     \u001b[0mparams_set\u001b[0m \u001b[0;34m=\u001b[0m \u001b[0mnew_object\u001b[0m\u001b[0;34m.\u001b[0m\u001b[0mget_params\u001b[0m\u001b[0;34m(\u001b[0m\u001b[0mdeep\u001b[0m\u001b[0;34m=\u001b[0m\u001b[0;32mFalse\u001b[0m\u001b[0;34m)\u001b[0m\u001b[0;34m\u001b[0m\u001b[0;34m\u001b[0m\u001b[0m\n\u001b[1;32m     74\u001b[0m \u001b[0;34m\u001b[0m\u001b[0m\n",
      "\u001b[0;32m/usr/local/lib/python3.7/dist-packages/sklearn/pipeline.py\u001b[0m in \u001b[0;36m__init__\u001b[0;34m(self, steps, memory, verbose)\u001b[0m\n\u001b[1;32m    134\u001b[0m         \u001b[0mself\u001b[0m\u001b[0;34m.\u001b[0m\u001b[0mmemory\u001b[0m \u001b[0;34m=\u001b[0m \u001b[0mmemory\u001b[0m\u001b[0;34m\u001b[0m\u001b[0;34m\u001b[0m\u001b[0m\n\u001b[1;32m    135\u001b[0m         \u001b[0mself\u001b[0m\u001b[0;34m.\u001b[0m\u001b[0mverbose\u001b[0m \u001b[0;34m=\u001b[0m \u001b[0mverbose\u001b[0m\u001b[0;34m\u001b[0m\u001b[0;34m\u001b[0m\u001b[0m\n\u001b[0;32m--> 136\u001b[0;31m         \u001b[0mself\u001b[0m\u001b[0;34m.\u001b[0m\u001b[0m_validate_steps\u001b[0m\u001b[0;34m(\u001b[0m\u001b[0;34m)\u001b[0m\u001b[0;34m\u001b[0m\u001b[0;34m\u001b[0m\u001b[0m\n\u001b[0m\u001b[1;32m    137\u001b[0m \u001b[0;34m\u001b[0m\u001b[0m\n\u001b[1;32m    138\u001b[0m     \u001b[0;32mdef\u001b[0m \u001b[0mget_params\u001b[0m\u001b[0;34m(\u001b[0m\u001b[0mself\u001b[0m\u001b[0;34m,\u001b[0m \u001b[0mdeep\u001b[0m\u001b[0;34m=\u001b[0m\u001b[0;32mTrue\u001b[0m\u001b[0;34m)\u001b[0m\u001b[0;34m:\u001b[0m\u001b[0;34m\u001b[0m\u001b[0;34m\u001b[0m\u001b[0m\n",
      "\u001b[0;32m/usr/local/lib/python3.7/dist-packages/sklearn/pipeline.py\u001b[0m in \u001b[0;36m_validate_steps\u001b[0;34m(self)\u001b[0m\n\u001b[1;32m    182\u001b[0m                                 \u001b[0;34m\"transformers and implement fit and transform \"\u001b[0m\u001b[0;34m\u001b[0m\u001b[0;34m\u001b[0m\u001b[0m\n\u001b[1;32m    183\u001b[0m                                 \u001b[0;34m\"or be the string 'passthrough' \"\u001b[0m\u001b[0;34m\u001b[0m\u001b[0;34m\u001b[0m\u001b[0m\n\u001b[0;32m--> 184\u001b[0;31m                                 \"'%s' (type %s) doesn't\" % (t, type(t)))\n\u001b[0m\u001b[1;32m    185\u001b[0m \u001b[0;34m\u001b[0m\u001b[0m\n\u001b[1;32m    186\u001b[0m         \u001b[0;31m# We allow last estimator to be None as an identity transformation\u001b[0m\u001b[0;34m\u001b[0m\u001b[0;34m\u001b[0m\u001b[0;34m\u001b[0m\u001b[0m\n",
      "\u001b[0;31mTypeError\u001b[0m: All intermediate steps should be transformers and implement fit and transform or be the string 'passthrough' 'TomekLinks(n_jobs=1, random_state=None, ratio=None, return_indices=False,\n           sampling_strategy='auto')' (type <class 'imblearn.under_sampling._prototype_selection._tomek_links.TomekLinks'>) doesn't"
     ]
    }
   ],
   "source": [
    "pipe = Pipeline([\n",
    "    ('sampler1', 'passthrough'),\n",
    "    ('sampler2', 'passthrough'),\n",
    "])\n",
    "\n",
    "catCols = ['rem_company_ind_1','rem_company_ind_2','rem_company_ind_3','rem_company_ind_4']\n",
    "catColsInd = [list(trainX.columns).index(c) for c in catCols]\n",
    "\n",
    "paramGrid = [\n",
    "    {\n",
    "    'sampler1': [TomekLinks()],\n",
    "    'sampler2': [ADASYN()],\n",
    "    },\n",
    "    {\n",
    "    'sampler1': [RandomUnderSampler(sampling_strategy=1)],\n",
    "    'sampler2': [ADASYN()],\n",
    "    },\n",
    "    {\n",
    "    'sampler1': [RandomUnderSampler(sampling_strategy=1)],\n",
    "    'sampler2': [SMOTENC(catColsInd)],\n",
    "    },\n",
    "    {\n",
    "    'sampler1': [EditedNearestNeighbours],\n",
    "    'sampler2': [SMOTENC(catColsInd)],\n",
    "    },\n",
    "    {\n",
    "    'sampler1': [TomekLinks()],\n",
    "    'sampler2': [SMOTENC(catColsInd)],\n",
    "    },\n",
    "    {\n",
    "    'sampler1': [RandomUnderSampler(sampling_strategy=1)],\n",
    "    'sampler2': [RandomOverSampler(sampling_strategy=1)],\n",
    "    }\n",
    "]\n",
    "\n",
    "\n",
    "search = GridSearchCV(pipe, n_jobs=-1, param_grid=paramGrid, verbose=100, cv=4, scoring='roc_auc')\n",
    "search.fit(trainX.values, trainY)"
   ]
  },
  {
   "cell_type": "markdown",
   "metadata": {
    "id": "RTU-YahH1iwI"
   },
   "source": [
    "There are combinations of oversampling and undersampling methods that have proven effective and together may be considered resampling techniques.\n",
    "\n",
    "**Two examples are the combination of SMOTE with Tomek Links undersampling and SMOTE with Edited Nearest Neighbors undersampling.**\n",
    "\n",
    "We will add Random undersampling and oversampling to these"
   ]
  },
  {
   "cell_type": "markdown",
   "metadata": {
    "id": "UBx6fXDo2R8U"
   },
   "source": [
    "The key difference between ADASYN and SMOTE is that the former uses a density distribution, as a criterion to automatically decide the number of synthetic samples that must be generated for each minority sample by adaptively changing the weights of the different minority samples"
   ]
  },
  {
   "cell_type": "markdown",
   "metadata": {
    "id": "SlHgDT_T2UUd"
   },
   "source": [
    "Undersampling:\n",
    "1) Random\n",
    "2) EditedNeighbours\n",
    "3) Tomek Links\n",
    "\n",
    "Oversamplning:\n",
    "1)Random\n",
    "2)SMOTENC(Deals with combination of both)\n",
    "3)AdaSyn"
   ]
  },
  {
   "cell_type": "markdown",
   "metadata": {
    "id": "uv5YIMPpIeu5"
   },
   "source": [
    "# PCA"
   ]
  },
  {
   "cell_type": "code",
   "execution_count": 149,
   "metadata": {
    "colab": {
     "base_uri": "https://localhost:8080/",
     "height": 302
    },
    "id": "_WiH1tNwq1Rv",
    "outputId": "18821f66-6896-4b09-dfa4-35b31eedf909"
   },
   "outputs": [
    {
     "data": {
      "text/html": [
       "<div>\n",
       "<style scoped>\n",
       "    .dataframe tbody tr th:only-of-type {\n",
       "        vertical-align: middle;\n",
       "    }\n",
       "\n",
       "    .dataframe tbody tr th {\n",
       "        vertical-align: top;\n",
       "    }\n",
       "\n",
       "    .dataframe thead th {\n",
       "        text-align: right;\n",
       "    }\n",
       "</style>\n",
       "<table border=\"1\" class=\"dataframe\">\n",
       "  <thead>\n",
       "    <tr style=\"text-align: right;\">\n",
       "      <th></th>\n",
       "      <th>rem_company_id_dummy</th>\n",
       "      <th>rem_act_no_dummy</th>\n",
       "      <th>bene_act_no_dummy</th>\n",
       "      <th>txn_amt</th>\n",
       "      <th>txn_type</th>\n",
       "      <th>payroll_ind</th>\n",
       "      <th>dd</th>\n",
       "      <th>comp_n_ind</th>\n",
       "      <th>rem_n_ind</th>\n",
       "      <th>bene_n_ind</th>\n",
       "      <th>comp_dd_diff</th>\n",
       "      <th>rem_dd_diff</th>\n",
       "      <th>bene_dd_diff</th>\n",
       "      <th>comp_txn_diff</th>\n",
       "      <th>rem_txn_diff</th>\n",
       "      <th>bene_txn_diff</th>\n",
       "      <th>time</th>\n",
       "      <th>rem_company_ind_1</th>\n",
       "      <th>rem_company_ind_2</th>\n",
       "      <th>rem_company_ind_3</th>\n",
       "      <th>rem_company_ind_4</th>\n",
       "    </tr>\n",
       "  </thead>\n",
       "  <tbody>\n",
       "    <tr>\n",
       "      <th>count</th>\n",
       "      <td>1.424859e+06</td>\n",
       "      <td>1.424859e+06</td>\n",
       "      <td>1.424859e+06</td>\n",
       "      <td>1.424859e+06</td>\n",
       "      <td>1.424859e+06</td>\n",
       "      <td>1.424859e+06</td>\n",
       "      <td>1.424859e+06</td>\n",
       "      <td>1.424859e+06</td>\n",
       "      <td>1.424859e+06</td>\n",
       "      <td>1.424859e+06</td>\n",
       "      <td>1.424859e+06</td>\n",
       "      <td>1.424859e+06</td>\n",
       "      <td>1.424859e+06</td>\n",
       "      <td>1.424859e+06</td>\n",
       "      <td>1.424859e+06</td>\n",
       "      <td>1.424859e+06</td>\n",
       "      <td>1.424859e+06</td>\n",
       "      <td>1.424859e+06</td>\n",
       "      <td>1.424859e+06</td>\n",
       "      <td>1.424859e+06</td>\n",
       "      <td>1.424859e+06</td>\n",
       "    </tr>\n",
       "    <tr>\n",
       "      <th>mean</th>\n",
       "      <td>-3.971120e+00</td>\n",
       "      <td>-6.099991e+00</td>\n",
       "      <td>1.438618e-01</td>\n",
       "      <td>2.376532e+00</td>\n",
       "      <td>6.428692e-01</td>\n",
       "      <td>8.549618e-02</td>\n",
       "      <td>1.879410e+01</td>\n",
       "      <td>1.002892e+00</td>\n",
       "      <td>1.002072e+00</td>\n",
       "      <td>1.365115e+00</td>\n",
       "      <td>6.023977e+00</td>\n",
       "      <td>5.885368e+00</td>\n",
       "      <td>4.084523e+00</td>\n",
       "      <td>-4.698221e-15</td>\n",
       "      <td>-3.680639e-15</td>\n",
       "      <td>-4.414259e-16</td>\n",
       "      <td>9.087498e+01</td>\n",
       "      <td>1.946508e-02</td>\n",
       "      <td>4.794278e-01</td>\n",
       "      <td>7.317601e-01</td>\n",
       "      <td>3.041592e-01</td>\n",
       "    </tr>\n",
       "    <tr>\n",
       "      <th>std</th>\n",
       "      <td>3.827693e+00</td>\n",
       "      <td>4.800342e+00</td>\n",
       "      <td>2.242566e+00</td>\n",
       "      <td>4.775475e+00</td>\n",
       "      <td>4.791540e-01</td>\n",
       "      <td>2.796187e-01</td>\n",
       "      <td>9.009682e+00</td>\n",
       "      <td>1.442976e-01</td>\n",
       "      <td>1.414430e-01</td>\n",
       "      <td>1.648137e+00</td>\n",
       "      <td>4.497632e+00</td>\n",
       "      <td>4.506281e+00</td>\n",
       "      <td>4.535824e+00</td>\n",
       "      <td>4.174918e+00</td>\n",
       "      <td>3.954452e+00</td>\n",
       "      <td>2.747645e+00</td>\n",
       "      <td>4.989969e+01</td>\n",
       "      <td>1.381528e-01</td>\n",
       "      <td>4.995768e-01</td>\n",
       "      <td>4.430433e-01</td>\n",
       "      <td>4.600506e-01</td>\n",
       "    </tr>\n",
       "    <tr>\n",
       "      <th>min</th>\n",
       "      <td>-9.281269e+00</td>\n",
       "      <td>-1.045921e+01</td>\n",
       "      <td>-8.410976e+00</td>\n",
       "      <td>1.000000e+00</td>\n",
       "      <td>0.000000e+00</td>\n",
       "      <td>0.000000e+00</td>\n",
       "      <td>1.000000e+00</td>\n",
       "      <td>1.000000e+00</td>\n",
       "      <td>1.000000e+00</td>\n",
       "      <td>1.000000e+00</td>\n",
       "      <td>0.000000e+00</td>\n",
       "      <td>0.000000e+00</td>\n",
       "      <td>0.000000e+00</td>\n",
       "      <td>-9.816437e+01</td>\n",
       "      <td>-9.774669e+01</td>\n",
       "      <td>-9.698725e+01</td>\n",
       "      <td>0.000000e+00</td>\n",
       "      <td>0.000000e+00</td>\n",
       "      <td>0.000000e+00</td>\n",
       "      <td>0.000000e+00</td>\n",
       "      <td>0.000000e+00</td>\n",
       "    </tr>\n",
       "    <tr>\n",
       "      <th>25%</th>\n",
       "      <td>-7.364700e+00</td>\n",
       "      <td>-1.045921e+01</td>\n",
       "      <td>-4.026936e-01</td>\n",
       "      <td>1.074075e+00</td>\n",
       "      <td>0.000000e+00</td>\n",
       "      <td>0.000000e+00</td>\n",
       "      <td>1.100000e+01</td>\n",
       "      <td>1.000000e+00</td>\n",
       "      <td>1.000000e+00</td>\n",
       "      <td>1.000000e+00</td>\n",
       "      <td>2.671302e+00</td>\n",
       "      <td>2.458754e+00</td>\n",
       "      <td>2.500000e-01</td>\n",
       "      <td>7.908951e-02</td>\n",
       "      <td>3.633205e-02</td>\n",
       "      <td>-2.991260e-02</td>\n",
       "      <td>5.000000e+01</td>\n",
       "      <td>0.000000e+00</td>\n",
       "      <td>0.000000e+00</td>\n",
       "      <td>0.000000e+00</td>\n",
       "      <td>0.000000e+00</td>\n",
       "    </tr>\n",
       "    <tr>\n",
       "      <th>50%</th>\n",
       "      <td>-3.604513e+00</td>\n",
       "      <td>-8.136405e+00</td>\n",
       "      <td>4.239849e-01</td>\n",
       "      <td>1.173104e+00</td>\n",
       "      <td>1.000000e+00</td>\n",
       "      <td>0.000000e+00</td>\n",
       "      <td>2.100000e+01</td>\n",
       "      <td>1.000000e+00</td>\n",
       "      <td>1.000000e+00</td>\n",
       "      <td>1.000000e+00</td>\n",
       "      <td>4.328698e+00</td>\n",
       "      <td>4.541246e+00</td>\n",
       "      <td>2.000000e+00</td>\n",
       "      <td>4.521927e-01</td>\n",
       "      <td>3.145821e-01</td>\n",
       "      <td>2.101247e-03</td>\n",
       "      <td>9.000000e+01</td>\n",
       "      <td>0.000000e+00</td>\n",
       "      <td>0.000000e+00</td>\n",
       "      <td>1.000000e+00</td>\n",
       "      <td>0.000000e+00</td>\n",
       "    </tr>\n",
       "    <tr>\n",
       "      <th>75%</th>\n",
       "      <td>-3.115952e+00</td>\n",
       "      <td>-2.576426e+00</td>\n",
       "      <td>7.604572e-01</td>\n",
       "      <td>1.835139e+00</td>\n",
       "      <td>1.000000e+00</td>\n",
       "      <td>0.000000e+00</td>\n",
       "      <td>2.800000e+01</td>\n",
       "      <td>1.000000e+00</td>\n",
       "      <td>1.000000e+00</td>\n",
       "      <td>1.000000e+00</td>\n",
       "      <td>9.127015e+00</td>\n",
       "      <td>8.918811e+00</td>\n",
       "      <td>7.050000e+00</td>\n",
       "      <td>7.832628e-01</td>\n",
       "      <td>7.412514e-01</td>\n",
       "      <td>1.067606e-01</td>\n",
       "      <td>1.340000e+02</td>\n",
       "      <td>0.000000e+00</td>\n",
       "      <td>1.000000e+00</td>\n",
       "      <td>1.000000e+00</td>\n",
       "      <td>1.000000e+00</td>\n",
       "    </tr>\n",
       "    <tr>\n",
       "      <th>max</th>\n",
       "      <td>8.449828e+00</td>\n",
       "      <td>9.478957e+00</td>\n",
       "      <td>5.896256e+00</td>\n",
       "      <td>9.997540e+01</td>\n",
       "      <td>1.000000e+00</td>\n",
       "      <td>1.000000e+00</td>\n",
       "      <td>3.100000e+01</td>\n",
       "      <td>1.100000e+01</td>\n",
       "      <td>1.100000e+01</td>\n",
       "      <td>1.000000e+01</td>\n",
       "      <td>2.695363e+01</td>\n",
       "      <td>2.822785e+01</td>\n",
       "      <td>2.640000e+01</td>\n",
       "      <td>6.901192e+01</td>\n",
       "      <td>6.591532e+01</td>\n",
       "      <td>6.676177e+01</td>\n",
       "      <td>1.790000e+02</td>\n",
       "      <td>1.000000e+00</td>\n",
       "      <td>1.000000e+00</td>\n",
       "      <td>1.000000e+00</td>\n",
       "      <td>1.000000e+00</td>\n",
       "    </tr>\n",
       "  </tbody>\n",
       "</table>\n",
       "</div>"
      ],
      "text/plain": [
       "       rem_company_id_dummy  ...  rem_company_ind_4\n",
       "count          1.424859e+06  ...       1.424859e+06\n",
       "mean          -3.971120e+00  ...       3.041592e-01\n",
       "std            3.827693e+00  ...       4.600506e-01\n",
       "min           -9.281269e+00  ...       0.000000e+00\n",
       "25%           -7.364700e+00  ...       0.000000e+00\n",
       "50%           -3.604513e+00  ...       0.000000e+00\n",
       "75%           -3.115952e+00  ...       1.000000e+00\n",
       "max            8.449828e+00  ...       1.000000e+00\n",
       "\n",
       "[8 rows x 21 columns]"
      ]
     },
     "execution_count": 149,
     "metadata": {
      "tags": []
     },
     "output_type": "execute_result"
    }
   ],
   "source": [
    "train.describe()"
   ]
  },
  {
   "cell_type": "code",
   "execution_count": 102,
   "metadata": {
    "id": "TXDB680RIfaK"
   },
   "outputs": [],
   "source": [
    "from sklearn.decomposition import PCA\n",
    "from sklearn import preprocessing"
   ]
  },
  {
   "cell_type": "code",
   "execution_count": 103,
   "metadata": {
    "id": "ZhcLGDdYIqLE"
   },
   "outputs": [],
   "source": [
    "pca = PCA()"
   ]
  },
  {
   "cell_type": "code",
   "execution_count": 150,
   "metadata": {
    "id": "-ItTrJoVJGFq"
   },
   "outputs": [],
   "source": [
    "trainX_normalized = preprocessing.scale(trainX)\n",
    "trainX_normalized = pd.DataFrame(trainX_normalized)\n",
    "trainX_normalized.columns = trainX.columns"
   ]
  },
  {
   "cell_type": "code",
   "execution_count": 152,
   "metadata": {
    "colab": {
     "base_uri": "https://localhost:8080/"
    },
    "id": "pyC6nT8OwXvD",
    "outputId": "e6358971-71c3-4280-da9c-c9792979c43d"
   },
   "outputs": [
    {
     "data": {
      "text/plain": [
       "Index(['rem_company_id_dummy', 'rem_act_no_dummy', 'bene_act_no_dummy',\n",
       "       'txn_amt', 'txn_type', 'dd', 'comp_n_ind', 'rem_n_ind', 'bene_n_ind',\n",
       "       'comp_dd_diff', 'rem_dd_diff', 'bene_dd_diff', 'comp_txn_diff',\n",
       "       'rem_txn_diff', 'bene_txn_diff', 'time', 'rem_company_ind_1',\n",
       "       'rem_company_ind_2', 'rem_company_ind_3', 'rem_company_ind_4'],\n",
       "      dtype='object')"
      ]
     },
     "execution_count": 152,
     "metadata": {
      "tags": []
     },
     "output_type": "execute_result"
    }
   ],
   "source": [
    "trainX.columns"
   ]
  },
  {
   "cell_type": "code",
   "execution_count": 155,
   "metadata": {
    "colab": {
     "base_uri": "https://localhost:8080/",
     "height": 265
    },
    "id": "FlV7GWVF6PNn",
    "outputId": "a0a23b9c-ace8-46cf-d847-1be52703269b"
   },
   "outputs": [
    {
     "data": {
      "image/png": "[encoded data removed]",
      "text/plain": [
       "<Figure size 432x288 with 1 Axes>"
      ]
     },
     "metadata": {
      "needs_background": "light",
      "tags": []
     },
     "output_type": "display_data"
    }
   ],
   "source": [
    "# Variance Captured Plots\n",
    "\n",
    "pca1 = PCA().fit(trainX_normalized.values)\n",
    "pVarExp = [sum(pca1.explained_variance_[:i])/sum(pca1.explained_variance_) for i in range(1, len(trainX.columns))]\n",
    "plt.plot(pVarExp)\n",
    "plt.grid()\n",
    "plt.show()"
   ]
  },
  {
   "cell_type": "code",
   "execution_count": 182,
   "metadata": {
    "colab": {
     "base_uri": "https://localhost:8080/",
     "height": 1000
    },
    "id": "Y_Xquhys6eZ6",
    "outputId": "321e01d8-27cd-4f6b-9726-dc0ceb8a24b2"
   },
   "outputs": [
    {
     "data": {
      "image/png": "[encoded data removed]",
      "text/plain": [
       "<Figure size 1080x3600 with 21 Axes>"
      ]
     },
     "metadata": {
      "needs_background": "light",
      "tags": []
     },
     "output_type": "display_data"
    }
   ],
   "source": [
    "# Principal Components plots\n",
    "\n",
    "fig, ax = plt.subplots(7, 3, figsize=(15, 50), sharey=True)\n",
    "i = 0\n",
    "j = 0\n",
    "for k in range(1, 20):\n",
    "    ax[i][j].bar(range(len(trainX_normalized.columns)), abs(pca1.components_[-k]))\n",
    "    ax[i][j].set_xticks(range(len(trainX_normalized.columns)))\n",
    "    ax[i][j].set_xticklabels(trainX_normalized.columns, rotation=90)\n",
    "    j += 1\n",
    "    if j==3:\n",
    "        j = 0\n",
    "        i += 1\n",
    "plt.tight_layout()    \n",
    "plt.show()"
   ]
  },
  {
   "cell_type": "code",
   "execution_count": 194,
   "metadata": {
    "id": "OvYdWq2QKFHJ"
   },
   "outputs": [],
   "source": [
    "# pca.fit_transform(trainX_normalized)"
   ]
  },
  {
   "cell_type": "code",
   "execution_count": 166,
   "metadata": {
    "id": "5qGdDoEwI39l"
   },
   "outputs": [],
   "source": [
    "# variance = pca.explained_variance_ratio_\n",
    "# cum_variance = [variance[0]]\n",
    "# for i in range(1,len(variance)):\n",
    "#     cum_variance.append(cum_variance[i-1] + variance[i])\n"
   ]
  },
  {
   "cell_type": "code",
   "execution_count": 167,
   "metadata": {
    "id": "S14nZDfBw6Gb"
   },
   "outputs": [],
   "source": [
    "# variance"
   ]
  },
  {
   "cell_type": "code",
   "execution_count": 168,
   "metadata": {
    "id": "mxCFoCtFajdy"
   },
   "outputs": [],
   "source": [
    "# cum_variance"
   ]
  },
  {
   "cell_type": "code",
   "execution_count": 169,
   "metadata": {
    "id": "8512dTh_ZRiP"
   },
   "outputs": [],
   "source": [
    "# no_features = list(range(1,22))"
   ]
  },
  {
   "cell_type": "code",
   "execution_count": 170,
   "metadata": {
    "id": "imXVg_3uahRu"
   },
   "outputs": [],
   "source": [
    "# cum_variance"
   ]
  },
  {
   "cell_type": "code",
   "execution_count": 171,
   "metadata": {
    "id": "3Y4Ag5PaZf1c"
   },
   "outputs": [],
   "source": [
    "# plt.figure(figsize=[20,10])\n",
    "# plt.plot(no_features,cum_variance)\n",
    "# plt.show()"
   ]
  },
  {
   "cell_type": "markdown",
   "metadata": {
    "id": "Kc2LcAGJKlMb"
   },
   "source": [
    "#  VIF"
   ]
  },
  {
   "cell_type": "code",
   "execution_count": 172,
   "metadata": {
    "id": "mNz4ZqYvI-wX"
   },
   "outputs": [],
   "source": [
    "from statsmodels.stats.outliers_influence import variance_inflation_factor"
   ]
  },
  {
   "cell_type": "code",
   "execution_count": 173,
   "metadata": {
    "id": "yqCVnGtyKyly"
   },
   "outputs": [],
   "source": [
    "def calc_vif(X):\n",
    "\n",
    "    # Calculating VIF\n",
    "    vif = pd.DataFrame()\n",
    "    vif[\"variables\"] = X.columns\n",
    "    vif[\"VIF\"] = [variance_inflation_factor(X.values, i) for i in range(X.shape[1])]\n",
    "\n",
    "    return(vif)"
   ]
  },
  {
   "cell_type": "code",
   "execution_count": 174,
   "metadata": {
    "id": "xlKCjElMLSx1"
   },
   "outputs": [],
   "source": [
    "X_pair = train.drop('payroll_ind', axis=1)"
   ]
  },
  {
   "cell_type": "code",
   "execution_count": 175,
   "metadata": {
    "id": "ITNPeo3Ix2wp"
   },
   "outputs": [],
   "source": [
    "VIF_values = calc_vif(X_pair)"
   ]
  },
  {
   "cell_type": "code",
   "execution_count": 176,
   "metadata": {
    "colab": {
     "base_uri": "https://localhost:8080/",
     "height": 634
    },
    "id": "LsytXoSpLVUi",
    "outputId": "80b0d630-cdda-4915-ccdc-f09ea8e7906b"
   },
   "outputs": [
    {
     "data": {
      "text/html": [
       "<div>\n",
       "<style scoped>\n",
       "    .dataframe tbody tr th:only-of-type {\n",
       "        vertical-align: middle;\n",
       "    }\n",
       "\n",
       "    .dataframe tbody tr th {\n",
       "        vertical-align: top;\n",
       "    }\n",
       "\n",
       "    .dataframe thead th {\n",
       "        text-align: right;\n",
       "    }\n",
       "</style>\n",
       "<table border=\"1\" class=\"dataframe\">\n",
       "  <thead>\n",
       "    <tr style=\"text-align: right;\">\n",
       "      <th></th>\n",
       "      <th>variables</th>\n",
       "      <th>VIF</th>\n",
       "    </tr>\n",
       "  </thead>\n",
       "  <tbody>\n",
       "    <tr>\n",
       "      <th>0</th>\n",
       "      <td>rem_company_id_dummy</td>\n",
       "      <td>8.879340</td>\n",
       "    </tr>\n",
       "    <tr>\n",
       "      <th>1</th>\n",
       "      <td>rem_act_no_dummy</td>\n",
       "      <td>13.267502</td>\n",
       "    </tr>\n",
       "    <tr>\n",
       "      <th>2</th>\n",
       "      <td>bene_act_no_dummy</td>\n",
       "      <td>3.255453</td>\n",
       "    </tr>\n",
       "    <tr>\n",
       "      <th>3</th>\n",
       "      <td>txn_amt</td>\n",
       "      <td>6.396701</td>\n",
       "    </tr>\n",
       "    <tr>\n",
       "      <th>4</th>\n",
       "      <td>txn_type</td>\n",
       "      <td>6.556176</td>\n",
       "    </tr>\n",
       "    <tr>\n",
       "      <th>5</th>\n",
       "      <td>dd</td>\n",
       "      <td>6.686699</td>\n",
       "    </tr>\n",
       "    <tr>\n",
       "      <th>6</th>\n",
       "      <td>comp_n_ind</td>\n",
       "      <td>1280.264844</td>\n",
       "    </tr>\n",
       "    <tr>\n",
       "      <th>7</th>\n",
       "      <td>rem_n_ind</td>\n",
       "      <td>1313.404102</td>\n",
       "    </tr>\n",
       "    <tr>\n",
       "      <th>8</th>\n",
       "      <td>bene_n_ind</td>\n",
       "      <td>4.633158</td>\n",
       "    </tr>\n",
       "    <tr>\n",
       "      <th>9</th>\n",
       "      <td>comp_dd_diff</td>\n",
       "      <td>47.334593</td>\n",
       "    </tr>\n",
       "    <tr>\n",
       "      <th>10</th>\n",
       "      <td>rem_dd_diff</td>\n",
       "      <td>47.890991</td>\n",
       "    </tr>\n",
       "    <tr>\n",
       "      <th>11</th>\n",
       "      <td>bene_dd_diff</td>\n",
       "      <td>3.937980</td>\n",
       "    </tr>\n",
       "    <tr>\n",
       "      <th>12</th>\n",
       "      <td>comp_txn_diff</td>\n",
       "      <td>13.914291</td>\n",
       "    </tr>\n",
       "    <tr>\n",
       "      <th>13</th>\n",
       "      <td>rem_txn_diff</td>\n",
       "      <td>10.268582</td>\n",
       "    </tr>\n",
       "    <tr>\n",
       "      <th>14</th>\n",
       "      <td>bene_txn_diff</td>\n",
       "      <td>1.666470</td>\n",
       "    </tr>\n",
       "    <tr>\n",
       "      <th>15</th>\n",
       "      <td>time</td>\n",
       "      <td>4.237140</td>\n",
       "    </tr>\n",
       "    <tr>\n",
       "      <th>16</th>\n",
       "      <td>rem_company_ind_1</td>\n",
       "      <td>1.123683</td>\n",
       "    </tr>\n",
       "    <tr>\n",
       "      <th>17</th>\n",
       "      <td>rem_company_ind_2</td>\n",
       "      <td>4.243943</td>\n",
       "    </tr>\n",
       "    <tr>\n",
       "      <th>18</th>\n",
       "      <td>rem_company_ind_3</td>\n",
       "      <td>5.095374</td>\n",
       "    </tr>\n",
       "    <tr>\n",
       "      <th>19</th>\n",
       "      <td>rem_company_ind_4</td>\n",
       "      <td>2.798087</td>\n",
       "    </tr>\n",
       "  </tbody>\n",
       "</table>\n",
       "</div>"
      ],
      "text/plain": [
       "               variables          VIF\n",
       "0   rem_company_id_dummy     8.879340\n",
       "1       rem_act_no_dummy    13.267502\n",
       "2      bene_act_no_dummy     3.255453\n",
       "3                txn_amt     6.396701\n",
       "4               txn_type     6.556176\n",
       "5                     dd     6.686699\n",
       "6             comp_n_ind  1280.264844\n",
       "7              rem_n_ind  1313.404102\n",
       "8             bene_n_ind     4.633158\n",
       "9           comp_dd_diff    47.334593\n",
       "10           rem_dd_diff    47.890991\n",
       "11          bene_dd_diff     3.937980\n",
       "12         comp_txn_diff    13.914291\n",
       "13          rem_txn_diff    10.268582\n",
       "14         bene_txn_diff     1.666470\n",
       "15                  time     4.237140\n",
       "16     rem_company_ind_1     1.123683\n",
       "17     rem_company_ind_2     4.243943\n",
       "18     rem_company_ind_3     5.095374\n",
       "19     rem_company_ind_4     2.798087"
      ]
     },
     "execution_count": 176,
     "metadata": {
      "tags": []
     },
     "output_type": "execute_result"
    }
   ],
   "source": [
    "VIF_values"
   ]
  },
  {
   "cell_type": "code",
   "execution_count": 177,
   "metadata": {
    "colab": {
     "base_uri": "https://localhost:8080/",
     "height": 664
    },
    "id": "6clIhydtNsry",
    "outputId": "b5c1a58d-b565-4a82-e247-81489a89f964"
   },
   "outputs": [
    {
     "data": {
      "image/png": "[encoded data removed]",
      "text/plain": [
       "<Figure size 720x720 with 2 Axes>"
      ]
     },
     "metadata": {
      "needs_background": "light",
      "tags": []
     },
     "output_type": "display_data"
    }
   ],
   "source": [
    "plt.figure(figsize=(10, 10))\n",
    "fCorr = abs(X_pair.corr())\n",
    "plt.imshow(fCorr.sort_index().sort_index(axis=1), cmap='seismic')\n",
    "plt.colorbar()\n",
    "plt.xticks(range(len(X_pair.columns)), X_pair.columns, rotation=90)\n",
    "plt.yticks(range(len(X_pair.columns)), X_pair.columns)\n",
    "plt.show()"
   ]
  },
  {
   "cell_type": "code",
   "execution_count": 190,
   "metadata": {
    "id": "d2nxmsKAkix7"
   },
   "outputs": [],
   "source": [
    "#Removing the columns as per above PCA plot\n",
    "Train_txn_final = train.drop(['rem_n_ind','rem_dd_diff','rem_txn_diff'], axis = 1)"
   ]
  },
  {
   "cell_type": "code",
   "execution_count": 191,
   "metadata": {
    "colab": {
     "base_uri": "https://localhost:8080/",
     "height": 448
    },
    "id": "pChXaeUhHAEf",
    "outputId": "8c60e835-0214-4eb8-8348-f728a94ae7b8"
   },
   "outputs": [
    {
     "data": {
      "text/html": [
       "<div>\n",
       "<style scoped>\n",
       "    .dataframe tbody tr th:only-of-type {\n",
       "        vertical-align: middle;\n",
       "    }\n",
       "\n",
       "    .dataframe tbody tr th {\n",
       "        vertical-align: top;\n",
       "    }\n",
       "\n",
       "    .dataframe thead th {\n",
       "        text-align: right;\n",
       "    }\n",
       "</style>\n",
       "<table border=\"1\" class=\"dataframe\">\n",
       "  <thead>\n",
       "    <tr style=\"text-align: right;\">\n",
       "      <th></th>\n",
       "      <th>rem_company_id_dummy</th>\n",
       "      <th>rem_act_no_dummy</th>\n",
       "      <th>bene_act_no_dummy</th>\n",
       "      <th>txn_amt</th>\n",
       "      <th>txn_type</th>\n",
       "      <th>payroll_ind</th>\n",
       "      <th>dd</th>\n",
       "      <th>comp_n_ind</th>\n",
       "      <th>bene_n_ind</th>\n",
       "      <th>comp_dd_diff</th>\n",
       "      <th>bene_dd_diff</th>\n",
       "      <th>comp_txn_diff</th>\n",
       "      <th>bene_txn_diff</th>\n",
       "      <th>time</th>\n",
       "      <th>rem_company_ind_1</th>\n",
       "      <th>rem_company_ind_2</th>\n",
       "      <th>rem_company_ind_3</th>\n",
       "      <th>rem_company_ind_4</th>\n",
       "    </tr>\n",
       "    <tr>\n",
       "      <th>txn_refr_key_dummy</th>\n",
       "      <th></th>\n",
       "      <th></th>\n",
       "      <th></th>\n",
       "      <th></th>\n",
       "      <th></th>\n",
       "      <th></th>\n",
       "      <th></th>\n",
       "      <th></th>\n",
       "      <th></th>\n",
       "      <th></th>\n",
       "      <th></th>\n",
       "      <th></th>\n",
       "      <th></th>\n",
       "      <th></th>\n",
       "      <th></th>\n",
       "      <th></th>\n",
       "      <th></th>\n",
       "      <th></th>\n",
       "    </tr>\n",
       "  </thead>\n",
       "  <tbody>\n",
       "    <tr>\n",
       "      <th>1</th>\n",
       "      <td>-1.262895</td>\n",
       "      <td>-4.217655</td>\n",
       "      <td>0.983601</td>\n",
       "      <td>1.458730</td>\n",
       "      <td>0</td>\n",
       "      <td>0</td>\n",
       "      <td>17</td>\n",
       "      <td>1</td>\n",
       "      <td>1</td>\n",
       "      <td>0.687256</td>\n",
       "      <td>5.666667</td>\n",
       "      <td>0.945978</td>\n",
       "      <td>0.021845</td>\n",
       "      <td>16</td>\n",
       "      <td>0</td>\n",
       "      <td>0</td>\n",
       "      <td>0</td>\n",
       "      <td>1</td>\n",
       "    </tr>\n",
       "    <tr>\n",
       "      <th>4</th>\n",
       "      <td>-3.604513</td>\n",
       "      <td>-10.459205</td>\n",
       "      <td>0.983601</td>\n",
       "      <td>1.269716</td>\n",
       "      <td>0</td>\n",
       "      <td>0</td>\n",
       "      <td>30</td>\n",
       "      <td>1</td>\n",
       "      <td>1</td>\n",
       "      <td>3.671302</td>\n",
       "      <td>0.333333</td>\n",
       "      <td>0.593375</td>\n",
       "      <td>-0.000794</td>\n",
       "      <td>29</td>\n",
       "      <td>0</td>\n",
       "      <td>0</td>\n",
       "      <td>1</td>\n",
       "      <td>0</td>\n",
       "    </tr>\n",
       "    <tr>\n",
       "      <th>5</th>\n",
       "      <td>-4.634079</td>\n",
       "      <td>-4.631351</td>\n",
       "      <td>0.000000</td>\n",
       "      <td>1.190682</td>\n",
       "      <td>0</td>\n",
       "      <td>0</td>\n",
       "      <td>22</td>\n",
       "      <td>1</td>\n",
       "      <td>1</td>\n",
       "      <td>10.410000</td>\n",
       "      <td>0.000000</td>\n",
       "      <td>0.204006</td>\n",
       "      <td>0.000000</td>\n",
       "      <td>21</td>\n",
       "      <td>0</td>\n",
       "      <td>0</td>\n",
       "      <td>1</td>\n",
       "      <td>1</td>\n",
       "    </tr>\n",
       "    <tr>\n",
       "      <th>7</th>\n",
       "      <td>-5.649389</td>\n",
       "      <td>-5.445312</td>\n",
       "      <td>0.290454</td>\n",
       "      <td>5.657271</td>\n",
       "      <td>0</td>\n",
       "      <td>0</td>\n",
       "      <td>29</td>\n",
       "      <td>1</td>\n",
       "      <td>1</td>\n",
       "      <td>15.559908</td>\n",
       "      <td>10.857143</td>\n",
       "      <td>3.752990</td>\n",
       "      <td>-0.296643</td>\n",
       "      <td>28</td>\n",
       "      <td>0</td>\n",
       "      <td>1</td>\n",
       "      <td>0</td>\n",
       "      <td>0</td>\n",
       "    </tr>\n",
       "    <tr>\n",
       "      <th>8</th>\n",
       "      <td>-3.604513</td>\n",
       "      <td>-10.459205</td>\n",
       "      <td>0.578136</td>\n",
       "      <td>1.239628</td>\n",
       "      <td>0</td>\n",
       "      <td>0</td>\n",
       "      <td>29</td>\n",
       "      <td>1</td>\n",
       "      <td>1</td>\n",
       "      <td>2.671302</td>\n",
       "      <td>0.200000</td>\n",
       "      <td>0.623462</td>\n",
       "      <td>0.011784</td>\n",
       "      <td>28</td>\n",
       "      <td>0</td>\n",
       "      <td>0</td>\n",
       "      <td>1</td>\n",
       "      <td>0</td>\n",
       "    </tr>\n",
       "    <tr>\n",
       "      <th>...</th>\n",
       "      <td>...</td>\n",
       "      <td>...</td>\n",
       "      <td>...</td>\n",
       "      <td>...</td>\n",
       "      <td>...</td>\n",
       "      <td>...</td>\n",
       "      <td>...</td>\n",
       "      <td>...</td>\n",
       "      <td>...</td>\n",
       "      <td>...</td>\n",
       "      <td>...</td>\n",
       "      <td>...</td>\n",
       "      <td>...</td>\n",
       "      <td>...</td>\n",
       "      <td>...</td>\n",
       "      <td>...</td>\n",
       "      <td>...</td>\n",
       "      <td>...</td>\n",
       "    </tr>\n",
       "    <tr>\n",
       "      <th>3220108</th>\n",
       "      <td>-3.604513</td>\n",
       "      <td>-10.459205</td>\n",
       "      <td>1.271283</td>\n",
       "      <td>1.269388</td>\n",
       "      <td>0</td>\n",
       "      <td>0</td>\n",
       "      <td>29</td>\n",
       "      <td>1</td>\n",
       "      <td>1</td>\n",
       "      <td>2.671302</td>\n",
       "      <td>0.000000</td>\n",
       "      <td>0.593702</td>\n",
       "      <td>-0.090681</td>\n",
       "      <td>150</td>\n",
       "      <td>0</td>\n",
       "      <td>0</td>\n",
       "      <td>1</td>\n",
       "      <td>0</td>\n",
       "    </tr>\n",
       "    <tr>\n",
       "      <th>3220110</th>\n",
       "      <td>-3.604513</td>\n",
       "      <td>-10.459205</td>\n",
       "      <td>0.000000</td>\n",
       "      <td>1.594051</td>\n",
       "      <td>0</td>\n",
       "      <td>0</td>\n",
       "      <td>29</td>\n",
       "      <td>1</td>\n",
       "      <td>1</td>\n",
       "      <td>2.671302</td>\n",
       "      <td>0.000000</td>\n",
       "      <td>0.269040</td>\n",
       "      <td>0.000000</td>\n",
       "      <td>150</td>\n",
       "      <td>0</td>\n",
       "      <td>0</td>\n",
       "      <td>1</td>\n",
       "      <td>0</td>\n",
       "    </tr>\n",
       "    <tr>\n",
       "      <th>3220133</th>\n",
       "      <td>-6.042382</td>\n",
       "      <td>-6.017873</td>\n",
       "      <td>-0.338155</td>\n",
       "      <td>1.328238</td>\n",
       "      <td>0</td>\n",
       "      <td>0</td>\n",
       "      <td>29</td>\n",
       "      <td>1</td>\n",
       "      <td>1</td>\n",
       "      <td>12.810709</td>\n",
       "      <td>16.000000</td>\n",
       "      <td>-0.032856</td>\n",
       "      <td>-0.013997</td>\n",
       "      <td>58</td>\n",
       "      <td>0</td>\n",
       "      <td>1</td>\n",
       "      <td>1</td>\n",
       "      <td>0</td>\n",
       "    </tr>\n",
       "    <tr>\n",
       "      <th>3220134</th>\n",
       "      <td>-6.042382</td>\n",
       "      <td>-6.017873</td>\n",
       "      <td>-0.338155</td>\n",
       "      <td>1.182767</td>\n",
       "      <td>0</td>\n",
       "      <td>0</td>\n",
       "      <td>5</td>\n",
       "      <td>1</td>\n",
       "      <td>1</td>\n",
       "      <td>11.189291</td>\n",
       "      <td>8.000000</td>\n",
       "      <td>0.112614</td>\n",
       "      <td>0.131474</td>\n",
       "      <td>34</td>\n",
       "      <td>0</td>\n",
       "      <td>1</td>\n",
       "      <td>1</td>\n",
       "      <td>0</td>\n",
       "    </tr>\n",
       "    <tr>\n",
       "      <th>3220135</th>\n",
       "      <td>-6.042382</td>\n",
       "      <td>-6.017873</td>\n",
       "      <td>-0.338155</td>\n",
       "      <td>1.181048</td>\n",
       "      <td>0</td>\n",
       "      <td>0</td>\n",
       "      <td>26</td>\n",
       "      <td>1</td>\n",
       "      <td>1</td>\n",
       "      <td>9.810709</td>\n",
       "      <td>13.000000</td>\n",
       "      <td>0.114333</td>\n",
       "      <td>0.133193</td>\n",
       "      <td>55</td>\n",
       "      <td>0</td>\n",
       "      <td>1</td>\n",
       "      <td>1</td>\n",
       "      <td>0</td>\n",
       "    </tr>\n",
       "  </tbody>\n",
       "</table>\n",
       "<p>1424859 rows × 18 columns</p>\n",
       "</div>"
      ],
      "text/plain": [
       "                    rem_company_id_dummy  ...  rem_company_ind_4\n",
       "txn_refr_key_dummy                        ...                   \n",
       "1                              -1.262895  ...                  1\n",
       "4                              -3.604513  ...                  0\n",
       "5                              -4.634079  ...                  1\n",
       "7                              -5.649389  ...                  0\n",
       "8                              -3.604513  ...                  0\n",
       "...                                  ...  ...                ...\n",
       "3220108                        -3.604513  ...                  0\n",
       "3220110                        -3.604513  ...                  0\n",
       "3220133                        -6.042382  ...                  0\n",
       "3220134                        -6.042382  ...                  0\n",
       "3220135                        -6.042382  ...                  0\n",
       "\n",
       "[1424859 rows x 18 columns]"
      ]
     },
     "execution_count": 191,
     "metadata": {
      "tags": []
     },
     "output_type": "execute_result"
    }
   ],
   "source": [
    "Train_txn_final"
   ]
  },
  {
   "cell_type": "code",
   "execution_count": 192,
   "metadata": {
    "id": "2Jq5lV0AHFrb"
   },
   "outputs": [],
   "source": [
    "# Checking VIF with new dataset\n",
    "X_pair = Train_txn_final.drop('payroll_ind', axis=1)\n",
    "VIF_new = calc_vif(X_pair)"
   ]
  },
  {
   "cell_type": "code",
   "execution_count": 193,
   "metadata": {
    "colab": {
     "base_uri": "https://localhost:8080/",
     "height": 546
    },
    "id": "pdxcx8QkHbEP",
    "outputId": "93cb69f4-e4d3-4c31-f1b3-95db62ee89fd"
   },
   "outputs": [
    {
     "data": {
      "text/html": [
       "<div>\n",
       "<style scoped>\n",
       "    .dataframe tbody tr th:only-of-type {\n",
       "        vertical-align: middle;\n",
       "    }\n",
       "\n",
       "    .dataframe tbody tr th {\n",
       "        vertical-align: top;\n",
       "    }\n",
       "\n",
       "    .dataframe thead th {\n",
       "        text-align: right;\n",
       "    }\n",
       "</style>\n",
       "<table border=\"1\" class=\"dataframe\">\n",
       "  <thead>\n",
       "    <tr style=\"text-align: right;\">\n",
       "      <th></th>\n",
       "      <th>variables</th>\n",
       "      <th>VIF</th>\n",
       "    </tr>\n",
       "  </thead>\n",
       "  <tbody>\n",
       "    <tr>\n",
       "      <th>0</th>\n",
       "      <td>rem_company_id_dummy</td>\n",
       "      <td>8.464486</td>\n",
       "    </tr>\n",
       "    <tr>\n",
       "      <th>1</th>\n",
       "      <td>rem_act_no_dummy</td>\n",
       "      <td>12.236915</td>\n",
       "    </tr>\n",
       "    <tr>\n",
       "      <th>2</th>\n",
       "      <td>bene_act_no_dummy</td>\n",
       "      <td>3.249473</td>\n",
       "    </tr>\n",
       "    <tr>\n",
       "      <th>3</th>\n",
       "      <td>txn_amt</td>\n",
       "      <td>6.370756</td>\n",
       "    </tr>\n",
       "    <tr>\n",
       "      <th>4</th>\n",
       "      <td>txn_type</td>\n",
       "      <td>6.424507</td>\n",
       "    </tr>\n",
       "    <tr>\n",
       "      <th>5</th>\n",
       "      <td>dd</td>\n",
       "      <td>6.655590</td>\n",
       "    </tr>\n",
       "    <tr>\n",
       "      <th>6</th>\n",
       "      <td>comp_n_ind</td>\n",
       "      <td>23.518787</td>\n",
       "    </tr>\n",
       "    <tr>\n",
       "      <th>7</th>\n",
       "      <td>bene_n_ind</td>\n",
       "      <td>4.628957</td>\n",
       "    </tr>\n",
       "    <tr>\n",
       "      <th>8</th>\n",
       "      <td>comp_dd_diff</td>\n",
       "      <td>5.170959</td>\n",
       "    </tr>\n",
       "    <tr>\n",
       "      <th>9</th>\n",
       "      <td>bene_dd_diff</td>\n",
       "      <td>3.800800</td>\n",
       "    </tr>\n",
       "    <tr>\n",
       "      <th>10</th>\n",
       "      <td>comp_txn_diff</td>\n",
       "      <td>5.270586</td>\n",
       "    </tr>\n",
       "    <tr>\n",
       "      <th>11</th>\n",
       "      <td>bene_txn_diff</td>\n",
       "      <td>1.662512</td>\n",
       "    </tr>\n",
       "    <tr>\n",
       "      <th>12</th>\n",
       "      <td>time</td>\n",
       "      <td>4.235137</td>\n",
       "    </tr>\n",
       "    <tr>\n",
       "      <th>13</th>\n",
       "      <td>rem_company_ind_1</td>\n",
       "      <td>1.118192</td>\n",
       "    </tr>\n",
       "    <tr>\n",
       "      <th>14</th>\n",
       "      <td>rem_company_ind_2</td>\n",
       "      <td>4.188019</td>\n",
       "    </tr>\n",
       "    <tr>\n",
       "      <th>15</th>\n",
       "      <td>rem_company_ind_3</td>\n",
       "      <td>5.029692</td>\n",
       "    </tr>\n",
       "    <tr>\n",
       "      <th>16</th>\n",
       "      <td>rem_company_ind_4</td>\n",
       "      <td>2.752464</td>\n",
       "    </tr>\n",
       "  </tbody>\n",
       "</table>\n",
       "</div>"
      ],
      "text/plain": [
       "               variables        VIF\n",
       "0   rem_company_id_dummy   8.464486\n",
       "1       rem_act_no_dummy  12.236915\n",
       "2      bene_act_no_dummy   3.249473\n",
       "3                txn_amt   6.370756\n",
       "4               txn_type   6.424507\n",
       "5                     dd   6.655590\n",
       "6             comp_n_ind  23.518787\n",
       "7             bene_n_ind   4.628957\n",
       "8           comp_dd_diff   5.170959\n",
       "9           bene_dd_diff   3.800800\n",
       "10         comp_txn_diff   5.270586\n",
       "11         bene_txn_diff   1.662512\n",
       "12                  time   4.235137\n",
       "13     rem_company_ind_1   1.118192\n",
       "14     rem_company_ind_2   4.188019\n",
       "15     rem_company_ind_3   5.029692\n",
       "16     rem_company_ind_4   2.752464"
      ]
     },
     "execution_count": 193,
     "metadata": {
      "tags": []
     },
     "output_type": "execute_result"
    }
   ],
   "source": [
    "VIF_new"
   ]
  },
  {
   "cell_type": "code",
   "execution_count": null,
   "metadata": {
    "id": "UbSywNgdHbwH"
   },
   "outputs": [],
   "source": []
  }
 ],
 "metadata": {
  "colab": {
   "collapsed_sections": [],
   "name": "Citi - Sampling, PCA, VIF for Txn.ipynb",
   "provenance": []
  },
  "kernelspec": {
   "display_name": "Python 3",
   "language": "python",
   "name": "python3"
  },
  "language_info": {
   "codemirror_mode": {
    "name": "ipython",
    "version": 3
   },
   "file_extension": ".py",
   "mimetype": "text/x-python",
   "name": "python",
   "nbconvert_exporter": "python",
   "pygments_lexer": "ipython3",
   "version": "3.8.8"
  }
 },
 "nbformat": 4,
 "nbformat_minor": 1
}
