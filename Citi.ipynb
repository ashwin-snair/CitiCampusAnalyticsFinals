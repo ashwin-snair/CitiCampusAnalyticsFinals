{
 "cells": [
  {
   "cell_type": "code",
   "execution_count": 2,
   "metadata": {
    "colab": {
     "base_uri": "https://localhost:8080/",
     "height": 346
    },
    "id": "h4A0FKdrNbW7",
    "outputId": "6f5ee03d-6233-4aa8-e17d-28b27a1c0cec"
   },
   "outputs": [
    {
     "name": "stderr",
     "output_type": "stream",
     "text": [
      "/opt/anaconda3/lib/python3.8/site-packages/outdated/utils.py:14: OutdatedPackageWarning: The package outdated is out of date. Your version is 0.2.0, the latest is 0.2.1.\n",
      "Set the environment variable OUTDATED_IGNORE=1 to disable these warnings.\n",
      "  return warn(\n"
     ]
    }
   ],
   "source": [
    "import pandas as pd\n",
    "import matplotlib.pyplot as plt\n",
    "import numpy as np\n",
    "# from google.colab import drive\n",
    "import os\n",
    "import statistics\n",
    "from scipy.stats import levene, shapiro, pointbiserialr, kruskal, ttest_ind, mannwhitneyu\n",
    "import pingouin as pg"
   ]
  },
  {
   "cell_type": "code",
   "execution_count": 3,
   "metadata": {},
   "outputs": [],
   "source": [
    "import pickle"
   ]
  },
  {
   "cell_type": "code",
   "execution_count": 5,
   "metadata": {},
   "outputs": [
    {
     "name": "stderr",
     "output_type": "stream",
     "text": [
      "/opt/anaconda3/lib/python3.8/site-packages/numpy/lib/arraysetops.py:580: FutureWarning: elementwise comparison failed; returning scalar instead, but in the future will perform elementwise comparison\n",
      "  mask |= (ar1 == a)\n"
     ]
    }
   ],
   "source": [
    "train = pd.read_csv('Data/Train.csv', index_col=0)"
   ]
  },
  {
   "cell_type": "code",
   "execution_count": 6,
   "metadata": {},
   "outputs": [],
   "source": [
    "rem_bene = train.groupby(['rem_act_no_dummy', 'bene_act_no_dummy'])"
   ]
  },
  {
   "cell_type": "code",
   "execution_count": 21,
   "metadata": {},
   "outputs": [],
   "source": [
    "def fn(x):\n",
    "    if len(x)>1 and 'Unknown' in x:\n",
    "        x = list(x)\n",
    "        x.remove('Unknown')\n",
    "    return x[0]\n",
    "    \n",
    "ans = rem_bene['rem_company_ind'].unique().apply(fn)"
   ]
  },
  {
   "cell_type": "code",
   "execution_count": 28,
   "metadata": {},
   "outputs": [
    {
     "ename": "AttributeError",
     "evalue": "'SeriesGroupBy' object has no attribute 'mode'",
     "output_type": "error",
     "traceback": [
      "\u001b[0;31m---------------------------------------------------------------------------\u001b[0m",
      "\u001b[0;31mAttributeError\u001b[0m                            Traceback (most recent call last)",
      "\u001b[0;32m<ipython-input-28-48671c0e84b5>\u001b[0m in \u001b[0;36m<module>\u001b[0;34m\u001b[0m\n\u001b[0;32m----> 1\u001b[0;31m \u001b[0mrem_bene\u001b[0m\u001b[0;34m[\u001b[0m\u001b[0;34m'rem_company_ind'\u001b[0m\u001b[0;34m]\u001b[0m\u001b[0;34m.\u001b[0m\u001b[0mmode\u001b[0m\u001b[0;34m(\u001b[0m\u001b[0;34m)\u001b[0m\u001b[0;34m\u001b[0m\u001b[0;34m\u001b[0m\u001b[0m\n\u001b[0m",
      "\u001b[0;32m/opt/anaconda3/lib/python3.8/site-packages/pandas/core/groupby/groupby.py\u001b[0m in \u001b[0;36m__getattr__\u001b[0;34m(self, attr)\u001b[0m\n\u001b[1;32m    750\u001b[0m             \u001b[0;32mreturn\u001b[0m \u001b[0mself\u001b[0m\u001b[0;34m[\u001b[0m\u001b[0mattr\u001b[0m\u001b[0;34m]\u001b[0m\u001b[0;34m\u001b[0m\u001b[0;34m\u001b[0m\u001b[0m\n\u001b[1;32m    751\u001b[0m \u001b[0;34m\u001b[0m\u001b[0m\n\u001b[0;32m--> 752\u001b[0;31m         raise AttributeError(\n\u001b[0m\u001b[1;32m    753\u001b[0m             \u001b[0;34mf\"'{type(self).__name__}' object has no attribute '{attr}'\"\u001b[0m\u001b[0;34m\u001b[0m\u001b[0;34m\u001b[0m\u001b[0m\n\u001b[1;32m    754\u001b[0m         )\n",
      "\u001b[0;31mAttributeError\u001b[0m: 'SeriesGroupBy' object has no attribute 'mode'"
     ]
    }
   ],
   "source": [
    "rem_bene['rem_company_ind'].mode()"
   ]
  },
  {
   "cell_type": "code",
   "execution_count": 24,
   "metadata": {},
   "outputs": [
    {
     "data": {
      "text/plain": [
       "rem_act_no_dummy  bene_act_no_dummy\n",
       "5000000           8000000                            Consumer\n",
       "                  8538500                            Consumer\n",
       "                  8813800                            Consumer\n",
       "                  9768200                            Consumer\n",
       "                  9784300                            Consumer\n",
       "                                                ...          \n",
       "5742900           74564200                        Industrials\n",
       "5743300           74530200                        Industrials\n",
       "5743500           74532600                        Industrials\n",
       "5743600           74560500                        Industrials\n",
       "5743700           74586600             Financial Institutions\n",
       "Name: rem_company_ind, Length: 382795, dtype: object"
      ]
     },
     "execution_count": 24,
     "metadata": {},
     "output_type": "execute_result"
    }
   ],
   "source": [
    "def fn(x):\n",
    "    if len(x)>1 and 'Unknown' in x:\n",
    "        x = list(x)\n",
    "        x.remove('Unknown')\n",
    "    return x[0]\n",
    "\n",
    "ans"
   ]
  },
  {
   "cell_type": "code",
   "execution_count": 19,
   "metadata": {},
   "outputs": [
    {
     "data": {
      "text/html": [
       "<div>\n",
       "<style scoped>\n",
       "    .dataframe tbody tr th:only-of-type {\n",
       "        vertical-align: middle;\n",
       "    }\n",
       "\n",
       "    .dataframe tbody tr th {\n",
       "        vertical-align: top;\n",
       "    }\n",
       "\n",
       "    .dataframe thead th {\n",
       "        text-align: right;\n",
       "    }\n",
       "</style>\n",
       "<table border=\"1\" class=\"dataframe\">\n",
       "  <thead>\n",
       "    <tr style=\"text-align: right;\">\n",
       "      <th></th>\n",
       "      <th>rem_company_id_dummy</th>\n",
       "      <th>rem_act_no_dummy</th>\n",
       "      <th>bene_act_no_dummy</th>\n",
       "      <th>txn_amt</th>\n",
       "      <th>transaction_val_dt</th>\n",
       "      <th>yearmonth</th>\n",
       "      <th>txn_type</th>\n",
       "      <th>rem_company_ind</th>\n",
       "      <th>payroll_ind</th>\n",
       "    </tr>\n",
       "    <tr>\n",
       "      <th>txn_refr_key_dummy</th>\n",
       "      <th></th>\n",
       "      <th></th>\n",
       "      <th></th>\n",
       "      <th></th>\n",
       "      <th></th>\n",
       "      <th></th>\n",
       "      <th></th>\n",
       "      <th></th>\n",
       "      <th></th>\n",
       "    </tr>\n",
       "  </thead>\n",
       "  <tbody>\n",
       "    <tr>\n",
       "      <th>661</th>\n",
       "      <td>1000001640</td>\n",
       "      <td>5017800</td>\n",
       "      <td>8047700</td>\n",
       "      <td>1.342284</td>\n",
       "      <td>2020-09-18</td>\n",
       "      <td>202009</td>\n",
       "      <td>CROSS BORDER</td>\n",
       "      <td>Unknown</td>\n",
       "      <td>0</td>\n",
       "    </tr>\n",
       "  </tbody>\n",
       "</table>\n",
       "</div>"
      ],
      "text/plain": [
       "                    rem_company_id_dummy  rem_act_no_dummy  bene_act_no_dummy  \\\n",
       "txn_refr_key_dummy                                                              \n",
       "661                           1000001640           5017800            8047700   \n",
       "\n",
       "                     txn_amt transaction_val_dt  yearmonth      txn_type  \\\n",
       "txn_refr_key_dummy                                                         \n",
       "661                 1.342284         2020-09-18     202009  CROSS BORDER   \n",
       "\n",
       "                   rem_company_ind  payroll_ind  \n",
       "txn_refr_key_dummy                               \n",
       "661                        Unknown            0  "
      ]
     },
     "execution_count": 19,
     "metadata": {},
     "output_type": "execute_result"
    }
   ],
   "source": [
    "def getTransactions(rem_act_no, bene_act_no):\n",
    "    return train[(train['rem_act_no_dummy']==rem_act_no) & (train['bene_act_no_dummy']==bene_act_no)]\n",
    "\n",
    "getTransactions(5017800, 8047700)"
   ]
  },
  {
   "cell_type": "code",
   "execution_count": null,
   "metadata": {},
   "outputs": [],
   "source": []
  },
  {
   "cell_type": "markdown",
   "metadata": {
    "id": "jm58Us932_73"
   },
   "source": [
    "# Preprocessing to reindex as combination of rem_act_no_dummy, bene_act_dummy"
   ]
  },
  {
   "cell_type": "code",
   "execution_count": 33,
   "metadata": {
    "colab": {
     "base_uri": "https://localhost:8080/"
    },
    "id": "Pzpd8Ei4EW59",
    "outputId": "edcba0df-858d-4f62-93bf-10b501b85fc5"
   },
   "outputs": [
    {
     "name": "stdout",
     "output_type": "stream",
     "text": [
      "Collecting pingouin\n",
      "\u001b[?25l  Downloading https://files.pythonhosted.org/packages/55/47/9d1845b179fcbac04f13056846e132e54cf62734d33892a370f98efa5ac1/pingouin-0.3.10.tar.gz (204kB)\n",
      "\r",
      "\u001b[K     |█▋                              | 10kB 14.0MB/s eta 0:00:01\r",
      "\u001b[K     |███▏                            | 20kB 19.6MB/s eta 0:00:01\r",
      "\u001b[K     |████▉                           | 30kB 23.9MB/s eta 0:00:01\r",
      "\u001b[K     |██████▍                         | 40kB 22.4MB/s eta 0:00:01\r",
      "\u001b[K     |████████                        | 51kB 21.0MB/s eta 0:00:01\r",
      "\u001b[K     |█████████▋                      | 61kB 18.3MB/s eta 0:00:01\r",
      "\u001b[K     |███████████▏                    | 71kB 19.0MB/s eta 0:00:01\r",
      "\u001b[K     |████████████▉                   | 81kB 17.0MB/s eta 0:00:01\r",
      "\u001b[K     |██████████████▍                 | 92kB 16.6MB/s eta 0:00:01\r",
      "\u001b[K     |████████████████                | 102kB 17.5MB/s eta 0:00:01\r",
      "\u001b[K     |█████████████████▋              | 112kB 17.5MB/s eta 0:00:01\r",
      "\u001b[K     |███████████████████▎            | 122kB 17.5MB/s eta 0:00:01\r",
      "\u001b[K     |████████████████████▉           | 133kB 17.5MB/s eta 0:00:01\r",
      "\u001b[K     |██████████████████████▍         | 143kB 17.5MB/s eta 0:00:01\r",
      "\u001b[K     |████████████████████████        | 153kB 17.5MB/s eta 0:00:01\r",
      "\u001b[K     |█████████████████████████▋      | 163kB 17.5MB/s eta 0:00:01\r",
      "\u001b[K     |███████████████████████████▎    | 174kB 17.5MB/s eta 0:00:01\r",
      "\u001b[K     |████████████████████████████▉   | 184kB 17.5MB/s eta 0:00:01\r",
      "\u001b[K     |██████████████████████████████▍ | 194kB 17.5MB/s eta 0:00:01\r",
      "\u001b[K     |████████████████████████████████| 204kB 17.5MB/s \n",
      "\u001b[?25hRequirement already satisfied: numpy>=1.15 in /usr/local/lib/python3.7/dist-packages (from pingouin) (1.19.5)\n",
      "Requirement already satisfied: scipy>=1.3 in /usr/local/lib/python3.7/dist-packages (from pingouin) (1.4.1)\n",
      "Requirement already satisfied: pandas>=0.24 in /usr/local/lib/python3.7/dist-packages (from pingouin) (1.1.5)\n",
      "Requirement already satisfied: matplotlib>=3.0.2 in /usr/local/lib/python3.7/dist-packages (from pingouin) (3.2.2)\n",
      "Requirement already satisfied: seaborn>=0.9.0 in /usr/local/lib/python3.7/dist-packages (from pingouin) (0.11.1)\n",
      "Requirement already satisfied: statsmodels>=0.10.0 in /usr/local/lib/python3.7/dist-packages (from pingouin) (0.10.2)\n",
      "Requirement already satisfied: scikit-learn in /usr/local/lib/python3.7/dist-packages (from pingouin) (0.22.2.post1)\n",
      "Collecting pandas_flavor>=0.1.2\n",
      "  Downloading https://files.pythonhosted.org/packages/9a/57/7fbcff4c0961ed190ac5fcb0bd8194152ee1ee6487edf64fdbae16e2bc4b/pandas_flavor-0.2.0-py2.py3-none-any.whl\n",
      "Collecting outdated\n",
      "  Downloading https://files.pythonhosted.org/packages/fd/f6/95588d496e518355c33b389222c99069b1c6f2c046be64f400072fdc7cda/outdated-0.2.1-py3-none-any.whl\n",
      "Requirement already satisfied: tabulate in /usr/local/lib/python3.7/dist-packages (from pingouin) (0.8.9)\n",
      "Requirement already satisfied: pytz>=2017.2 in /usr/local/lib/python3.7/dist-packages (from pandas>=0.24->pingouin) (2018.9)\n",
      "Requirement already satisfied: python-dateutil>=2.7.3 in /usr/local/lib/python3.7/dist-packages (from pandas>=0.24->pingouin) (2.8.1)\n",
      "Requirement already satisfied: kiwisolver>=1.0.1 in /usr/local/lib/python3.7/dist-packages (from matplotlib>=3.0.2->pingouin) (1.3.1)\n",
      "Requirement already satisfied: pyparsing!=2.0.4,!=2.1.2,!=2.1.6,>=2.0.1 in /usr/local/lib/python3.7/dist-packages (from matplotlib>=3.0.2->pingouin) (2.4.7)\n",
      "Requirement already satisfied: cycler>=0.10 in /usr/local/lib/python3.7/dist-packages (from matplotlib>=3.0.2->pingouin) (0.10.0)\n",
      "Requirement already satisfied: patsy>=0.4.0 in /usr/local/lib/python3.7/dist-packages (from statsmodels>=0.10.0->pingouin) (0.5.1)\n",
      "Requirement already satisfied: joblib>=0.11 in /usr/local/lib/python3.7/dist-packages (from scikit-learn->pingouin) (1.0.1)\n",
      "Requirement already satisfied: xarray in /usr/local/lib/python3.7/dist-packages (from pandas_flavor>=0.1.2->pingouin) (0.15.1)\n",
      "Collecting littleutils\n",
      "  Downloading https://files.pythonhosted.org/packages/4e/b1/bb4e06f010947d67349f863b6a2ad71577f85590180a935f60543f622652/littleutils-0.2.2.tar.gz\n",
      "Requirement already satisfied: requests in /usr/local/lib/python3.7/dist-packages (from outdated->pingouin) (2.23.0)\n",
      "Requirement already satisfied: six>=1.5 in /usr/local/lib/python3.7/dist-packages (from python-dateutil>=2.7.3->pandas>=0.24->pingouin) (1.15.0)\n",
      "Requirement already satisfied: setuptools>=41.2 in /usr/local/lib/python3.7/dist-packages (from xarray->pandas_flavor>=0.1.2->pingouin) (54.2.0)\n",
      "Requirement already satisfied: certifi>=2017.4.17 in /usr/local/lib/python3.7/dist-packages (from requests->outdated->pingouin) (2020.12.5)\n",
      "Requirement already satisfied: urllib3!=1.25.0,!=1.25.1,<1.26,>=1.21.1 in /usr/local/lib/python3.7/dist-packages (from requests->outdated->pingouin) (1.24.3)\n",
      "Requirement already satisfied: idna<3,>=2.5 in /usr/local/lib/python3.7/dist-packages (from requests->outdated->pingouin) (2.10)\n",
      "Requirement already satisfied: chardet<4,>=3.0.2 in /usr/local/lib/python3.7/dist-packages (from requests->outdated->pingouin) (3.0.4)\n",
      "Building wheels for collected packages: pingouin, littleutils\n",
      "  Building wheel for pingouin (setup.py) ... \u001b[?25l\u001b[?25hdone\n",
      "  Created wheel for pingouin: filename=pingouin-0.3.10-cp37-none-any.whl size=203396 sha256=a4a7dc97297e1490ba28d3b6b969beeff76eb3ed21f28d5fce202b0c162b4feb\n",
      "  Stored in directory: /root/.cache/pip/wheels/e6/f4/06/b5046209e6c0d96b4dea243c45e926b5c0dd88e23b01c45f92\n",
      "  Building wheel for littleutils (setup.py) ... \u001b[?25l\u001b[?25hdone\n",
      "  Created wheel for littleutils: filename=littleutils-0.2.2-cp37-none-any.whl size=7051 sha256=cca7c9b2371c245f02bb8dfb76783b239609cd88746be435ade3c87c85db74af\n",
      "  Stored in directory: /root/.cache/pip/wheels/53/16/9f/ac67d15c40243754fd73f620e1b9b6dedc20492ecc19a2bae1\n",
      "Successfully built pingouin littleutils\n",
      "Installing collected packages: pandas-flavor, littleutils, outdated, pingouin\n",
      "Successfully installed littleutils-0.2.2 outdated-0.2.1 pandas-flavor-0.2.0 pingouin-0.3.10\n"
     ]
    }
   ],
   "source": [
    "!pip install pingouin"
   ]
  },
  {
   "cell_type": "code",
   "execution_count": 34,
   "metadata": {
    "id": "ecN1hVCUDz2z"
   },
   "outputs": [],
   "source": [
    "import pingouin as pg"
   ]
  },
  {
   "cell_type": "code",
   "execution_count": 35,
   "metadata": {
    "colab": {
     "base_uri": "https://localhost:8080/"
    },
    "id": "1-zDoOnbRGWu",
    "outputId": "0eeee2e1-914c-4d6d-bdcb-48bf7f9f3fb5"
   },
   "outputs": [
    {
     "name": "stdout",
     "output_type": "stream",
     "text": [
      "Mounted at /content/drive\n"
     ]
    }
   ],
   "source": [
    "drive.mount('/content/drive',force_remount=True)"
   ]
  },
  {
   "cell_type": "code",
   "execution_count": 36,
   "metadata": {
    "id": "0Bb4ERHlRSuP"
   },
   "outputs": [],
   "source": [
    "os.chdir('drive/My Drive')"
   ]
  },
  {
   "cell_type": "code",
   "execution_count": 37,
   "metadata": {
    "id": "UUNcZgDpRImi"
   },
   "outputs": [],
   "source": [
    "Train = pd.read_csv('Train.csv')"
   ]
  },
  {
   "cell_type": "code",
   "execution_count": 38,
   "metadata": {
    "colab": {
     "base_uri": "https://localhost:8080/",
     "height": 194
    },
    "id": "VlVkktJURZ0E",
    "outputId": "23a800b6-2ecf-4fc3-ec9c-44b715694acc"
   },
   "outputs": [
    {
     "data": {
      "text/html": [
       "<div>\n",
       "<style scoped>\n",
       "    .dataframe tbody tr th:only-of-type {\n",
       "        vertical-align: middle;\n",
       "    }\n",
       "\n",
       "    .dataframe tbody tr th {\n",
       "        vertical-align: top;\n",
       "    }\n",
       "\n",
       "    .dataframe thead th {\n",
       "        text-align: right;\n",
       "    }\n",
       "</style>\n",
       "<table border=\"1\" class=\"dataframe\">\n",
       "  <thead>\n",
       "    <tr style=\"text-align: right;\">\n",
       "      <th></th>\n",
       "      <th>txn_refr_key_dummy</th>\n",
       "      <th>rem_company_id_dummy</th>\n",
       "      <th>rem_act_no_dummy</th>\n",
       "      <th>bene_act_no_dummy</th>\n",
       "      <th>txn_amt</th>\n",
       "      <th>transaction_val_dt</th>\n",
       "      <th>yearmonth</th>\n",
       "      <th>txn_type</th>\n",
       "      <th>rem_company_ind</th>\n",
       "      <th>payroll_ind</th>\n",
       "    </tr>\n",
       "  </thead>\n",
       "  <tbody>\n",
       "    <tr>\n",
       "      <th>0</th>\n",
       "      <td>1</td>\n",
       "      <td>1000000000</td>\n",
       "      <td>5000000</td>\n",
       "      <td>8000000</td>\n",
       "      <td>1.458730</td>\n",
       "      <td>2020-09-17</td>\n",
       "      <td>202009</td>\n",
       "      <td>CROSS BORDER</td>\n",
       "      <td>Consumer</td>\n",
       "      <td>0</td>\n",
       "    </tr>\n",
       "    <tr>\n",
       "      <th>1</th>\n",
       "      <td>4</td>\n",
       "      <td>1000000020</td>\n",
       "      <td>5000200</td>\n",
       "      <td>8000200</td>\n",
       "      <td>1.269716</td>\n",
       "      <td>2020-09-30</td>\n",
       "      <td>202009</td>\n",
       "      <td>CROSS BORDER</td>\n",
       "      <td>Communications</td>\n",
       "      <td>0</td>\n",
       "    </tr>\n",
       "    <tr>\n",
       "      <th>2</th>\n",
       "      <td>5</td>\n",
       "      <td>1000000030</td>\n",
       "      <td>5000300</td>\n",
       "      <td>8000300</td>\n",
       "      <td>1.190682</td>\n",
       "      <td>2020-09-22</td>\n",
       "      <td>202009</td>\n",
       "      <td>CROSS BORDER</td>\n",
       "      <td>Industrials</td>\n",
       "      <td>0</td>\n",
       "    </tr>\n",
       "    <tr>\n",
       "      <th>3</th>\n",
       "      <td>7</td>\n",
       "      <td>1000000050</td>\n",
       "      <td>5000500</td>\n",
       "      <td>8000500</td>\n",
       "      <td>5.657271</td>\n",
       "      <td>2020-09-29</td>\n",
       "      <td>202009</td>\n",
       "      <td>CROSS BORDER</td>\n",
       "      <td>Technology</td>\n",
       "      <td>0</td>\n",
       "    </tr>\n",
       "    <tr>\n",
       "      <th>4</th>\n",
       "      <td>8</td>\n",
       "      <td>1000000020</td>\n",
       "      <td>5000200</td>\n",
       "      <td>8000600</td>\n",
       "      <td>1.239628</td>\n",
       "      <td>2020-09-29</td>\n",
       "      <td>202009</td>\n",
       "      <td>CROSS BORDER</td>\n",
       "      <td>Communications</td>\n",
       "      <td>0</td>\n",
       "    </tr>\n",
       "  </tbody>\n",
       "</table>\n",
       "</div>"
      ],
      "text/plain": [
       "   txn_refr_key_dummy  rem_company_id_dummy  ...  rem_company_ind  payroll_ind\n",
       "0                   1            1000000000  ...         Consumer            0\n",
       "1                   4            1000000020  ...   Communications            0\n",
       "2                   5            1000000030  ...      Industrials            0\n",
       "3                   7            1000000050  ...       Technology            0\n",
       "4                   8            1000000020  ...   Communications            0\n",
       "\n",
       "[5 rows x 10 columns]"
      ]
     },
     "execution_count": 38,
     "metadata": {
      "tags": []
     },
     "output_type": "execute_result"
    }
   ],
   "source": [
    "Train.head()"
   ]
  },
  {
   "cell_type": "code",
   "execution_count": 39,
   "metadata": {
    "colab": {
     "base_uri": "https://localhost:8080/",
     "height": 399
    },
    "id": "zZAe3SunaNNl",
    "outputId": "1b0084d6-1ff9-4431-f60c-598ecdc7605e"
   },
   "outputs": [
    {
     "data": {
      "text/html": [
       "<div>\n",
       "<style scoped>\n",
       "    .dataframe tbody tr th:only-of-type {\n",
       "        vertical-align: middle;\n",
       "    }\n",
       "\n",
       "    .dataframe tbody tr th {\n",
       "        vertical-align: top;\n",
       "    }\n",
       "\n",
       "    .dataframe thead th {\n",
       "        text-align: right;\n",
       "    }\n",
       "</style>\n",
       "<table border=\"1\" class=\"dataframe\">\n",
       "  <thead>\n",
       "    <tr style=\"text-align: right;\">\n",
       "      <th></th>\n",
       "      <th>txn_refr_key_dummy</th>\n",
       "      <th>rem_company_id_dummy</th>\n",
       "      <th>rem_act_no_dummy</th>\n",
       "      <th>bene_act_no_dummy</th>\n",
       "      <th>txn_amt</th>\n",
       "      <th>transaction_val_dt</th>\n",
       "      <th>yearmonth</th>\n",
       "      <th>txn_type</th>\n",
       "      <th>rem_company_ind</th>\n",
       "      <th>payroll_ind</th>\n",
       "    </tr>\n",
       "  </thead>\n",
       "  <tbody>\n",
       "    <tr>\n",
       "      <th>15</th>\n",
       "      <td>33</td>\n",
       "      <td>1000000110</td>\n",
       "      <td>5001200</td>\n",
       "      <td>8002600</td>\n",
       "      <td>5.378308</td>\n",
       "      <td>2020-09-16</td>\n",
       "      <td>202009</td>\n",
       "      <td>DOMESTIC</td>\n",
       "      <td>Public Sector</td>\n",
       "      <td>1</td>\n",
       "    </tr>\n",
       "    <tr>\n",
       "      <th>35</th>\n",
       "      <td>75</td>\n",
       "      <td>1000000310</td>\n",
       "      <td>5003300</td>\n",
       "      <td>8005600</td>\n",
       "      <td>1.211398</td>\n",
       "      <td>2020-09-23</td>\n",
       "      <td>202009</td>\n",
       "      <td>DOMESTIC</td>\n",
       "      <td>Industrials</td>\n",
       "      <td>1</td>\n",
       "    </tr>\n",
       "    <tr>\n",
       "      <th>40</th>\n",
       "      <td>89</td>\n",
       "      <td>1000000380</td>\n",
       "      <td>5004000</td>\n",
       "      <td>8006700</td>\n",
       "      <td>12.985000</td>\n",
       "      <td>2020-09-16</td>\n",
       "      <td>202009</td>\n",
       "      <td>DOMESTIC</td>\n",
       "      <td>Technology</td>\n",
       "      <td>1</td>\n",
       "    </tr>\n",
       "    <tr>\n",
       "      <th>48</th>\n",
       "      <td>105</td>\n",
       "      <td>1000000470</td>\n",
       "      <td>5004900</td>\n",
       "      <td>8008200</td>\n",
       "      <td>12.094386</td>\n",
       "      <td>2020-09-23</td>\n",
       "      <td>202009</td>\n",
       "      <td>DOMESTIC</td>\n",
       "      <td>Healthcare</td>\n",
       "      <td>1</td>\n",
       "    </tr>\n",
       "    <tr>\n",
       "      <th>55</th>\n",
       "      <td>115</td>\n",
       "      <td>1000000460</td>\n",
       "      <td>5004800</td>\n",
       "      <td>8008800</td>\n",
       "      <td>2.823904</td>\n",
       "      <td>2020-09-29</td>\n",
       "      <td>202009</td>\n",
       "      <td>DOMESTIC</td>\n",
       "      <td>Industrials</td>\n",
       "      <td>1</td>\n",
       "    </tr>\n",
       "    <tr>\n",
       "      <th>...</th>\n",
       "      <td>...</td>\n",
       "      <td>...</td>\n",
       "      <td>...</td>\n",
       "      <td>...</td>\n",
       "      <td>...</td>\n",
       "      <td>...</td>\n",
       "      <td>...</td>\n",
       "      <td>...</td>\n",
       "      <td>...</td>\n",
       "      <td>...</td>\n",
       "    </tr>\n",
       "    <tr>\n",
       "      <th>1430497</th>\n",
       "      <td>3220019</td>\n",
       "      <td>1000000460</td>\n",
       "      <td>5004800</td>\n",
       "      <td>52249300</td>\n",
       "      <td>2.985074</td>\n",
       "      <td>2021-02-26</td>\n",
       "      <td>202102</td>\n",
       "      <td>DOMESTIC</td>\n",
       "      <td>Industrials</td>\n",
       "      <td>1</td>\n",
       "    </tr>\n",
       "    <tr>\n",
       "      <th>1430501</th>\n",
       "      <td>3220025</td>\n",
       "      <td>1000000640</td>\n",
       "      <td>5006600</td>\n",
       "      <td>51718200</td>\n",
       "      <td>2.642819</td>\n",
       "      <td>2021-02-26</td>\n",
       "      <td>202102</td>\n",
       "      <td>DOMESTIC</td>\n",
       "      <td>Consumer</td>\n",
       "      <td>1</td>\n",
       "    </tr>\n",
       "    <tr>\n",
       "      <th>1430514</th>\n",
       "      <td>3220052</td>\n",
       "      <td>1000000460</td>\n",
       "      <td>5004800</td>\n",
       "      <td>18348500</td>\n",
       "      <td>2.601526</td>\n",
       "      <td>2021-02-26</td>\n",
       "      <td>202102</td>\n",
       "      <td>DOMESTIC</td>\n",
       "      <td>Industrials</td>\n",
       "      <td>1</td>\n",
       "    </tr>\n",
       "    <tr>\n",
       "      <th>1430520</th>\n",
       "      <td>3220061</td>\n",
       "      <td>1000003240</td>\n",
       "      <td>5035900</td>\n",
       "      <td>43295700</td>\n",
       "      <td>2.510863</td>\n",
       "      <td>2021-02-26</td>\n",
       "      <td>202102</td>\n",
       "      <td>DOMESTIC</td>\n",
       "      <td>Consumer</td>\n",
       "      <td>1</td>\n",
       "    </tr>\n",
       "    <tr>\n",
       "      <th>1430528</th>\n",
       "      <td>3220079</td>\n",
       "      <td>1000000460</td>\n",
       "      <td>5004800</td>\n",
       "      <td>24849800</td>\n",
       "      <td>3.760348</td>\n",
       "      <td>2021-02-26</td>\n",
       "      <td>202102</td>\n",
       "      <td>DOMESTIC</td>\n",
       "      <td>Industrials</td>\n",
       "      <td>1</td>\n",
       "    </tr>\n",
       "  </tbody>\n",
       "</table>\n",
       "<p>121939 rows × 10 columns</p>\n",
       "</div>"
      ],
      "text/plain": [
       "         txn_refr_key_dummy  rem_company_id_dummy  ...  rem_company_ind  payroll_ind\n",
       "15                       33            1000000110  ...    Public Sector            1\n",
       "35                       75            1000000310  ...      Industrials            1\n",
       "40                       89            1000000380  ...       Technology            1\n",
       "48                      105            1000000470  ...       Healthcare            1\n",
       "55                      115            1000000460  ...      Industrials            1\n",
       "...                     ...                   ...  ...              ...          ...\n",
       "1430497             3220019            1000000460  ...      Industrials            1\n",
       "1430501             3220025            1000000640  ...         Consumer            1\n",
       "1430514             3220052            1000000460  ...      Industrials            1\n",
       "1430520             3220061            1000003240  ...         Consumer            1\n",
       "1430528             3220079            1000000460  ...      Industrials            1\n",
       "\n",
       "[121939 rows x 10 columns]"
      ]
     },
     "execution_count": 39,
     "metadata": {
      "tags": []
     },
     "output_type": "execute_result"
    }
   ],
   "source": [
    "Train[Train.payroll_ind==1]"
   ]
  },
  {
   "cell_type": "code",
   "execution_count": 40,
   "metadata": {
    "colab": {
     "base_uri": "https://localhost:8080/",
     "height": 399
    },
    "id": "TfZ7lOHNaSaL",
    "outputId": "5562852d-4a93-45bc-deaf-e7b44bce0bac"
   },
   "outputs": [
    {
     "data": {
      "text/html": [
       "<div>\n",
       "<style scoped>\n",
       "    .dataframe tbody tr th:only-of-type {\n",
       "        vertical-align: middle;\n",
       "    }\n",
       "\n",
       "    .dataframe tbody tr th {\n",
       "        vertical-align: top;\n",
       "    }\n",
       "\n",
       "    .dataframe thead th {\n",
       "        text-align: right;\n",
       "    }\n",
       "</style>\n",
       "<table border=\"1\" class=\"dataframe\">\n",
       "  <thead>\n",
       "    <tr style=\"text-align: right;\">\n",
       "      <th></th>\n",
       "      <th>txn_refr_key_dummy</th>\n",
       "      <th>rem_company_id_dummy</th>\n",
       "      <th>rem_act_no_dummy</th>\n",
       "      <th>bene_act_no_dummy</th>\n",
       "      <th>txn_amt</th>\n",
       "      <th>transaction_val_dt</th>\n",
       "      <th>yearmonth</th>\n",
       "      <th>txn_type</th>\n",
       "      <th>rem_company_ind</th>\n",
       "      <th>payroll_ind</th>\n",
       "    </tr>\n",
       "  </thead>\n",
       "  <tbody>\n",
       "    <tr>\n",
       "      <th>0</th>\n",
       "      <td>1</td>\n",
       "      <td>1000000000</td>\n",
       "      <td>5000000</td>\n",
       "      <td>8000000</td>\n",
       "      <td>1.458730</td>\n",
       "      <td>2020-09-17</td>\n",
       "      <td>202009</td>\n",
       "      <td>CROSS BORDER</td>\n",
       "      <td>Consumer</td>\n",
       "      <td>0</td>\n",
       "    </tr>\n",
       "    <tr>\n",
       "      <th>1</th>\n",
       "      <td>4</td>\n",
       "      <td>1000000020</td>\n",
       "      <td>5000200</td>\n",
       "      <td>8000200</td>\n",
       "      <td>1.269716</td>\n",
       "      <td>2020-09-30</td>\n",
       "      <td>202009</td>\n",
       "      <td>CROSS BORDER</td>\n",
       "      <td>Communications</td>\n",
       "      <td>0</td>\n",
       "    </tr>\n",
       "    <tr>\n",
       "      <th>2</th>\n",
       "      <td>5</td>\n",
       "      <td>1000000030</td>\n",
       "      <td>5000300</td>\n",
       "      <td>8000300</td>\n",
       "      <td>1.190682</td>\n",
       "      <td>2020-09-22</td>\n",
       "      <td>202009</td>\n",
       "      <td>CROSS BORDER</td>\n",
       "      <td>Industrials</td>\n",
       "      <td>0</td>\n",
       "    </tr>\n",
       "    <tr>\n",
       "      <th>3</th>\n",
       "      <td>7</td>\n",
       "      <td>1000000050</td>\n",
       "      <td>5000500</td>\n",
       "      <td>8000500</td>\n",
       "      <td>5.657271</td>\n",
       "      <td>2020-09-29</td>\n",
       "      <td>202009</td>\n",
       "      <td>CROSS BORDER</td>\n",
       "      <td>Technology</td>\n",
       "      <td>0</td>\n",
       "    </tr>\n",
       "    <tr>\n",
       "      <th>4</th>\n",
       "      <td>8</td>\n",
       "      <td>1000000020</td>\n",
       "      <td>5000200</td>\n",
       "      <td>8000600</td>\n",
       "      <td>1.239628</td>\n",
       "      <td>2020-09-29</td>\n",
       "      <td>202009</td>\n",
       "      <td>CROSS BORDER</td>\n",
       "      <td>Communications</td>\n",
       "      <td>0</td>\n",
       "    </tr>\n",
       "    <tr>\n",
       "      <th>...</th>\n",
       "      <td>...</td>\n",
       "      <td>...</td>\n",
       "      <td>...</td>\n",
       "      <td>...</td>\n",
       "      <td>...</td>\n",
       "      <td>...</td>\n",
       "      <td>...</td>\n",
       "      <td>...</td>\n",
       "      <td>...</td>\n",
       "      <td>...</td>\n",
       "    </tr>\n",
       "    <tr>\n",
       "      <th>1430628</th>\n",
       "      <td>3220210</td>\n",
       "      <td>1000012750</td>\n",
       "      <td>5405900</td>\n",
       "      <td>42016200</td>\n",
       "      <td>24383.318059</td>\n",
       "      <td>2020-09-11</td>\n",
       "      <td>202009</td>\n",
       "      <td>DOMESTIC</td>\n",
       "      <td>Alternative Assets</td>\n",
       "      <td>0</td>\n",
       "    </tr>\n",
       "    <tr>\n",
       "      <th>1430629</th>\n",
       "      <td>3220217</td>\n",
       "      <td>1000012750</td>\n",
       "      <td>5239800</td>\n",
       "      <td>33635800</td>\n",
       "      <td>1374.240770</td>\n",
       "      <td>2020-09-29</td>\n",
       "      <td>202009</td>\n",
       "      <td>DOMESTIC</td>\n",
       "      <td>Alternative Assets</td>\n",
       "      <td>0</td>\n",
       "    </tr>\n",
       "    <tr>\n",
       "      <th>1430630</th>\n",
       "      <td>3220218</td>\n",
       "      <td>1000005780</td>\n",
       "      <td>5065100</td>\n",
       "      <td>16985300</td>\n",
       "      <td>4701.683817</td>\n",
       "      <td>2021-01-28</td>\n",
       "      <td>202101</td>\n",
       "      <td>CROSS BORDER</td>\n",
       "      <td>Financial Institutions</td>\n",
       "      <td>0</td>\n",
       "    </tr>\n",
       "    <tr>\n",
       "      <th>1430631</th>\n",
       "      <td>3220222</td>\n",
       "      <td>1000001680</td>\n",
       "      <td>5018300</td>\n",
       "      <td>8049000</td>\n",
       "      <td>1664.592870</td>\n",
       "      <td>2020-11-27</td>\n",
       "      <td>202011</td>\n",
       "      <td>CROSS BORDER</td>\n",
       "      <td>Industrials</td>\n",
       "      <td>0</td>\n",
       "    </tr>\n",
       "    <tr>\n",
       "      <th>1430632</th>\n",
       "      <td>3220224</td>\n",
       "      <td>1000005780</td>\n",
       "      <td>5065100</td>\n",
       "      <td>16985300</td>\n",
       "      <td>4350.131319</td>\n",
       "      <td>2021-02-26</td>\n",
       "      <td>202102</td>\n",
       "      <td>CROSS BORDER</td>\n",
       "      <td>Financial Institutions</td>\n",
       "      <td>0</td>\n",
       "    </tr>\n",
       "  </tbody>\n",
       "</table>\n",
       "<p>1308694 rows × 10 columns</p>\n",
       "</div>"
      ],
      "text/plain": [
       "         txn_refr_key_dummy  ...  payroll_ind\n",
       "0                         1  ...            0\n",
       "1                         4  ...            0\n",
       "2                         5  ...            0\n",
       "3                         7  ...            0\n",
       "4                         8  ...            0\n",
       "...                     ...  ...          ...\n",
       "1430628             3220210  ...            0\n",
       "1430629             3220217  ...            0\n",
       "1430630             3220218  ...            0\n",
       "1430631             3220222  ...            0\n",
       "1430632             3220224  ...            0\n",
       "\n",
       "[1308694 rows x 10 columns]"
      ]
     },
     "execution_count": 40,
     "metadata": {
      "tags": []
     },
     "output_type": "execute_result"
    }
   ],
   "source": [
    "Train[Train.payroll_ind==0]"
   ]
  },
  {
   "cell_type": "code",
   "execution_count": 41,
   "metadata": {
    "id": "bs3BaKby1H3o"
   },
   "outputs": [],
   "source": [
    "Train = Train.astype({\"rem_act_no_dummy\": str, \"bene_act_no_dummy\": str})\n"
   ]
  },
  {
   "cell_type": "code",
   "execution_count": 42,
   "metadata": {
    "colab": {
     "base_uri": "https://localhost:8080/"
    },
    "id": "-MsCzUiJ1zUX",
    "outputId": "60f810b3-fe03-4f85-bbc1-f312c1dcabfc"
   },
   "outputs": [
    {
     "data": {
      "text/plain": [
       "txn_refr_key_dummy        int64\n",
       "rem_company_id_dummy      int64\n",
       "rem_act_no_dummy         object\n",
       "bene_act_no_dummy        object\n",
       "txn_amt                 float64\n",
       "transaction_val_dt       object\n",
       "yearmonth                 int64\n",
       "txn_type                 object\n",
       "rem_company_ind          object\n",
       "payroll_ind               int64\n",
       "dtype: object"
      ]
     },
     "execution_count": 42,
     "metadata": {
      "tags": []
     },
     "output_type": "execute_result"
    }
   ],
   "source": [
    "Train.dtypes"
   ]
  },
  {
   "cell_type": "code",
   "execution_count": 43,
   "metadata": {
    "id": "Wtndchyf06O9"
   },
   "outputs": [],
   "source": [
    "Train['Index'] = Train['rem_act_no_dummy'].str.cat(Train['bene_act_no_dummy'],sep=\", \")"
   ]
  },
  {
   "cell_type": "code",
   "execution_count": 44,
   "metadata": {
    "id": "qSIfi24XzLJV"
   },
   "outputs": [],
   "source": [
    "Train = Train.set_index('Index')"
   ]
  },
  {
   "cell_type": "code",
   "execution_count": 45,
   "metadata": {
    "colab": {
     "base_uri": "https://localhost:8080/",
     "height": 428
    },
    "id": "BYpMqmGI25QZ",
    "outputId": "25994fb4-e372-4fc2-b79e-a3b408f417f6"
   },
   "outputs": [
    {
     "data": {
      "text/html": [
       "<div>\n",
       "<style scoped>\n",
       "    .dataframe tbody tr th:only-of-type {\n",
       "        vertical-align: middle;\n",
       "    }\n",
       "\n",
       "    .dataframe tbody tr th {\n",
       "        vertical-align: top;\n",
       "    }\n",
       "\n",
       "    .dataframe thead th {\n",
       "        text-align: right;\n",
       "    }\n",
       "</style>\n",
       "<table border=\"1\" class=\"dataframe\">\n",
       "  <thead>\n",
       "    <tr style=\"text-align: right;\">\n",
       "      <th></th>\n",
       "      <th>txn_refr_key_dummy</th>\n",
       "      <th>rem_company_id_dummy</th>\n",
       "      <th>rem_act_no_dummy</th>\n",
       "      <th>bene_act_no_dummy</th>\n",
       "      <th>txn_amt</th>\n",
       "      <th>transaction_val_dt</th>\n",
       "      <th>yearmonth</th>\n",
       "      <th>txn_type</th>\n",
       "      <th>rem_company_ind</th>\n",
       "      <th>payroll_ind</th>\n",
       "    </tr>\n",
       "    <tr>\n",
       "      <th>Index</th>\n",
       "      <th></th>\n",
       "      <th></th>\n",
       "      <th></th>\n",
       "      <th></th>\n",
       "      <th></th>\n",
       "      <th></th>\n",
       "      <th></th>\n",
       "      <th></th>\n",
       "      <th></th>\n",
       "      <th></th>\n",
       "    </tr>\n",
       "  </thead>\n",
       "  <tbody>\n",
       "    <tr>\n",
       "      <th>5000000, 8000000</th>\n",
       "      <td>1</td>\n",
       "      <td>1000000000</td>\n",
       "      <td>5000000</td>\n",
       "      <td>8000000</td>\n",
       "      <td>1.458730</td>\n",
       "      <td>2020-09-17</td>\n",
       "      <td>202009</td>\n",
       "      <td>CROSS BORDER</td>\n",
       "      <td>Consumer</td>\n",
       "      <td>0</td>\n",
       "    </tr>\n",
       "    <tr>\n",
       "      <th>5000200, 8000200</th>\n",
       "      <td>4</td>\n",
       "      <td>1000000020</td>\n",
       "      <td>5000200</td>\n",
       "      <td>8000200</td>\n",
       "      <td>1.269716</td>\n",
       "      <td>2020-09-30</td>\n",
       "      <td>202009</td>\n",
       "      <td>CROSS BORDER</td>\n",
       "      <td>Communications</td>\n",
       "      <td>0</td>\n",
       "    </tr>\n",
       "    <tr>\n",
       "      <th>5000300, 8000300</th>\n",
       "      <td>5</td>\n",
       "      <td>1000000030</td>\n",
       "      <td>5000300</td>\n",
       "      <td>8000300</td>\n",
       "      <td>1.190682</td>\n",
       "      <td>2020-09-22</td>\n",
       "      <td>202009</td>\n",
       "      <td>CROSS BORDER</td>\n",
       "      <td>Industrials</td>\n",
       "      <td>0</td>\n",
       "    </tr>\n",
       "    <tr>\n",
       "      <th>5000500, 8000500</th>\n",
       "      <td>7</td>\n",
       "      <td>1000000050</td>\n",
       "      <td>5000500</td>\n",
       "      <td>8000500</td>\n",
       "      <td>5.657271</td>\n",
       "      <td>2020-09-29</td>\n",
       "      <td>202009</td>\n",
       "      <td>CROSS BORDER</td>\n",
       "      <td>Technology</td>\n",
       "      <td>0</td>\n",
       "    </tr>\n",
       "    <tr>\n",
       "      <th>5000200, 8000600</th>\n",
       "      <td>8</td>\n",
       "      <td>1000000020</td>\n",
       "      <td>5000200</td>\n",
       "      <td>8000600</td>\n",
       "      <td>1.239628</td>\n",
       "      <td>2020-09-29</td>\n",
       "      <td>202009</td>\n",
       "      <td>CROSS BORDER</td>\n",
       "      <td>Communications</td>\n",
       "      <td>0</td>\n",
       "    </tr>\n",
       "    <tr>\n",
       "      <th>...</th>\n",
       "      <td>...</td>\n",
       "      <td>...</td>\n",
       "      <td>...</td>\n",
       "      <td>...</td>\n",
       "      <td>...</td>\n",
       "      <td>...</td>\n",
       "      <td>...</td>\n",
       "      <td>...</td>\n",
       "      <td>...</td>\n",
       "      <td>...</td>\n",
       "    </tr>\n",
       "    <tr>\n",
       "      <th>5405900, 42016200</th>\n",
       "      <td>3220210</td>\n",
       "      <td>1000012750</td>\n",
       "      <td>5405900</td>\n",
       "      <td>42016200</td>\n",
       "      <td>24383.318059</td>\n",
       "      <td>2020-09-11</td>\n",
       "      <td>202009</td>\n",
       "      <td>DOMESTIC</td>\n",
       "      <td>Alternative Assets</td>\n",
       "      <td>0</td>\n",
       "    </tr>\n",
       "    <tr>\n",
       "      <th>5239800, 33635800</th>\n",
       "      <td>3220217</td>\n",
       "      <td>1000012750</td>\n",
       "      <td>5239800</td>\n",
       "      <td>33635800</td>\n",
       "      <td>1374.240770</td>\n",
       "      <td>2020-09-29</td>\n",
       "      <td>202009</td>\n",
       "      <td>DOMESTIC</td>\n",
       "      <td>Alternative Assets</td>\n",
       "      <td>0</td>\n",
       "    </tr>\n",
       "    <tr>\n",
       "      <th>5065100, 16985300</th>\n",
       "      <td>3220218</td>\n",
       "      <td>1000005780</td>\n",
       "      <td>5065100</td>\n",
       "      <td>16985300</td>\n",
       "      <td>4701.683817</td>\n",
       "      <td>2021-01-28</td>\n",
       "      <td>202101</td>\n",
       "      <td>CROSS BORDER</td>\n",
       "      <td>Financial Institutions</td>\n",
       "      <td>0</td>\n",
       "    </tr>\n",
       "    <tr>\n",
       "      <th>5018300, 8049000</th>\n",
       "      <td>3220222</td>\n",
       "      <td>1000001680</td>\n",
       "      <td>5018300</td>\n",
       "      <td>8049000</td>\n",
       "      <td>1664.592870</td>\n",
       "      <td>2020-11-27</td>\n",
       "      <td>202011</td>\n",
       "      <td>CROSS BORDER</td>\n",
       "      <td>Industrials</td>\n",
       "      <td>0</td>\n",
       "    </tr>\n",
       "    <tr>\n",
       "      <th>5065100, 16985300</th>\n",
       "      <td>3220224</td>\n",
       "      <td>1000005780</td>\n",
       "      <td>5065100</td>\n",
       "      <td>16985300</td>\n",
       "      <td>4350.131319</td>\n",
       "      <td>2021-02-26</td>\n",
       "      <td>202102</td>\n",
       "      <td>CROSS BORDER</td>\n",
       "      <td>Financial Institutions</td>\n",
       "      <td>0</td>\n",
       "    </tr>\n",
       "  </tbody>\n",
       "</table>\n",
       "<p>1430633 rows × 10 columns</p>\n",
       "</div>"
      ],
      "text/plain": [
       "                   txn_refr_key_dummy  ...  payroll_ind\n",
       "Index                                  ...             \n",
       "5000000, 8000000                    1  ...            0\n",
       "5000200, 8000200                    4  ...            0\n",
       "5000300, 8000300                    5  ...            0\n",
       "5000500, 8000500                    7  ...            0\n",
       "5000200, 8000600                    8  ...            0\n",
       "...                               ...  ...          ...\n",
       "5405900, 42016200             3220210  ...            0\n",
       "5239800, 33635800             3220217  ...            0\n",
       "5065100, 16985300             3220218  ...            0\n",
       "5018300, 8049000              3220222  ...            0\n",
       "5065100, 16985300             3220224  ...            0\n",
       "\n",
       "[1430633 rows x 10 columns]"
      ]
     },
     "execution_count": 45,
     "metadata": {
      "tags": []
     },
     "output_type": "execute_result"
    }
   ],
   "source": [
    "Train"
   ]
  },
  {
   "cell_type": "markdown",
   "metadata": {
    "id": "cJuY7nauzIks"
   },
   "source": [
    "# Feature Transformation"
   ]
  },
  {
   "cell_type": "markdown",
   "metadata": {
    "id": "SWeL4cmz37sR"
   },
   "source": [
    "Dropping txn_refr_key_dummy, rem_company_id_dummy, and yearmonth since these are non important/ reduntant"
   ]
  },
  {
   "cell_type": "code",
   "execution_count": 46,
   "metadata": {
    "id": "TDzhG18R4IZZ"
   },
   "outputs": [],
   "source": [
    "Train = Train.drop(['txn_refr_key_dummy', 'yearmonth', 'rem_act_no_dummy', 'bene_act_no_dummy'], axis = 1)"
   ]
  },
  {
   "cell_type": "code",
   "execution_count": 47,
   "metadata": {
    "colab": {
     "base_uri": "https://localhost:8080/",
     "height": 223
    },
    "id": "3QK2gbiq4Ib3",
    "outputId": "7b72aeb5-f7e2-4cc3-b9dc-7ada66b04b60"
   },
   "outputs": [
    {
     "data": {
      "text/html": [
       "<div>\n",
       "<style scoped>\n",
       "    .dataframe tbody tr th:only-of-type {\n",
       "        vertical-align: middle;\n",
       "    }\n",
       "\n",
       "    .dataframe tbody tr th {\n",
       "        vertical-align: top;\n",
       "    }\n",
       "\n",
       "    .dataframe thead th {\n",
       "        text-align: right;\n",
       "    }\n",
       "</style>\n",
       "<table border=\"1\" class=\"dataframe\">\n",
       "  <thead>\n",
       "    <tr style=\"text-align: right;\">\n",
       "      <th></th>\n",
       "      <th>rem_company_id_dummy</th>\n",
       "      <th>txn_amt</th>\n",
       "      <th>transaction_val_dt</th>\n",
       "      <th>txn_type</th>\n",
       "      <th>rem_company_ind</th>\n",
       "      <th>payroll_ind</th>\n",
       "    </tr>\n",
       "    <tr>\n",
       "      <th>Index</th>\n",
       "      <th></th>\n",
       "      <th></th>\n",
       "      <th></th>\n",
       "      <th></th>\n",
       "      <th></th>\n",
       "      <th></th>\n",
       "    </tr>\n",
       "  </thead>\n",
       "  <tbody>\n",
       "    <tr>\n",
       "      <th>5000000, 8000000</th>\n",
       "      <td>1000000000</td>\n",
       "      <td>1.458730</td>\n",
       "      <td>2020-09-17</td>\n",
       "      <td>CROSS BORDER</td>\n",
       "      <td>Consumer</td>\n",
       "      <td>0</td>\n",
       "    </tr>\n",
       "    <tr>\n",
       "      <th>5000200, 8000200</th>\n",
       "      <td>1000000020</td>\n",
       "      <td>1.269716</td>\n",
       "      <td>2020-09-30</td>\n",
       "      <td>CROSS BORDER</td>\n",
       "      <td>Communications</td>\n",
       "      <td>0</td>\n",
       "    </tr>\n",
       "    <tr>\n",
       "      <th>5000300, 8000300</th>\n",
       "      <td>1000000030</td>\n",
       "      <td>1.190682</td>\n",
       "      <td>2020-09-22</td>\n",
       "      <td>CROSS BORDER</td>\n",
       "      <td>Industrials</td>\n",
       "      <td>0</td>\n",
       "    </tr>\n",
       "    <tr>\n",
       "      <th>5000500, 8000500</th>\n",
       "      <td>1000000050</td>\n",
       "      <td>5.657271</td>\n",
       "      <td>2020-09-29</td>\n",
       "      <td>CROSS BORDER</td>\n",
       "      <td>Technology</td>\n",
       "      <td>0</td>\n",
       "    </tr>\n",
       "    <tr>\n",
       "      <th>5000200, 8000600</th>\n",
       "      <td>1000000020</td>\n",
       "      <td>1.239628</td>\n",
       "      <td>2020-09-29</td>\n",
       "      <td>CROSS BORDER</td>\n",
       "      <td>Communications</td>\n",
       "      <td>0</td>\n",
       "    </tr>\n",
       "  </tbody>\n",
       "</table>\n",
       "</div>"
      ],
      "text/plain": [
       "                  rem_company_id_dummy   txn_amt  ... rem_company_ind payroll_ind\n",
       "Index                                             ...                            \n",
       "5000000, 8000000            1000000000  1.458730  ...        Consumer           0\n",
       "5000200, 8000200            1000000020  1.269716  ...  Communications           0\n",
       "5000300, 8000300            1000000030  1.190682  ...     Industrials           0\n",
       "5000500, 8000500            1000000050  5.657271  ...      Technology           0\n",
       "5000200, 8000600            1000000020  1.239628  ...  Communications           0\n",
       "\n",
       "[5 rows x 6 columns]"
      ]
     },
     "execution_count": 47,
     "metadata": {
      "tags": []
     },
     "output_type": "execute_result"
    }
   ],
   "source": [
    "Train.head()"
   ]
  },
  {
   "cell_type": "code",
   "execution_count": 48,
   "metadata": {
    "id": "rQc_Z0SN-M3z"
   },
   "outputs": [],
   "source": [
    "temp = Train.index.value_counts().values"
   ]
  },
  {
   "cell_type": "code",
   "execution_count": 49,
   "metadata": {
    "colab": {
     "base_uri": "https://localhost:8080/",
     "height": 265
    },
    "id": "BDaRlXPri2Jp",
    "outputId": "48eb85af-6286-42c3-8054-b944f02e9437"
   },
   "outputs": [
    {
     "data": {
      "image/png": "[encoded data removed]",
      "text/plain": [
       "<Figure size 432x288 with 1 Axes>"
      ]
     },
     "metadata": {
      "needs_background": "light",
      "tags": []
     },
     "output_type": "display_data"
    }
   ],
   "source": [
    "plt.hist(temp[np.where(temp<2000)[0]],bins = 100)\n",
    "plt.show()"
   ]
  },
  {
   "cell_type": "markdown",
   "metadata": {
    "id": "8uPd8AXr5_8R"
   },
   "source": [
    "####txn_type: 62 indices have different values - What can we do about it \n"
   ]
  },
  {
   "cell_type": "code",
   "execution_count": 50,
   "metadata": {
    "colab": {
     "base_uri": "https://localhost:8080/"
    },
    "id": "XzYmqtV6-Uh3",
    "outputId": "b7787334-614b-4cf9-fa73-c047ce526c1f"
   },
   "outputs": [
    {
     "data": {
      "text/plain": [
       "Index\n",
       "5000000, 10028200    [CROSS BORDER]\n",
       "5000000, 10072700    [CROSS BORDER]\n",
       "5000000, 10089800    [CROSS BORDER]\n",
       "5000000, 10472700    [CROSS BORDER]\n",
       "5000000, 10670700    [CROSS BORDER]\n",
       "                          ...      \n",
       "5742900, 74564200    [CROSS BORDER]\n",
       "5743300, 74530200        [DOMESTIC]\n",
       "5743500, 74532600        [DOMESTIC]\n",
       "5743600, 74560500    [CROSS BORDER]\n",
       "5743700, 74586600    [CROSS BORDER]\n",
       "Name: txn_type, Length: 382795, dtype: object"
      ]
     },
     "execution_count": 50,
     "metadata": {
      "tags": []
     },
     "output_type": "execute_result"
    }
   ],
   "source": [
    "Unique_txn_type = Train.groupby('Index').txn_type.unique()\n",
    "Unique_txn_type"
   ]
  },
  {
   "cell_type": "code",
   "execution_count": 51,
   "metadata": {
    "id": "V9Os-LoIAWRe"
   },
   "outputs": [],
   "source": [
    "temp = pd.DataFrame(Unique_txn_type)\n",
    "temp['length'] = temp['txn_type'].apply(lambda x:len(x))\n",
    "multiple_txn_type = temp[temp.length>1]"
   ]
  },
  {
   "cell_type": "code",
   "execution_count": 52,
   "metadata": {
    "colab": {
     "base_uri": "https://localhost:8080/",
     "height": 428
    },
    "id": "ICIaSunBjWUB",
    "outputId": "ceee7b1b-2e46-441c-f130-5ab64c52900d"
   },
   "outputs": [
    {
     "data": {
      "text/html": [
       "<div>\n",
       "<style scoped>\n",
       "    .dataframe tbody tr th:only-of-type {\n",
       "        vertical-align: middle;\n",
       "    }\n",
       "\n",
       "    .dataframe tbody tr th {\n",
       "        vertical-align: top;\n",
       "    }\n",
       "\n",
       "    .dataframe thead th {\n",
       "        text-align: right;\n",
       "    }\n",
       "</style>\n",
       "<table border=\"1\" class=\"dataframe\">\n",
       "  <thead>\n",
       "    <tr style=\"text-align: right;\">\n",
       "      <th></th>\n",
       "      <th>txn_type</th>\n",
       "      <th>length</th>\n",
       "    </tr>\n",
       "    <tr>\n",
       "      <th>Index</th>\n",
       "      <th></th>\n",
       "      <th></th>\n",
       "    </tr>\n",
       "  </thead>\n",
       "  <tbody>\n",
       "    <tr>\n",
       "      <th>5011300, 9842500</th>\n",
       "      <td>[DOMESTIC, CROSS BORDER]</td>\n",
       "      <td>2</td>\n",
       "    </tr>\n",
       "    <tr>\n",
       "      <th>5017600, 13247000</th>\n",
       "      <td>[DOMESTIC, CROSS BORDER]</td>\n",
       "      <td>2</td>\n",
       "    </tr>\n",
       "    <tr>\n",
       "      <th>5017600, 13834700</th>\n",
       "      <td>[CROSS BORDER, DOMESTIC]</td>\n",
       "      <td>2</td>\n",
       "    </tr>\n",
       "    <tr>\n",
       "      <th>5017600, 14291700</th>\n",
       "      <td>[DOMESTIC, CROSS BORDER]</td>\n",
       "      <td>2</td>\n",
       "    </tr>\n",
       "    <tr>\n",
       "      <th>5017600, 14298300</th>\n",
       "      <td>[CROSS BORDER, DOMESTIC]</td>\n",
       "      <td>2</td>\n",
       "    </tr>\n",
       "    <tr>\n",
       "      <th>...</th>\n",
       "      <td>...</td>\n",
       "      <td>...</td>\n",
       "    </tr>\n",
       "    <tr>\n",
       "      <th>5411600, 39583900</th>\n",
       "      <td>[DOMESTIC, CROSS BORDER]</td>\n",
       "      <td>2</td>\n",
       "    </tr>\n",
       "    <tr>\n",
       "      <th>5411700, 39583900</th>\n",
       "      <td>[DOMESTIC, CROSS BORDER]</td>\n",
       "      <td>2</td>\n",
       "    </tr>\n",
       "    <tr>\n",
       "      <th>5465800, 30119200</th>\n",
       "      <td>[DOMESTIC, CROSS BORDER]</td>\n",
       "      <td>2</td>\n",
       "    </tr>\n",
       "    <tr>\n",
       "      <th>5465800, 39583900</th>\n",
       "      <td>[DOMESTIC, CROSS BORDER]</td>\n",
       "      <td>2</td>\n",
       "    </tr>\n",
       "    <tr>\n",
       "      <th>5484700, 30119200</th>\n",
       "      <td>[DOMESTIC, CROSS BORDER]</td>\n",
       "      <td>2</td>\n",
       "    </tr>\n",
       "  </tbody>\n",
       "</table>\n",
       "<p>62 rows × 2 columns</p>\n",
       "</div>"
      ],
      "text/plain": [
       "                                   txn_type  length\n",
       "Index                                              \n",
       "5011300, 9842500   [DOMESTIC, CROSS BORDER]       2\n",
       "5017600, 13247000  [DOMESTIC, CROSS BORDER]       2\n",
       "5017600, 13834700  [CROSS BORDER, DOMESTIC]       2\n",
       "5017600, 14291700  [DOMESTIC, CROSS BORDER]       2\n",
       "5017600, 14298300  [CROSS BORDER, DOMESTIC]       2\n",
       "...                                     ...     ...\n",
       "5411600, 39583900  [DOMESTIC, CROSS BORDER]       2\n",
       "5411700, 39583900  [DOMESTIC, CROSS BORDER]       2\n",
       "5465800, 30119200  [DOMESTIC, CROSS BORDER]       2\n",
       "5465800, 39583900  [DOMESTIC, CROSS BORDER]       2\n",
       "5484700, 30119200  [DOMESTIC, CROSS BORDER]       2\n",
       "\n",
       "[62 rows x 2 columns]"
      ]
     },
     "execution_count": 52,
     "metadata": {
      "tags": []
     },
     "output_type": "execute_result"
    }
   ],
   "source": [
    "multiple_txn_type"
   ]
  },
  {
   "cell_type": "code",
   "execution_count": 53,
   "metadata": {
    "id": "qy-w9l-bjY15"
   },
   "outputs": [],
   "source": [
    "multiple_index = multiple_txn_type.index"
   ]
  },
  {
   "cell_type": "code",
   "execution_count": 54,
   "metadata": {
    "id": "d3r2s5HFjdR6"
   },
   "outputs": [],
   "source": [
    "ratios = []\n",
    "for i in multiple_index:\n",
    "  num = 0\n",
    "  den = 0\n",
    "  # print(Train.loc[i,'txn_type'].value_counts())\n",
    "  ratio = Train.loc[i,'txn_type'].value_counts()[0]/Train.loc[i,'txn_type'].value_counts()[1]\n",
    "  ratios.append(ratio)\n"
   ]
  },
  {
   "cell_type": "code",
   "execution_count": 55,
   "metadata": {
    "colab": {
     "base_uri": "https://localhost:8080/"
    },
    "id": "O63xSEGvkSQw",
    "outputId": "daab7107-c2da-453b-bd84-ca2decee468c"
   },
   "outputs": [
    {
     "data": {
      "text/plain": [
       "1.0     18\n",
       "3.0     10\n",
       "2.0      9\n",
       "5.0      5\n",
       "6.0      5\n",
       "4.0      4\n",
       "7.0      3\n",
       "10.0     2\n",
       "1.5      2\n",
       "1.6      1\n",
       "9.2      1\n",
       "16.0     1\n",
       "3.5      1\n",
       "dtype: int64"
      ]
     },
     "execution_count": 55,
     "metadata": {
      "tags": []
     },
     "output_type": "execute_result"
    }
   ],
   "source": [
    "pd.Series(ratios).value_counts()"
   ]
  },
  {
   "cell_type": "code",
   "execution_count": 56,
   "metadata": {
    "colab": {
     "base_uri": "https://localhost:8080/",
     "height": 428
    },
    "id": "NpurUixyY8Iv",
    "outputId": "3b74eb12-639b-4619-9d2a-de59f01c4e4a"
   },
   "outputs": [
    {
     "data": {
      "text/html": [
       "<div>\n",
       "<style scoped>\n",
       "    .dataframe tbody tr th:only-of-type {\n",
       "        vertical-align: middle;\n",
       "    }\n",
       "\n",
       "    .dataframe tbody tr th {\n",
       "        vertical-align: top;\n",
       "    }\n",
       "\n",
       "    .dataframe thead th {\n",
       "        text-align: right;\n",
       "    }\n",
       "</style>\n",
       "<table border=\"1\" class=\"dataframe\">\n",
       "  <thead>\n",
       "    <tr style=\"text-align: right;\">\n",
       "      <th></th>\n",
       "      <th>txn_type</th>\n",
       "      <th>length</th>\n",
       "    </tr>\n",
       "    <tr>\n",
       "      <th>Index</th>\n",
       "      <th></th>\n",
       "      <th></th>\n",
       "    </tr>\n",
       "  </thead>\n",
       "  <tbody>\n",
       "    <tr>\n",
       "      <th>5011300, 9842500</th>\n",
       "      <td>[DOMESTIC, CROSS BORDER]</td>\n",
       "      <td>2</td>\n",
       "    </tr>\n",
       "    <tr>\n",
       "      <th>5017600, 13247000</th>\n",
       "      <td>[DOMESTIC, CROSS BORDER]</td>\n",
       "      <td>2</td>\n",
       "    </tr>\n",
       "    <tr>\n",
       "      <th>5017600, 13834700</th>\n",
       "      <td>[CROSS BORDER, DOMESTIC]</td>\n",
       "      <td>2</td>\n",
       "    </tr>\n",
       "    <tr>\n",
       "      <th>5017600, 14291700</th>\n",
       "      <td>[DOMESTIC, CROSS BORDER]</td>\n",
       "      <td>2</td>\n",
       "    </tr>\n",
       "    <tr>\n",
       "      <th>5017600, 14298300</th>\n",
       "      <td>[CROSS BORDER, DOMESTIC]</td>\n",
       "      <td>2</td>\n",
       "    </tr>\n",
       "    <tr>\n",
       "      <th>...</th>\n",
       "      <td>...</td>\n",
       "      <td>...</td>\n",
       "    </tr>\n",
       "    <tr>\n",
       "      <th>5411600, 39583900</th>\n",
       "      <td>[DOMESTIC, CROSS BORDER]</td>\n",
       "      <td>2</td>\n",
       "    </tr>\n",
       "    <tr>\n",
       "      <th>5411700, 39583900</th>\n",
       "      <td>[DOMESTIC, CROSS BORDER]</td>\n",
       "      <td>2</td>\n",
       "    </tr>\n",
       "    <tr>\n",
       "      <th>5465800, 30119200</th>\n",
       "      <td>[DOMESTIC, CROSS BORDER]</td>\n",
       "      <td>2</td>\n",
       "    </tr>\n",
       "    <tr>\n",
       "      <th>5465800, 39583900</th>\n",
       "      <td>[DOMESTIC, CROSS BORDER]</td>\n",
       "      <td>2</td>\n",
       "    </tr>\n",
       "    <tr>\n",
       "      <th>5484700, 30119200</th>\n",
       "      <td>[DOMESTIC, CROSS BORDER]</td>\n",
       "      <td>2</td>\n",
       "    </tr>\n",
       "  </tbody>\n",
       "</table>\n",
       "<p>62 rows × 2 columns</p>\n",
       "</div>"
      ],
      "text/plain": [
       "                                   txn_type  length\n",
       "Index                                              \n",
       "5011300, 9842500   [DOMESTIC, CROSS BORDER]       2\n",
       "5017600, 13247000  [DOMESTIC, CROSS BORDER]       2\n",
       "5017600, 13834700  [CROSS BORDER, DOMESTIC]       2\n",
       "5017600, 14291700  [DOMESTIC, CROSS BORDER]       2\n",
       "5017600, 14298300  [CROSS BORDER, DOMESTIC]       2\n",
       "...                                     ...     ...\n",
       "5411600, 39583900  [DOMESTIC, CROSS BORDER]       2\n",
       "5411700, 39583900  [DOMESTIC, CROSS BORDER]       2\n",
       "5465800, 30119200  [DOMESTIC, CROSS BORDER]       2\n",
       "5465800, 39583900  [DOMESTIC, CROSS BORDER]       2\n",
       "5484700, 30119200  [DOMESTIC, CROSS BORDER]       2\n",
       "\n",
       "[62 rows x 2 columns]"
      ]
     },
     "execution_count": 56,
     "metadata": {
      "tags": []
     },
     "output_type": "execute_result"
    }
   ],
   "source": [
    "temp[temp.length>1]"
   ]
  },
  {
   "cell_type": "code",
   "execution_count": 57,
   "metadata": {
    "id": "UIDnYpidconF"
   },
   "outputs": [],
   "source": [
    "# temp[temp.length>1].to_csv('txn_type.csv')\n",
    "# files.download('txn_type.csv')"
   ]
  },
  {
   "cell_type": "code",
   "execution_count": 58,
   "metadata": {
    "id": "sgosSCz7YCG7"
   },
   "outputs": [],
   "source": [
    "temp.to_csv('txn_type.csv')"
   ]
  },
  {
   "cell_type": "code",
   "execution_count": 59,
   "metadata": {
    "id": "j-y0Pg-5YjhY"
   },
   "outputs": [],
   "source": [
    "# from google.colab import files\n",
    "# files.download('txn_type.csv')"
   ]
  },
  {
   "cell_type": "code",
   "execution_count": 60,
   "metadata": {
    "colab": {
     "base_uri": "https://localhost:8080/",
     "height": 311
    },
    "id": "kljfe2_VCauk",
    "outputId": "3a9fa75a-b8c9-486a-dd5d-d4d337f35f79"
   },
   "outputs": [
    {
     "data": {
      "text/html": [
       "<div>\n",
       "<style scoped>\n",
       "    .dataframe tbody tr th:only-of-type {\n",
       "        vertical-align: middle;\n",
       "    }\n",
       "\n",
       "    .dataframe tbody tr th {\n",
       "        vertical-align: top;\n",
       "    }\n",
       "\n",
       "    .dataframe thead th {\n",
       "        text-align: right;\n",
       "    }\n",
       "</style>\n",
       "<table border=\"1\" class=\"dataframe\">\n",
       "  <thead>\n",
       "    <tr style=\"text-align: right;\">\n",
       "      <th></th>\n",
       "      <th>rem_company_id_dummy</th>\n",
       "      <th>txn_amt</th>\n",
       "      <th>transaction_val_dt</th>\n",
       "      <th>txn_type</th>\n",
       "      <th>rem_company_ind</th>\n",
       "      <th>payroll_ind</th>\n",
       "    </tr>\n",
       "    <tr>\n",
       "      <th>Index</th>\n",
       "      <th></th>\n",
       "      <th></th>\n",
       "      <th></th>\n",
       "      <th></th>\n",
       "      <th></th>\n",
       "      <th></th>\n",
       "    </tr>\n",
       "  </thead>\n",
       "  <tbody>\n",
       "    <tr>\n",
       "      <th>5070600, 10616600</th>\n",
       "      <td>1000006180</td>\n",
       "      <td>9.842014</td>\n",
       "      <td>2021-01-20</td>\n",
       "      <td>DOMESTIC</td>\n",
       "      <td>Financial Institutions</td>\n",
       "      <td>1</td>\n",
       "    </tr>\n",
       "    <tr>\n",
       "      <th>5070600, 10616600</th>\n",
       "      <td>1000006180</td>\n",
       "      <td>9.946744</td>\n",
       "      <td>2020-12-21</td>\n",
       "      <td>DOMESTIC</td>\n",
       "      <td>Financial Institutions</td>\n",
       "      <td>1</td>\n",
       "    </tr>\n",
       "    <tr>\n",
       "      <th>5070600, 10616600</th>\n",
       "      <td>1000006180</td>\n",
       "      <td>9.639303</td>\n",
       "      <td>2020-10-20</td>\n",
       "      <td>DOMESTIC</td>\n",
       "      <td>Financial Institutions</td>\n",
       "      <td>1</td>\n",
       "    </tr>\n",
       "    <tr>\n",
       "      <th>5070600, 10616600</th>\n",
       "      <td>1000006180</td>\n",
       "      <td>1.553521</td>\n",
       "      <td>2020-12-07</td>\n",
       "      <td>DOMESTIC</td>\n",
       "      <td>Financial Institutions</td>\n",
       "      <td>1</td>\n",
       "    </tr>\n",
       "    <tr>\n",
       "      <th>5070600, 10616600</th>\n",
       "      <td>1000006180</td>\n",
       "      <td>1.344963</td>\n",
       "      <td>2020-12-18</td>\n",
       "      <td>DOMESTIC</td>\n",
       "      <td>Financial Institutions</td>\n",
       "      <td>1</td>\n",
       "    </tr>\n",
       "    <tr>\n",
       "      <th>5070600, 10616600</th>\n",
       "      <td>1000006180</td>\n",
       "      <td>9.580475</td>\n",
       "      <td>2020-09-22</td>\n",
       "      <td>DOMESTIC</td>\n",
       "      <td>Financial Institutions</td>\n",
       "      <td>1</td>\n",
       "    </tr>\n",
       "    <tr>\n",
       "      <th>5070600, 10616600</th>\n",
       "      <td>1000006180</td>\n",
       "      <td>9.723215</td>\n",
       "      <td>2020-11-20</td>\n",
       "      <td>DOMESTIC</td>\n",
       "      <td>Financial Institutions</td>\n",
       "      <td>1</td>\n",
       "    </tr>\n",
       "    <tr>\n",
       "      <th>5070600, 10616600</th>\n",
       "      <td>1000006180</td>\n",
       "      <td>1.117779</td>\n",
       "      <td>2020-12-23</td>\n",
       "      <td>CROSS BORDER</td>\n",
       "      <td>Financial Institutions</td>\n",
       "      <td>1</td>\n",
       "    </tr>\n",
       "  </tbody>\n",
       "</table>\n",
       "</div>"
      ],
      "text/plain": [
       "                   rem_company_id_dummy  ...  payroll_ind\n",
       "Index                                    ...             \n",
       "5070600, 10616600            1000006180  ...            1\n",
       "5070600, 10616600            1000006180  ...            1\n",
       "5070600, 10616600            1000006180  ...            1\n",
       "5070600, 10616600            1000006180  ...            1\n",
       "5070600, 10616600            1000006180  ...            1\n",
       "5070600, 10616600            1000006180  ...            1\n",
       "5070600, 10616600            1000006180  ...            1\n",
       "5070600, 10616600            1000006180  ...            1\n",
       "\n",
       "[8 rows x 6 columns]"
      ]
     },
     "execution_count": 60,
     "metadata": {
      "tags": []
     },
     "output_type": "execute_result"
    }
   ],
   "source": [
    "Train.loc[temp[temp.length>1].index,:].loc[Train.loc[temp[temp.length>1].index,:].payroll_ind==1,:]"
   ]
  },
  {
   "cell_type": "code",
   "execution_count": 61,
   "metadata": {
    "colab": {
     "base_uri": "https://localhost:8080/"
    },
    "id": "IqndEkK2budC",
    "outputId": "ebe872f1-3ffd-4124-c325-f9ff2ce81df4"
   },
   "outputs": [
    {
     "data": {
      "text/plain": [
       "CROSS BORDER    199\n",
       "DOMESTIC        191\n",
       "Name: txn_type, dtype: int64"
      ]
     },
     "execution_count": 61,
     "metadata": {
      "tags": []
     },
     "output_type": "execute_result"
    }
   ],
   "source": [
    "Train.loc[temp[temp.length>1].index,:].loc[Train.loc[temp[temp.length>1].index,:].payroll_ind==0,:].txn_type.value_counts()"
   ]
  },
  {
   "cell_type": "code",
   "execution_count": 62,
   "metadata": {
    "colab": {
     "base_uri": "https://localhost:8080/"
    },
    "id": "zW1xR2uNnnRR",
    "outputId": "fad09dbf-0036-4a46-8672-813a49f0f30a"
   },
   "outputs": [
    {
     "data": {
      "text/plain": [
       "62"
      ]
     },
     "execution_count": 62,
     "metadata": {
      "tags": []
     },
     "output_type": "execute_result"
    }
   ],
   "source": [
    "len(temp[temp.length>1].index)"
   ]
  },
  {
   "cell_type": "code",
   "execution_count": 63,
   "metadata": {
    "colab": {
     "base_uri": "https://localhost:8080/",
     "height": 164
    },
    "id": "ZB7OqBtuBN51",
    "outputId": "fe90e4fe-a40d-48e2-d587-633294b17072"
   },
   "outputs": [
    {
     "data": {
      "text/html": [
       "<div>\n",
       "<style scoped>\n",
       "    .dataframe tbody tr th:only-of-type {\n",
       "        vertical-align: middle;\n",
       "    }\n",
       "\n",
       "    .dataframe tbody tr th {\n",
       "        vertical-align: top;\n",
       "    }\n",
       "\n",
       "    .dataframe thead th {\n",
       "        text-align: right;\n",
       "    }\n",
       "</style>\n",
       "<table border=\"1\" class=\"dataframe\">\n",
       "  <thead>\n",
       "    <tr style=\"text-align: right;\">\n",
       "      <th></th>\n",
       "      <th>rem_company_id_dummy</th>\n",
       "      <th>txn_amt</th>\n",
       "      <th>transaction_val_dt</th>\n",
       "      <th>txn_type</th>\n",
       "      <th>rem_company_ind</th>\n",
       "      <th>payroll_ind</th>\n",
       "    </tr>\n",
       "    <tr>\n",
       "      <th>Index</th>\n",
       "      <th></th>\n",
       "      <th></th>\n",
       "      <th></th>\n",
       "      <th></th>\n",
       "      <th></th>\n",
       "      <th></th>\n",
       "    </tr>\n",
       "  </thead>\n",
       "  <tbody>\n",
       "    <tr>\n",
       "      <th>5011300, 9842500</th>\n",
       "      <td>1000001070</td>\n",
       "      <td>2.536552</td>\n",
       "      <td>2021-01-19</td>\n",
       "      <td>DOMESTIC</td>\n",
       "      <td>Industrials</td>\n",
       "      <td>0</td>\n",
       "    </tr>\n",
       "    <tr>\n",
       "      <th>5011300, 9842500</th>\n",
       "      <td>1000001070</td>\n",
       "      <td>12.023464</td>\n",
       "      <td>2021-01-19</td>\n",
       "      <td>DOMESTIC</td>\n",
       "      <td>Industrials</td>\n",
       "      <td>0</td>\n",
       "    </tr>\n",
       "    <tr>\n",
       "      <th>5011300, 9842500</th>\n",
       "      <td>1000001070</td>\n",
       "      <td>3.762161</td>\n",
       "      <td>2021-02-17</td>\n",
       "      <td>CROSS BORDER</td>\n",
       "      <td>Industrials</td>\n",
       "      <td>0</td>\n",
       "    </tr>\n",
       "  </tbody>\n",
       "</table>\n",
       "</div>"
      ],
      "text/plain": [
       "                  rem_company_id_dummy    txn_amt  ... rem_company_ind payroll_ind\n",
       "Index                                              ...                            \n",
       "5011300, 9842500            1000001070   2.536552  ...     Industrials           0\n",
       "5011300, 9842500            1000001070  12.023464  ...     Industrials           0\n",
       "5011300, 9842500            1000001070   3.762161  ...     Industrials           0\n",
       "\n",
       "[3 rows x 6 columns]"
      ]
     },
     "execution_count": 63,
     "metadata": {
      "tags": []
     },
     "output_type": "execute_result"
    }
   ],
   "source": [
    "Train.loc['5011300, 9842500',:]"
   ]
  },
  {
   "cell_type": "code",
   "execution_count": 64,
   "metadata": {
    "colab": {
     "base_uri": "https://localhost:8080/"
    },
    "id": "g_k6733u_Z-H",
    "outputId": "0a602fa4-0939-44a8-b1d3-b59c87085d8e"
   },
   "outputs": [
    {
     "data": {
      "text/plain": [
       "1    382733\n",
       "2        62\n",
       "Name: txn_type, dtype: int64"
      ]
     },
     "execution_count": 64,
     "metadata": {
      "tags": []
     },
     "output_type": "execute_result"
    }
   ],
   "source": [
    "Unique_txn_type.apply(lambda x:len(x)).value_counts()"
   ]
  },
  {
   "cell_type": "markdown",
   "metadata": {
    "id": "aVwIE__cC6MO"
   },
   "source": [
    "####rem_company_ind: 23 indices have different values - What can we do about it \n"
   ]
  },
  {
   "cell_type": "code",
   "execution_count": 65,
   "metadata": {
    "colab": {
     "base_uri": "https://localhost:8080/"
    },
    "id": "RCBXQgHgDF3Q",
    "outputId": "8b7f2502-d3a2-41a4-be3f-68eb4ec89b33"
   },
   "outputs": [
    {
     "data": {
      "text/plain": [
       "Index\n",
       "5000000, 10028200                  [Consumer]\n",
       "5000000, 10072700                  [Consumer]\n",
       "5000000, 10089800                  [Consumer]\n",
       "5000000, 10472700                  [Consumer]\n",
       "5000000, 10670700                  [Consumer]\n",
       "                               ...           \n",
       "5742900, 74564200               [Industrials]\n",
       "5743300, 74530200               [Industrials]\n",
       "5743500, 74532600               [Industrials]\n",
       "5743600, 74560500               [Industrials]\n",
       "5743700, 74586600    [Financial Institutions]\n",
       "Name: rem_company_ind, Length: 382795, dtype: object"
      ]
     },
     "execution_count": 65,
     "metadata": {
      "tags": []
     },
     "output_type": "execute_result"
    }
   ],
   "source": [
    "Unique_rem_type = Train.groupby('Index').rem_company_ind.unique()\n",
    "Unique_rem_type"
   ]
  },
  {
   "cell_type": "code",
   "execution_count": 66,
   "metadata": {
    "colab": {
     "base_uri": "https://localhost:8080/",
     "height": 751
    },
    "id": "ftTnenmfDF5z",
    "outputId": "d7c07e47-32d9-483a-c85a-27f14cbb2bec"
   },
   "outputs": [
    {
     "data": {
      "text/html": [
       "<div>\n",
       "<style scoped>\n",
       "    .dataframe tbody tr th:only-of-type {\n",
       "        vertical-align: middle;\n",
       "    }\n",
       "\n",
       "    .dataframe tbody tr th {\n",
       "        vertical-align: top;\n",
       "    }\n",
       "\n",
       "    .dataframe thead th {\n",
       "        text-align: right;\n",
       "    }\n",
       "</style>\n",
       "<table border=\"1\" class=\"dataframe\">\n",
       "  <thead>\n",
       "    <tr style=\"text-align: right;\">\n",
       "      <th></th>\n",
       "      <th>rem_company_ind</th>\n",
       "      <th>length</th>\n",
       "    </tr>\n",
       "    <tr>\n",
       "      <th>Index</th>\n",
       "      <th></th>\n",
       "      <th></th>\n",
       "    </tr>\n",
       "  </thead>\n",
       "  <tbody>\n",
       "    <tr>\n",
       "      <th>5022300, 26507400</th>\n",
       "      <td>[Energy, Unknown]</td>\n",
       "      <td>2</td>\n",
       "    </tr>\n",
       "    <tr>\n",
       "      <th>5095400, 15057300</th>\n",
       "      <td>[Technology, Unknown]</td>\n",
       "      <td>2</td>\n",
       "    </tr>\n",
       "    <tr>\n",
       "      <th>5095400, 20151900</th>\n",
       "      <td>[Unknown, Technology]</td>\n",
       "      <td>2</td>\n",
       "    </tr>\n",
       "    <tr>\n",
       "      <th>5095400, 21947000</th>\n",
       "      <td>[Unknown, Technology]</td>\n",
       "      <td>2</td>\n",
       "    </tr>\n",
       "    <tr>\n",
       "      <th>5095400, 49020600</th>\n",
       "      <td>[Unknown, Technology]</td>\n",
       "      <td>2</td>\n",
       "    </tr>\n",
       "    <tr>\n",
       "      <th>5111900, 13928100</th>\n",
       "      <td>[Unknown, Technology]</td>\n",
       "      <td>2</td>\n",
       "    </tr>\n",
       "    <tr>\n",
       "      <th>5111900, 14639600</th>\n",
       "      <td>[Unknown, Technology]</td>\n",
       "      <td>2</td>\n",
       "    </tr>\n",
       "    <tr>\n",
       "      <th>5111900, 20020700</th>\n",
       "      <td>[Unknown, Technology]</td>\n",
       "      <td>2</td>\n",
       "    </tr>\n",
       "    <tr>\n",
       "      <th>5111900, 20842600</th>\n",
       "      <td>[Unknown, Technology]</td>\n",
       "      <td>2</td>\n",
       "    </tr>\n",
       "    <tr>\n",
       "      <th>5111900, 24991800</th>\n",
       "      <td>[Unknown, Technology]</td>\n",
       "      <td>2</td>\n",
       "    </tr>\n",
       "    <tr>\n",
       "      <th>5111900, 25211500</th>\n",
       "      <td>[Unknown, Technology]</td>\n",
       "      <td>2</td>\n",
       "    </tr>\n",
       "    <tr>\n",
       "      <th>5111900, 26518500</th>\n",
       "      <td>[Unknown, Technology]</td>\n",
       "      <td>2</td>\n",
       "    </tr>\n",
       "    <tr>\n",
       "      <th>5111900, 46201500</th>\n",
       "      <td>[Technology, Unknown]</td>\n",
       "      <td>2</td>\n",
       "    </tr>\n",
       "    <tr>\n",
       "      <th>5111900, 9744600</th>\n",
       "      <td>[Unknown, Technology]</td>\n",
       "      <td>2</td>\n",
       "    </tr>\n",
       "    <tr>\n",
       "      <th>5179400, 20285100</th>\n",
       "      <td>[Unknown, Technology]</td>\n",
       "      <td>2</td>\n",
       "    </tr>\n",
       "    <tr>\n",
       "      <th>5179400, 23114600</th>\n",
       "      <td>[Unknown, Technology]</td>\n",
       "      <td>2</td>\n",
       "    </tr>\n",
       "    <tr>\n",
       "      <th>5179400, 25193700</th>\n",
       "      <td>[Unknown, Technology]</td>\n",
       "      <td>2</td>\n",
       "    </tr>\n",
       "    <tr>\n",
       "      <th>5179400, 29036100</th>\n",
       "      <td>[Unknown, Technology]</td>\n",
       "      <td>2</td>\n",
       "    </tr>\n",
       "    <tr>\n",
       "      <th>5179400, 30149000</th>\n",
       "      <td>[Technology, Unknown]</td>\n",
       "      <td>2</td>\n",
       "    </tr>\n",
       "    <tr>\n",
       "      <th>5179400, 38811500</th>\n",
       "      <td>[Unknown, Technology]</td>\n",
       "      <td>2</td>\n",
       "    </tr>\n",
       "    <tr>\n",
       "      <th>5179400, 44338300</th>\n",
       "      <td>[Unknown, Technology]</td>\n",
       "      <td>2</td>\n",
       "    </tr>\n",
       "    <tr>\n",
       "      <th>5482100, 42900700</th>\n",
       "      <td>[Industrials, Financial Institutions]</td>\n",
       "      <td>2</td>\n",
       "    </tr>\n",
       "    <tr>\n",
       "      <th>5513900, 47096700</th>\n",
       "      <td>[Financial Institutions, Unknown]</td>\n",
       "      <td>2</td>\n",
       "    </tr>\n",
       "  </tbody>\n",
       "</table>\n",
       "</div>"
      ],
      "text/plain": [
       "                                         rem_company_ind  length\n",
       "Index                                                           \n",
       "5022300, 26507400                      [Energy, Unknown]       2\n",
       "5095400, 15057300                  [Technology, Unknown]       2\n",
       "5095400, 20151900                  [Unknown, Technology]       2\n",
       "5095400, 21947000                  [Unknown, Technology]       2\n",
       "5095400, 49020600                  [Unknown, Technology]       2\n",
       "5111900, 13928100                  [Unknown, Technology]       2\n",
       "5111900, 14639600                  [Unknown, Technology]       2\n",
       "5111900, 20020700                  [Unknown, Technology]       2\n",
       "5111900, 20842600                  [Unknown, Technology]       2\n",
       "5111900, 24991800                  [Unknown, Technology]       2\n",
       "5111900, 25211500                  [Unknown, Technology]       2\n",
       "5111900, 26518500                  [Unknown, Technology]       2\n",
       "5111900, 46201500                  [Technology, Unknown]       2\n",
       "5111900, 9744600                   [Unknown, Technology]       2\n",
       "5179400, 20285100                  [Unknown, Technology]       2\n",
       "5179400, 23114600                  [Unknown, Technology]       2\n",
       "5179400, 25193700                  [Unknown, Technology]       2\n",
       "5179400, 29036100                  [Unknown, Technology]       2\n",
       "5179400, 30149000                  [Technology, Unknown]       2\n",
       "5179400, 38811500                  [Unknown, Technology]       2\n",
       "5179400, 44338300                  [Unknown, Technology]       2\n",
       "5482100, 42900700  [Industrials, Financial Institutions]       2\n",
       "5513900, 47096700      [Financial Institutions, Unknown]       2"
      ]
     },
     "execution_count": 66,
     "metadata": {
      "tags": []
     },
     "output_type": "execute_result"
    }
   ],
   "source": [
    "temp = pd.DataFrame(Unique_rem_type)\n",
    "temp['length'] = temp['rem_company_ind'].apply(lambda x:len(x))\n",
    "temp[temp.length>1]"
   ]
  },
  {
   "cell_type": "code",
   "execution_count": 67,
   "metadata": {
    "colab": {
     "base_uri": "https://localhost:8080/"
    },
    "id": "fwD7_s3CDF_D",
    "outputId": "f891accf-2252-4a82-de24-48593e8ffeab"
   },
   "outputs": [
    {
     "data": {
      "text/plain": [
       "0    67\n",
       "Name: payroll_ind, dtype: int64"
      ]
     },
     "execution_count": 67,
     "metadata": {
      "tags": []
     },
     "output_type": "execute_result"
    }
   ],
   "source": [
    "Train.loc[temp[temp.length>1].index,:].payroll_ind.value_counts()"
   ]
  },
  {
   "cell_type": "code",
   "execution_count": 68,
   "metadata": {
    "colab": {
     "base_uri": "https://localhost:8080/"
    },
    "id": "g8pq8r52DGBn",
    "outputId": "54374c2d-4032-44b0-808d-014705434683"
   },
   "outputs": [
    {
     "data": {
      "text/plain": [
       "1    382772\n",
       "2        23\n",
       "Name: rem_company_ind, dtype: int64"
      ]
     },
     "execution_count": 68,
     "metadata": {
      "tags": []
     },
     "output_type": "execute_result"
    }
   ],
   "source": [
    "Unique_rem_type.apply(lambda x:len(x)).value_counts()"
   ]
  },
  {
   "cell_type": "markdown",
   "metadata": {
    "id": "SMI_sn-v7OzB"
   },
   "source": [
    "Exploring Taxation Amount: Possibly substitute mean transaction amount? or mode?"
   ]
  },
  {
   "cell_type": "code",
   "execution_count": 69,
   "metadata": {
    "colab": {
     "base_uri": "https://localhost:8080/",
     "height": 428
    },
    "id": "clDoCdkV4Iee",
    "outputId": "42ed2423-1a2f-44cd-8187-68020cf8cc8c"
   },
   "outputs": [
    {
     "data": {
      "text/html": [
       "<div>\n",
       "<style scoped>\n",
       "    .dataframe tbody tr th:only-of-type {\n",
       "        vertical-align: middle;\n",
       "    }\n",
       "\n",
       "    .dataframe tbody tr th {\n",
       "        vertical-align: top;\n",
       "    }\n",
       "\n",
       "    .dataframe thead th {\n",
       "        text-align: right;\n",
       "    }\n",
       "</style>\n",
       "<table border=\"1\" class=\"dataframe\">\n",
       "  <thead>\n",
       "    <tr style=\"text-align: right;\">\n",
       "      <th></th>\n",
       "      <th>rem_company_id_dummy</th>\n",
       "      <th>txn_amt</th>\n",
       "      <th>payroll_ind</th>\n",
       "    </tr>\n",
       "    <tr>\n",
       "      <th>Index</th>\n",
       "      <th></th>\n",
       "      <th></th>\n",
       "      <th></th>\n",
       "    </tr>\n",
       "  </thead>\n",
       "  <tbody>\n",
       "    <tr>\n",
       "      <th>5000000, 10028200</th>\n",
       "      <td>1000000000</td>\n",
       "      <td>1.066488</td>\n",
       "      <td>0</td>\n",
       "    </tr>\n",
       "    <tr>\n",
       "      <th>5000000, 10072700</th>\n",
       "      <td>1000000000</td>\n",
       "      <td>1.516822</td>\n",
       "      <td>0</td>\n",
       "    </tr>\n",
       "    <tr>\n",
       "      <th>5000000, 10089800</th>\n",
       "      <td>1000000000</td>\n",
       "      <td>2.361373</td>\n",
       "      <td>0</td>\n",
       "    </tr>\n",
       "    <tr>\n",
       "      <th>5000000, 10472700</th>\n",
       "      <td>1000000000</td>\n",
       "      <td>1.053046</td>\n",
       "      <td>0</td>\n",
       "    </tr>\n",
       "    <tr>\n",
       "      <th>5000000, 10670700</th>\n",
       "      <td>1000000000</td>\n",
       "      <td>1.068061</td>\n",
       "      <td>0</td>\n",
       "    </tr>\n",
       "    <tr>\n",
       "      <th>...</th>\n",
       "      <td>...</td>\n",
       "      <td>...</td>\n",
       "      <td>...</td>\n",
       "    </tr>\n",
       "    <tr>\n",
       "      <th>5742900, 74564200</th>\n",
       "      <td>1000005090</td>\n",
       "      <td>3.572418</td>\n",
       "      <td>0</td>\n",
       "    </tr>\n",
       "    <tr>\n",
       "      <th>5743300, 74530200</th>\n",
       "      <td>1000038290</td>\n",
       "      <td>1.054750</td>\n",
       "      <td>0</td>\n",
       "    </tr>\n",
       "    <tr>\n",
       "      <th>5743500, 74532600</th>\n",
       "      <td>1000024130</td>\n",
       "      <td>7.023683</td>\n",
       "      <td>0</td>\n",
       "    </tr>\n",
       "    <tr>\n",
       "      <th>5743600, 74560500</th>\n",
       "      <td>1000038310</td>\n",
       "      <td>5.312126</td>\n",
       "      <td>0</td>\n",
       "    </tr>\n",
       "    <tr>\n",
       "      <th>5743700, 74586600</th>\n",
       "      <td>1000038320</td>\n",
       "      <td>969.969706</td>\n",
       "      <td>0</td>\n",
       "    </tr>\n",
       "  </tbody>\n",
       "</table>\n",
       "<p>382795 rows × 3 columns</p>\n",
       "</div>"
      ],
      "text/plain": [
       "                   rem_company_id_dummy     txn_amt  payroll_ind\n",
       "Index                                                           \n",
       "5000000, 10028200            1000000000    1.066488            0\n",
       "5000000, 10072700            1000000000    1.516822            0\n",
       "5000000, 10089800            1000000000    2.361373            0\n",
       "5000000, 10472700            1000000000    1.053046            0\n",
       "5000000, 10670700            1000000000    1.068061            0\n",
       "...                                 ...         ...          ...\n",
       "5742900, 74564200            1000005090    3.572418            0\n",
       "5743300, 74530200            1000038290    1.054750            0\n",
       "5743500, 74532600            1000024130    7.023683            0\n",
       "5743600, 74560500            1000038310    5.312126            0\n",
       "5743700, 74586600            1000038320  969.969706            0\n",
       "\n",
       "[382795 rows x 3 columns]"
      ]
     },
     "execution_count": 69,
     "metadata": {
      "tags": []
     },
     "output_type": "execute_result"
    }
   ],
   "source": [
    "Train.groupby('Index').mean()"
   ]
  },
  {
   "cell_type": "markdown",
   "metadata": {
    "id": "WbZaFR9gEwOs"
   },
   "source": [
    "####Date is the only thing we can explore? \n",
    "Testing patterns in payroll vs others \n"
   ]
  },
  {
   "cell_type": "markdown",
   "metadata": {
    "id": "ivFr_V5lGRJ3"
   },
   "source": [
    "Testing differences between Payroll and Non Payroll"
   ]
  },
  {
   "cell_type": "code",
   "execution_count": 70,
   "metadata": {
    "id": "_MlBpCw54Il7"
   },
   "outputs": [],
   "source": [
    "payroll = Train[Train.payroll_ind==1]"
   ]
  },
  {
   "cell_type": "code",
   "execution_count": 71,
   "metadata": {
    "id": "ivcNATiV4IoX"
   },
   "outputs": [],
   "source": [
    "nonpayroll = Train[Train.payroll_ind!=1]"
   ]
  },
  {
   "cell_type": "code",
   "execution_count": 72,
   "metadata": {
    "colab": {
     "base_uri": "https://localhost:8080/"
    },
    "id": "PTk1dEZ44IrZ",
    "outputId": "9231abb8-11a5-49a0-da70-ed1736ef1cd2"
   },
   "outputs": [
    {
     "data": {
      "text/plain": [
       "4.596752215172051"
      ]
     },
     "execution_count": 72,
     "metadata": {
      "tags": []
     },
     "output_type": "execute_result"
    }
   ],
   "source": [
    "payroll.txn_amt.mean()"
   ]
  },
  {
   "cell_type": "code",
   "execution_count": 73,
   "metadata": {
    "colab": {
     "base_uri": "https://localhost:8080/"
    },
    "id": "Af4boPv94ItB",
    "outputId": "d3836428-df47-4188-a5ea-319b3148f713"
   },
   "outputs": [
    {
     "data": {
      "text/plain": [
       "27.919588785785713"
      ]
     },
     "execution_count": 73,
     "metadata": {
      "tags": []
     },
     "output_type": "execute_result"
    }
   ],
   "source": [
    "nonpayroll.txn_amt.mean()\n",
    "# Non payroll have significantly more txn_amount - so mean might be a pretty good estimator"
   ]
  },
  {
   "cell_type": "code",
   "execution_count": 74,
   "metadata": {
    "colab": {
     "base_uri": "https://localhost:8080/"
    },
    "id": "Jub2vjEZGa27",
    "outputId": "b4c85e3b-32c7-4f51-8650-dcef7d86f8a2"
   },
   "outputs": [
    {
     "data": {
      "text/plain": [
       "6     7163\n",
       "7     2095\n",
       "5     1637\n",
       "1     1308\n",
       "2     1064\n",
       "8     1016\n",
       "12     871\n",
       "4      790\n",
       "3      667\n",
       "9      628\n",
       "11     618\n",
       "10     593\n",
       "13     199\n",
       "14     143\n",
       "15     108\n",
       "16     102\n",
       "17      56\n",
       "18      19\n",
       "19      15\n",
       "21       8\n",
       "22       7\n",
       "20       7\n",
       "25       6\n",
       "23       6\n",
       "24       3\n",
       "27       3\n",
       "30       2\n",
       "26       2\n",
       "29       2\n",
       "28       1\n",
       "33       1\n",
       "Name: Index, dtype: int64"
      ]
     },
     "execution_count": 74,
     "metadata": {
      "tags": []
     },
     "output_type": "execute_result"
    }
   ],
   "source": [
    "payroll.index.value_counts().value_counts()"
   ]
  },
  {
   "cell_type": "code",
   "execution_count": 75,
   "metadata": {
    "colab": {
     "base_uri": "https://localhost:8080/"
    },
    "id": "YdqPNG6gGoYG",
    "outputId": "a50cb30c-4b07-4ba3-daf9-41d177ed7943"
   },
   "outputs": [
    {
     "data": {
      "text/plain": [
       "1     156883\n",
       "2      60662\n",
       "5      44481\n",
       "3      33628\n",
       "4      24907\n",
       "6      12717\n",
       "7       5160\n",
       "8       3442\n",
       "9       2680\n",
       "10      2351\n",
       "11      1827\n",
       "12      1598\n",
       "24      1387\n",
       "13      1361\n",
       "14      1104\n",
       "15       864\n",
       "16       709\n",
       "23       649\n",
       "17       622\n",
       "18       592\n",
       "Name: Index, dtype: int64"
      ]
     },
     "execution_count": 75,
     "metadata": {
      "tags": []
     },
     "output_type": "execute_result"
    }
   ],
   "source": [
    "nonpayroll.index.value_counts().value_counts().head(20)"
   ]
  },
  {
   "cell_type": "code",
   "execution_count": 75,
   "metadata": {
    "id": "7tQ68Q3QGobA"
   },
   "outputs": [],
   "source": []
  },
  {
   "cell_type": "markdown",
   "metadata": {
    "id": "Hfxq5xmLHHV3"
   },
   "source": [
    "# Identified Features till this point: \n",
    "1) Taxation amount standard deviation \n",
    "\n",
    "2) Taxation Type - If there are multiple,put multiple (signifies non payroll)\n",
    "\n",
    "3) Rem_company_index - If there are multiple,put multiple (signifies non payroll)\n",
    "\n",
    "4) Count of number of transactions - Large number indicates payroll\n",
    "\n",
    "5) Average Taxation Amount - More amount indicates non payroll\n",
    "\n",
    "Now, how to differentiate when the number of transaction is very few (can we use dates?)"
   ]
  },
  {
   "cell_type": "code",
   "execution_count": 76,
   "metadata": {
    "colab": {
     "base_uri": "https://localhost:8080/",
     "height": 428
    },
    "id": "brrfFaA_Goek",
    "outputId": "ed371905-f96b-43c2-845e-7ba545be508f"
   },
   "outputs": [
    {
     "data": {
      "text/html": [
       "<div>\n",
       "<style scoped>\n",
       "    .dataframe tbody tr th:only-of-type {\n",
       "        vertical-align: middle;\n",
       "    }\n",
       "\n",
       "    .dataframe tbody tr th {\n",
       "        vertical-align: top;\n",
       "    }\n",
       "\n",
       "    .dataframe thead th {\n",
       "        text-align: right;\n",
       "    }\n",
       "</style>\n",
       "<table border=\"1\" class=\"dataframe\">\n",
       "  <thead>\n",
       "    <tr style=\"text-align: right;\">\n",
       "      <th></th>\n",
       "      <th>rem_company_id_dummy</th>\n",
       "      <th>txn_amt</th>\n",
       "      <th>transaction_val_dt</th>\n",
       "      <th>txn_type</th>\n",
       "      <th>rem_company_ind</th>\n",
       "      <th>payroll_ind</th>\n",
       "    </tr>\n",
       "    <tr>\n",
       "      <th>Index</th>\n",
       "      <th></th>\n",
       "      <th></th>\n",
       "      <th></th>\n",
       "      <th></th>\n",
       "      <th></th>\n",
       "      <th></th>\n",
       "    </tr>\n",
       "  </thead>\n",
       "  <tbody>\n",
       "    <tr>\n",
       "      <th>5000100, 11069100</th>\n",
       "      <td>10</td>\n",
       "      <td>10</td>\n",
       "      <td>10</td>\n",
       "      <td>10</td>\n",
       "      <td>10</td>\n",
       "      <td>10</td>\n",
       "    </tr>\n",
       "    <tr>\n",
       "      <th>5000100, 13877900</th>\n",
       "      <td>10</td>\n",
       "      <td>10</td>\n",
       "      <td>10</td>\n",
       "      <td>10</td>\n",
       "      <td>10</td>\n",
       "      <td>10</td>\n",
       "    </tr>\n",
       "    <tr>\n",
       "      <th>5000100, 14208300</th>\n",
       "      <td>10</td>\n",
       "      <td>10</td>\n",
       "      <td>10</td>\n",
       "      <td>10</td>\n",
       "      <td>10</td>\n",
       "      <td>10</td>\n",
       "    </tr>\n",
       "    <tr>\n",
       "      <th>5000100, 15552100</th>\n",
       "      <td>10</td>\n",
       "      <td>10</td>\n",
       "      <td>10</td>\n",
       "      <td>10</td>\n",
       "      <td>10</td>\n",
       "      <td>10</td>\n",
       "    </tr>\n",
       "    <tr>\n",
       "      <th>5000100, 16564900</th>\n",
       "      <td>10</td>\n",
       "      <td>10</td>\n",
       "      <td>10</td>\n",
       "      <td>10</td>\n",
       "      <td>10</td>\n",
       "      <td>10</td>\n",
       "    </tr>\n",
       "    <tr>\n",
       "      <th>...</th>\n",
       "      <td>...</td>\n",
       "      <td>...</td>\n",
       "      <td>...</td>\n",
       "      <td>...</td>\n",
       "      <td>...</td>\n",
       "      <td>...</td>\n",
       "    </tr>\n",
       "    <tr>\n",
       "      <th>5220600, 34754300</th>\n",
       "      <td>10</td>\n",
       "      <td>10</td>\n",
       "      <td>10</td>\n",
       "      <td>10</td>\n",
       "      <td>10</td>\n",
       "      <td>10</td>\n",
       "    </tr>\n",
       "    <tr>\n",
       "      <th>5220600, 34978800</th>\n",
       "      <td>10</td>\n",
       "      <td>10</td>\n",
       "      <td>10</td>\n",
       "      <td>10</td>\n",
       "      <td>10</td>\n",
       "      <td>10</td>\n",
       "    </tr>\n",
       "    <tr>\n",
       "      <th>5220600, 41109000</th>\n",
       "      <td>10</td>\n",
       "      <td>10</td>\n",
       "      <td>10</td>\n",
       "      <td>10</td>\n",
       "      <td>10</td>\n",
       "      <td>10</td>\n",
       "    </tr>\n",
       "    <tr>\n",
       "      <th>5263000, 35763300</th>\n",
       "      <td>10</td>\n",
       "      <td>10</td>\n",
       "      <td>10</td>\n",
       "      <td>10</td>\n",
       "      <td>10</td>\n",
       "      <td>10</td>\n",
       "    </tr>\n",
       "    <tr>\n",
       "      <th>5273700, 23523000</th>\n",
       "      <td>10</td>\n",
       "      <td>10</td>\n",
       "      <td>10</td>\n",
       "      <td>10</td>\n",
       "      <td>10</td>\n",
       "      <td>10</td>\n",
       "    </tr>\n",
       "  </tbody>\n",
       "</table>\n",
       "<p>593 rows × 6 columns</p>\n",
       "</div>"
      ],
      "text/plain": [
       "                   rem_company_id_dummy  txn_amt  ...  rem_company_ind  payroll_ind\n",
       "Index                                             ...                              \n",
       "5000100, 11069100                    10       10  ...               10           10\n",
       "5000100, 13877900                    10       10  ...               10           10\n",
       "5000100, 14208300                    10       10  ...               10           10\n",
       "5000100, 15552100                    10       10  ...               10           10\n",
       "5000100, 16564900                    10       10  ...               10           10\n",
       "...                                 ...      ...  ...              ...          ...\n",
       "5220600, 34754300                    10       10  ...               10           10\n",
       "5220600, 34978800                    10       10  ...               10           10\n",
       "5220600, 41109000                    10       10  ...               10           10\n",
       "5263000, 35763300                    10       10  ...               10           10\n",
       "5273700, 23523000                    10       10  ...               10           10\n",
       "\n",
       "[593 rows x 6 columns]"
      ]
     },
     "execution_count": 76,
     "metadata": {
      "tags": []
     },
     "output_type": "execute_result"
    }
   ],
   "source": [
    "payroll.groupby('Index').count()[payroll.groupby('Index').count().txn_amt==10]"
   ]
  },
  {
   "cell_type": "code",
   "execution_count": 77,
   "metadata": {
    "id": "AwUcGN4mMqoh"
   },
   "outputs": [],
   "source": [
    "indices = payroll.groupby('Index').count()[payroll.groupby('Index').count().txn_amt==10].index"
   ]
  },
  {
   "cell_type": "code",
   "execution_count": 78,
   "metadata": {
    "colab": {
     "base_uri": "https://localhost:8080/",
     "height": 428
    },
    "id": "kD93Ys6ZNceh",
    "outputId": "9cfe071e-ee02-459e-b19b-ac6dac9cc913"
   },
   "outputs": [
    {
     "data": {
      "text/html": [
       "<div>\n",
       "<style scoped>\n",
       "    .dataframe tbody tr th:only-of-type {\n",
       "        vertical-align: middle;\n",
       "    }\n",
       "\n",
       "    .dataframe tbody tr th {\n",
       "        vertical-align: top;\n",
       "    }\n",
       "\n",
       "    .dataframe thead th {\n",
       "        text-align: right;\n",
       "    }\n",
       "</style>\n",
       "<table border=\"1\" class=\"dataframe\">\n",
       "  <thead>\n",
       "    <tr style=\"text-align: right;\">\n",
       "      <th></th>\n",
       "      <th>rem_company_id_dummy</th>\n",
       "      <th>txn_amt</th>\n",
       "      <th>payroll_ind</th>\n",
       "    </tr>\n",
       "    <tr>\n",
       "      <th>Index</th>\n",
       "      <th></th>\n",
       "      <th></th>\n",
       "      <th></th>\n",
       "    </tr>\n",
       "  </thead>\n",
       "  <tbody>\n",
       "    <tr>\n",
       "      <th>5000100, 11069100</th>\n",
       "      <td>0.0</td>\n",
       "      <td>0.086053</td>\n",
       "      <td>0.0</td>\n",
       "    </tr>\n",
       "    <tr>\n",
       "      <th>5000100, 13877900</th>\n",
       "      <td>0.0</td>\n",
       "      <td>0.015494</td>\n",
       "      <td>0.0</td>\n",
       "    </tr>\n",
       "    <tr>\n",
       "      <th>5000100, 14208300</th>\n",
       "      <td>0.0</td>\n",
       "      <td>0.014952</td>\n",
       "      <td>0.0</td>\n",
       "    </tr>\n",
       "    <tr>\n",
       "      <th>5000100, 15552100</th>\n",
       "      <td>0.0</td>\n",
       "      <td>0.019332</td>\n",
       "      <td>0.0</td>\n",
       "    </tr>\n",
       "    <tr>\n",
       "      <th>5000100, 16564900</th>\n",
       "      <td>0.0</td>\n",
       "      <td>0.049096</td>\n",
       "      <td>0.0</td>\n",
       "    </tr>\n",
       "    <tr>\n",
       "      <th>...</th>\n",
       "      <td>...</td>\n",
       "      <td>...</td>\n",
       "      <td>...</td>\n",
       "    </tr>\n",
       "    <tr>\n",
       "      <th>5220600, 34754300</th>\n",
       "      <td>0.0</td>\n",
       "      <td>0.786748</td>\n",
       "      <td>0.0</td>\n",
       "    </tr>\n",
       "    <tr>\n",
       "      <th>5220600, 34978800</th>\n",
       "      <td>0.0</td>\n",
       "      <td>0.643856</td>\n",
       "      <td>0.0</td>\n",
       "    </tr>\n",
       "    <tr>\n",
       "      <th>5220600, 41109000</th>\n",
       "      <td>0.0</td>\n",
       "      <td>1.133096</td>\n",
       "      <td>0.0</td>\n",
       "    </tr>\n",
       "    <tr>\n",
       "      <th>5263000, 35763300</th>\n",
       "      <td>0.0</td>\n",
       "      <td>4.386243</td>\n",
       "      <td>0.0</td>\n",
       "    </tr>\n",
       "    <tr>\n",
       "      <th>5273700, 23523000</th>\n",
       "      <td>0.0</td>\n",
       "      <td>3.519034</td>\n",
       "      <td>0.0</td>\n",
       "    </tr>\n",
       "  </tbody>\n",
       "</table>\n",
       "<p>593 rows × 3 columns</p>\n",
       "</div>"
      ],
      "text/plain": [
       "                   rem_company_id_dummy   txn_amt  payroll_ind\n",
       "Index                                                         \n",
       "5000100, 11069100                   0.0  0.086053          0.0\n",
       "5000100, 13877900                   0.0  0.015494          0.0\n",
       "5000100, 14208300                   0.0  0.014952          0.0\n",
       "5000100, 15552100                   0.0  0.019332          0.0\n",
       "5000100, 16564900                   0.0  0.049096          0.0\n",
       "...                                 ...       ...          ...\n",
       "5220600, 34754300                   0.0  0.786748          0.0\n",
       "5220600, 34978800                   0.0  0.643856          0.0\n",
       "5220600, 41109000                   0.0  1.133096          0.0\n",
       "5263000, 35763300                   0.0  4.386243          0.0\n",
       "5273700, 23523000                   0.0  3.519034          0.0\n",
       "\n",
       "[593 rows x 3 columns]"
      ]
     },
     "execution_count": 78,
     "metadata": {
      "tags": []
     },
     "output_type": "execute_result"
    }
   ],
   "source": [
    "(Train.loc[indices,:]).groupby('Index').std()"
   ]
  },
  {
   "cell_type": "code",
   "execution_count": 79,
   "metadata": {
    "colab": {
     "base_uri": "https://localhost:8080/",
     "height": 428
    },
    "id": "nV27vA6yGog4",
    "outputId": "c8fe9ed9-a8f4-4b02-a486-8b11f9cfa4a4"
   },
   "outputs": [
    {
     "data": {
      "text/html": [
       "<div>\n",
       "<style scoped>\n",
       "    .dataframe tbody tr th:only-of-type {\n",
       "        vertical-align: middle;\n",
       "    }\n",
       "\n",
       "    .dataframe tbody tr th {\n",
       "        vertical-align: top;\n",
       "    }\n",
       "\n",
       "    .dataframe thead th {\n",
       "        text-align: right;\n",
       "    }\n",
       "</style>\n",
       "<table border=\"1\" class=\"dataframe\">\n",
       "  <thead>\n",
       "    <tr style=\"text-align: right;\">\n",
       "      <th></th>\n",
       "      <th>rem_company_id_dummy</th>\n",
       "      <th>txn_amt</th>\n",
       "      <th>transaction_val_dt</th>\n",
       "      <th>txn_type</th>\n",
       "      <th>rem_company_ind</th>\n",
       "      <th>payroll_ind</th>\n",
       "    </tr>\n",
       "    <tr>\n",
       "      <th>Index</th>\n",
       "      <th></th>\n",
       "      <th></th>\n",
       "      <th></th>\n",
       "      <th></th>\n",
       "      <th></th>\n",
       "      <th></th>\n",
       "    </tr>\n",
       "  </thead>\n",
       "  <tbody>\n",
       "    <tr>\n",
       "      <th>5000000, 33043300</th>\n",
       "      <td>10</td>\n",
       "      <td>10</td>\n",
       "      <td>10</td>\n",
       "      <td>10</td>\n",
       "      <td>10</td>\n",
       "      <td>10</td>\n",
       "    </tr>\n",
       "    <tr>\n",
       "      <th>5000000, 61371400</th>\n",
       "      <td>10</td>\n",
       "      <td>10</td>\n",
       "      <td>10</td>\n",
       "      <td>10</td>\n",
       "      <td>10</td>\n",
       "      <td>10</td>\n",
       "    </tr>\n",
       "    <tr>\n",
       "      <th>5000200, 10048300</th>\n",
       "      <td>10</td>\n",
       "      <td>10</td>\n",
       "      <td>10</td>\n",
       "      <td>10</td>\n",
       "      <td>10</td>\n",
       "      <td>10</td>\n",
       "    </tr>\n",
       "    <tr>\n",
       "      <th>5000200, 10064000</th>\n",
       "      <td>10</td>\n",
       "      <td>10</td>\n",
       "      <td>10</td>\n",
       "      <td>10</td>\n",
       "      <td>10</td>\n",
       "      <td>10</td>\n",
       "    </tr>\n",
       "    <tr>\n",
       "      <th>5000200, 10370400</th>\n",
       "      <td>10</td>\n",
       "      <td>10</td>\n",
       "      <td>10</td>\n",
       "      <td>10</td>\n",
       "      <td>10</td>\n",
       "      <td>10</td>\n",
       "    </tr>\n",
       "    <tr>\n",
       "      <th>...</th>\n",
       "      <td>...</td>\n",
       "      <td>...</td>\n",
       "      <td>...</td>\n",
       "      <td>...</td>\n",
       "      <td>...</td>\n",
       "      <td>...</td>\n",
       "    </tr>\n",
       "    <tr>\n",
       "      <th>5438900, 38207500</th>\n",
       "      <td>10</td>\n",
       "      <td>10</td>\n",
       "      <td>10</td>\n",
       "      <td>10</td>\n",
       "      <td>10</td>\n",
       "      <td>10</td>\n",
       "    </tr>\n",
       "    <tr>\n",
       "      <th>5492100, 43976200</th>\n",
       "      <td>10</td>\n",
       "      <td>10</td>\n",
       "      <td>10</td>\n",
       "      <td>10</td>\n",
       "      <td>10</td>\n",
       "      <td>10</td>\n",
       "    </tr>\n",
       "    <tr>\n",
       "      <th>5502900, 40061000</th>\n",
       "      <td>10</td>\n",
       "      <td>10</td>\n",
       "      <td>10</td>\n",
       "      <td>10</td>\n",
       "      <td>10</td>\n",
       "      <td>10</td>\n",
       "    </tr>\n",
       "    <tr>\n",
       "      <th>5627600, 20416900</th>\n",
       "      <td>10</td>\n",
       "      <td>10</td>\n",
       "      <td>10</td>\n",
       "      <td>10</td>\n",
       "      <td>10</td>\n",
       "      <td>10</td>\n",
       "    </tr>\n",
       "    <tr>\n",
       "      <th>5628200, 20416400</th>\n",
       "      <td>10</td>\n",
       "      <td>10</td>\n",
       "      <td>10</td>\n",
       "      <td>10</td>\n",
       "      <td>10</td>\n",
       "      <td>10</td>\n",
       "    </tr>\n",
       "  </tbody>\n",
       "</table>\n",
       "<p>2351 rows × 6 columns</p>\n",
       "</div>"
      ],
      "text/plain": [
       "                   rem_company_id_dummy  txn_amt  ...  rem_company_ind  payroll_ind\n",
       "Index                                             ...                              \n",
       "5000000, 33043300                    10       10  ...               10           10\n",
       "5000000, 61371400                    10       10  ...               10           10\n",
       "5000200, 10048300                    10       10  ...               10           10\n",
       "5000200, 10064000                    10       10  ...               10           10\n",
       "5000200, 10370400                    10       10  ...               10           10\n",
       "...                                 ...      ...  ...              ...          ...\n",
       "5438900, 38207500                    10       10  ...               10           10\n",
       "5492100, 43976200                    10       10  ...               10           10\n",
       "5502900, 40061000                    10       10  ...               10           10\n",
       "5627600, 20416900                    10       10  ...               10           10\n",
       "5628200, 20416400                    10       10  ...               10           10\n",
       "\n",
       "[2351 rows x 6 columns]"
      ]
     },
     "execution_count": 79,
     "metadata": {
      "tags": []
     },
     "output_type": "execute_result"
    }
   ],
   "source": [
    "nonpayroll.groupby('Index').count()[nonpayroll.groupby('Index').count().txn_amt==10]"
   ]
  },
  {
   "cell_type": "code",
   "execution_count": 80,
   "metadata": {
    "id": "OqOuv5vLN7sv"
   },
   "outputs": [],
   "source": [
    "indices = nonpayroll.groupby('Index').count()[nonpayroll.groupby('Index').count().txn_amt==10].index"
   ]
  },
  {
   "cell_type": "code",
   "execution_count": 81,
   "metadata": {
    "colab": {
     "base_uri": "https://localhost:8080/",
     "height": 428
    },
    "id": "1ySril-tN-vQ",
    "outputId": "10f7e4b1-91cf-42f1-f5ef-e11face27950"
   },
   "outputs": [
    {
     "data": {
      "text/html": [
       "<div>\n",
       "<style scoped>\n",
       "    .dataframe tbody tr th:only-of-type {\n",
       "        vertical-align: middle;\n",
       "    }\n",
       "\n",
       "    .dataframe tbody tr th {\n",
       "        vertical-align: top;\n",
       "    }\n",
       "\n",
       "    .dataframe thead th {\n",
       "        text-align: right;\n",
       "    }\n",
       "</style>\n",
       "<table border=\"1\" class=\"dataframe\">\n",
       "  <thead>\n",
       "    <tr style=\"text-align: right;\">\n",
       "      <th></th>\n",
       "      <th>rem_company_id_dummy</th>\n",
       "      <th>txn_amt</th>\n",
       "      <th>payroll_ind</th>\n",
       "    </tr>\n",
       "    <tr>\n",
       "      <th>Index</th>\n",
       "      <th></th>\n",
       "      <th></th>\n",
       "      <th></th>\n",
       "    </tr>\n",
       "  </thead>\n",
       "  <tbody>\n",
       "    <tr>\n",
       "      <th>5000000, 33043300</th>\n",
       "      <td>0.0</td>\n",
       "      <td>0.280222</td>\n",
       "      <td>0.0</td>\n",
       "    </tr>\n",
       "    <tr>\n",
       "      <th>5000000, 61371400</th>\n",
       "      <td>0.0</td>\n",
       "      <td>0.634465</td>\n",
       "      <td>0.0</td>\n",
       "    </tr>\n",
       "    <tr>\n",
       "      <th>5000200, 10048300</th>\n",
       "      <td>0.0</td>\n",
       "      <td>0.264175</td>\n",
       "      <td>0.0</td>\n",
       "    </tr>\n",
       "    <tr>\n",
       "      <th>5000200, 10064000</th>\n",
       "      <td>0.0</td>\n",
       "      <td>7.027407</td>\n",
       "      <td>0.0</td>\n",
       "    </tr>\n",
       "    <tr>\n",
       "      <th>5000200, 10370400</th>\n",
       "      <td>0.0</td>\n",
       "      <td>0.601551</td>\n",
       "      <td>0.0</td>\n",
       "    </tr>\n",
       "    <tr>\n",
       "      <th>...</th>\n",
       "      <td>...</td>\n",
       "      <td>...</td>\n",
       "      <td>...</td>\n",
       "    </tr>\n",
       "    <tr>\n",
       "      <th>5438900, 38207500</th>\n",
       "      <td>0.0</td>\n",
       "      <td>5029.058609</td>\n",
       "      <td>0.0</td>\n",
       "    </tr>\n",
       "    <tr>\n",
       "      <th>5492100, 43976200</th>\n",
       "      <td>0.0</td>\n",
       "      <td>56.242528</td>\n",
       "      <td>0.0</td>\n",
       "    </tr>\n",
       "    <tr>\n",
       "      <th>5502900, 40061000</th>\n",
       "      <td>0.0</td>\n",
       "      <td>1.745295</td>\n",
       "      <td>0.0</td>\n",
       "    </tr>\n",
       "    <tr>\n",
       "      <th>5627600, 20416900</th>\n",
       "      <td>0.0</td>\n",
       "      <td>1.937454</td>\n",
       "      <td>0.0</td>\n",
       "    </tr>\n",
       "    <tr>\n",
       "      <th>5628200, 20416400</th>\n",
       "      <td>0.0</td>\n",
       "      <td>232.082845</td>\n",
       "      <td>0.0</td>\n",
       "    </tr>\n",
       "  </tbody>\n",
       "</table>\n",
       "<p>2351 rows × 3 columns</p>\n",
       "</div>"
      ],
      "text/plain": [
       "                   rem_company_id_dummy      txn_amt  payroll_ind\n",
       "Index                                                            \n",
       "5000000, 33043300                   0.0     0.280222          0.0\n",
       "5000000, 61371400                   0.0     0.634465          0.0\n",
       "5000200, 10048300                   0.0     0.264175          0.0\n",
       "5000200, 10064000                   0.0     7.027407          0.0\n",
       "5000200, 10370400                   0.0     0.601551          0.0\n",
       "...                                 ...          ...          ...\n",
       "5438900, 38207500                   0.0  5029.058609          0.0\n",
       "5492100, 43976200                   0.0    56.242528          0.0\n",
       "5502900, 40061000                   0.0     1.745295          0.0\n",
       "5627600, 20416900                   0.0     1.937454          0.0\n",
       "5628200, 20416400                   0.0   232.082845          0.0\n",
       "\n",
       "[2351 rows x 3 columns]"
      ]
     },
     "execution_count": 81,
     "metadata": {
      "tags": []
     },
     "output_type": "execute_result"
    }
   ],
   "source": [
    "(Train.loc[indices,:]).groupby('Index').std()"
   ]
  },
  {
   "cell_type": "code",
   "execution_count": 82,
   "metadata": {
    "colab": {
     "base_uri": "https://localhost:8080/",
     "height": 370
    },
    "id": "OgpdpXBdGoja",
    "outputId": "5236f004-b902-47e9-b6bc-0c375d0b179f"
   },
   "outputs": [
    {
     "data": {
      "text/html": [
       "<div>\n",
       "<style scoped>\n",
       "    .dataframe tbody tr th:only-of-type {\n",
       "        vertical-align: middle;\n",
       "    }\n",
       "\n",
       "    .dataframe tbody tr th {\n",
       "        vertical-align: top;\n",
       "    }\n",
       "\n",
       "    .dataframe thead th {\n",
       "        text-align: right;\n",
       "    }\n",
       "</style>\n",
       "<table border=\"1\" class=\"dataframe\">\n",
       "  <thead>\n",
       "    <tr style=\"text-align: right;\">\n",
       "      <th></th>\n",
       "      <th>rem_company_id_dummy</th>\n",
       "      <th>txn_amt</th>\n",
       "      <th>transaction_val_dt</th>\n",
       "      <th>txn_type</th>\n",
       "      <th>rem_company_ind</th>\n",
       "      <th>payroll_ind</th>\n",
       "    </tr>\n",
       "    <tr>\n",
       "      <th>Index</th>\n",
       "      <th></th>\n",
       "      <th></th>\n",
       "      <th></th>\n",
       "      <th></th>\n",
       "      <th></th>\n",
       "      <th></th>\n",
       "    </tr>\n",
       "  </thead>\n",
       "  <tbody>\n",
       "    <tr>\n",
       "      <th>5000000, 33043300</th>\n",
       "      <td>1000000000</td>\n",
       "      <td>1.360699</td>\n",
       "      <td>2021-01-07</td>\n",
       "      <td>CROSS BORDER</td>\n",
       "      <td>Consumer</td>\n",
       "      <td>0</td>\n",
       "    </tr>\n",
       "    <tr>\n",
       "      <th>5000000, 33043300</th>\n",
       "      <td>1000000000</td>\n",
       "      <td>1.182061</td>\n",
       "      <td>2021-01-11</td>\n",
       "      <td>CROSS BORDER</td>\n",
       "      <td>Consumer</td>\n",
       "      <td>0</td>\n",
       "    </tr>\n",
       "    <tr>\n",
       "      <th>5000000, 33043300</th>\n",
       "      <td>1000000000</td>\n",
       "      <td>1.632337</td>\n",
       "      <td>2020-12-15</td>\n",
       "      <td>CROSS BORDER</td>\n",
       "      <td>Consumer</td>\n",
       "      <td>0</td>\n",
       "    </tr>\n",
       "    <tr>\n",
       "      <th>5000000, 33043300</th>\n",
       "      <td>1000000000</td>\n",
       "      <td>1.718165</td>\n",
       "      <td>2020-12-28</td>\n",
       "      <td>CROSS BORDER</td>\n",
       "      <td>Consumer</td>\n",
       "      <td>0</td>\n",
       "    </tr>\n",
       "    <tr>\n",
       "      <th>5000000, 33043300</th>\n",
       "      <td>1000000000</td>\n",
       "      <td>1.270408</td>\n",
       "      <td>2020-12-18</td>\n",
       "      <td>CROSS BORDER</td>\n",
       "      <td>Consumer</td>\n",
       "      <td>0</td>\n",
       "    </tr>\n",
       "    <tr>\n",
       "      <th>5000000, 33043300</th>\n",
       "      <td>1000000000</td>\n",
       "      <td>1.355959</td>\n",
       "      <td>2020-12-30</td>\n",
       "      <td>CROSS BORDER</td>\n",
       "      <td>Consumer</td>\n",
       "      <td>0</td>\n",
       "    </tr>\n",
       "    <tr>\n",
       "      <th>5000000, 33043300</th>\n",
       "      <td>1000000000</td>\n",
       "      <td>1.157041</td>\n",
       "      <td>2020-09-28</td>\n",
       "      <td>CROSS BORDER</td>\n",
       "      <td>Consumer</td>\n",
       "      <td>0</td>\n",
       "    </tr>\n",
       "    <tr>\n",
       "      <th>5000000, 33043300</th>\n",
       "      <td>1000000000</td>\n",
       "      <td>1.879691</td>\n",
       "      <td>2020-09-28</td>\n",
       "      <td>CROSS BORDER</td>\n",
       "      <td>Consumer</td>\n",
       "      <td>0</td>\n",
       "    </tr>\n",
       "    <tr>\n",
       "      <th>5000000, 33043300</th>\n",
       "      <td>1000000000</td>\n",
       "      <td>1.930021</td>\n",
       "      <td>2020-11-23</td>\n",
       "      <td>CROSS BORDER</td>\n",
       "      <td>Consumer</td>\n",
       "      <td>0</td>\n",
       "    </tr>\n",
       "    <tr>\n",
       "      <th>5000000, 33043300</th>\n",
       "      <td>1000000000</td>\n",
       "      <td>1.465590</td>\n",
       "      <td>2020-11-23</td>\n",
       "      <td>CROSS BORDER</td>\n",
       "      <td>Consumer</td>\n",
       "      <td>0</td>\n",
       "    </tr>\n",
       "  </tbody>\n",
       "</table>\n",
       "</div>"
      ],
      "text/plain": [
       "                   rem_company_id_dummy   txn_amt  ... rem_company_ind payroll_ind\n",
       "Index                                              ...                            \n",
       "5000000, 33043300            1000000000  1.360699  ...        Consumer           0\n",
       "5000000, 33043300            1000000000  1.182061  ...        Consumer           0\n",
       "5000000, 33043300            1000000000  1.632337  ...        Consumer           0\n",
       "5000000, 33043300            1000000000  1.718165  ...        Consumer           0\n",
       "5000000, 33043300            1000000000  1.270408  ...        Consumer           0\n",
       "5000000, 33043300            1000000000  1.355959  ...        Consumer           0\n",
       "5000000, 33043300            1000000000  1.157041  ...        Consumer           0\n",
       "5000000, 33043300            1000000000  1.879691  ...        Consumer           0\n",
       "5000000, 33043300            1000000000  1.930021  ...        Consumer           0\n",
       "5000000, 33043300            1000000000  1.465590  ...        Consumer           0\n",
       "\n",
       "[10 rows x 6 columns]"
      ]
     },
     "execution_count": 82,
     "metadata": {
      "tags": []
     },
     "output_type": "execute_result"
    }
   ],
   "source": [
    "Train.loc['5000000, 33043300',:]"
   ]
  },
  {
   "cell_type": "code",
   "execution_count": 83,
   "metadata": {
    "colab": {
     "base_uri": "https://localhost:8080/",
     "height": 370
    },
    "id": "auyph7L9Izp9",
    "outputId": "810ac6aa-386e-4d5f-d5da-7462ec7017c9"
   },
   "outputs": [
    {
     "data": {
      "text/html": [
       "<div>\n",
       "<style scoped>\n",
       "    .dataframe tbody tr th:only-of-type {\n",
       "        vertical-align: middle;\n",
       "    }\n",
       "\n",
       "    .dataframe tbody tr th {\n",
       "        vertical-align: top;\n",
       "    }\n",
       "\n",
       "    .dataframe thead th {\n",
       "        text-align: right;\n",
       "    }\n",
       "</style>\n",
       "<table border=\"1\" class=\"dataframe\">\n",
       "  <thead>\n",
       "    <tr style=\"text-align: right;\">\n",
       "      <th></th>\n",
       "      <th>rem_company_id_dummy</th>\n",
       "      <th>txn_amt</th>\n",
       "      <th>transaction_val_dt</th>\n",
       "      <th>txn_type</th>\n",
       "      <th>rem_company_ind</th>\n",
       "      <th>payroll_ind</th>\n",
       "    </tr>\n",
       "    <tr>\n",
       "      <th>Index</th>\n",
       "      <th></th>\n",
       "      <th></th>\n",
       "      <th></th>\n",
       "      <th></th>\n",
       "      <th></th>\n",
       "      <th></th>\n",
       "    </tr>\n",
       "  </thead>\n",
       "  <tbody>\n",
       "    <tr>\n",
       "      <th>5000100, 11069100</th>\n",
       "      <td>1000000010</td>\n",
       "      <td>1.194563</td>\n",
       "      <td>2021-01-20</td>\n",
       "      <td>DOMESTIC</td>\n",
       "      <td>Consumer</td>\n",
       "      <td>1</td>\n",
       "    </tr>\n",
       "    <tr>\n",
       "      <th>5000100, 11069100</th>\n",
       "      <td>1000000010</td>\n",
       "      <td>1.224257</td>\n",
       "      <td>2021-01-05</td>\n",
       "      <td>DOMESTIC</td>\n",
       "      <td>Consumer</td>\n",
       "      <td>1</td>\n",
       "    </tr>\n",
       "    <tr>\n",
       "      <th>5000100, 11069100</th>\n",
       "      <td>1000000010</td>\n",
       "      <td>1.016427</td>\n",
       "      <td>2021-02-18</td>\n",
       "      <td>DOMESTIC</td>\n",
       "      <td>Consumer</td>\n",
       "      <td>1</td>\n",
       "    </tr>\n",
       "    <tr>\n",
       "      <th>5000100, 11069100</th>\n",
       "      <td>1000000010</td>\n",
       "      <td>1.140534</td>\n",
       "      <td>2021-02-03</td>\n",
       "      <td>DOMESTIC</td>\n",
       "      <td>Consumer</td>\n",
       "      <td>1</td>\n",
       "    </tr>\n",
       "    <tr>\n",
       "      <th>5000100, 11069100</th>\n",
       "      <td>1000000010</td>\n",
       "      <td>1.055434</td>\n",
       "      <td>2020-12-03</td>\n",
       "      <td>DOMESTIC</td>\n",
       "      <td>Consumer</td>\n",
       "      <td>1</td>\n",
       "    </tr>\n",
       "    <tr>\n",
       "      <th>5000100, 11069100</th>\n",
       "      <td>1000000010</td>\n",
       "      <td>1.229682</td>\n",
       "      <td>2020-09-18</td>\n",
       "      <td>DOMESTIC</td>\n",
       "      <td>Consumer</td>\n",
       "      <td>1</td>\n",
       "    </tr>\n",
       "    <tr>\n",
       "      <th>5000100, 11069100</th>\n",
       "      <td>1000000010</td>\n",
       "      <td>1.152643</td>\n",
       "      <td>2020-10-05</td>\n",
       "      <td>DOMESTIC</td>\n",
       "      <td>Consumer</td>\n",
       "      <td>1</td>\n",
       "    </tr>\n",
       "    <tr>\n",
       "      <th>5000100, 11069100</th>\n",
       "      <td>1000000010</td>\n",
       "      <td>1.289980</td>\n",
       "      <td>2020-10-20</td>\n",
       "      <td>DOMESTIC</td>\n",
       "      <td>Consumer</td>\n",
       "      <td>1</td>\n",
       "    </tr>\n",
       "    <tr>\n",
       "      <th>5000100, 11069100</th>\n",
       "      <td>1000000010</td>\n",
       "      <td>1.106456</td>\n",
       "      <td>2020-11-18</td>\n",
       "      <td>DOMESTIC</td>\n",
       "      <td>Consumer</td>\n",
       "      <td>1</td>\n",
       "    </tr>\n",
       "    <tr>\n",
       "      <th>5000100, 11069100</th>\n",
       "      <td>1000000010</td>\n",
       "      <td>1.083439</td>\n",
       "      <td>2020-11-04</td>\n",
       "      <td>DOMESTIC</td>\n",
       "      <td>Consumer</td>\n",
       "      <td>1</td>\n",
       "    </tr>\n",
       "  </tbody>\n",
       "</table>\n",
       "</div>"
      ],
      "text/plain": [
       "                   rem_company_id_dummy   txn_amt  ... rem_company_ind payroll_ind\n",
       "Index                                              ...                            \n",
       "5000100, 11069100            1000000010  1.194563  ...        Consumer           1\n",
       "5000100, 11069100            1000000010  1.224257  ...        Consumer           1\n",
       "5000100, 11069100            1000000010  1.016427  ...        Consumer           1\n",
       "5000100, 11069100            1000000010  1.140534  ...        Consumer           1\n",
       "5000100, 11069100            1000000010  1.055434  ...        Consumer           1\n",
       "5000100, 11069100            1000000010  1.229682  ...        Consumer           1\n",
       "5000100, 11069100            1000000010  1.152643  ...        Consumer           1\n",
       "5000100, 11069100            1000000010  1.289980  ...        Consumer           1\n",
       "5000100, 11069100            1000000010  1.106456  ...        Consumer           1\n",
       "5000100, 11069100            1000000010  1.083439  ...        Consumer           1\n",
       "\n",
       "[10 rows x 6 columns]"
      ]
     },
     "execution_count": 83,
     "metadata": {
      "tags": []
     },
     "output_type": "execute_result"
    }
   ],
   "source": [
    "Train.loc['5000100, 11069100',:]"
   ]
  },
  {
   "cell_type": "code",
   "execution_count": 84,
   "metadata": {
    "id": "QJzTnKI7LWaK"
   },
   "outputs": [],
   "source": [
    "# I am not able to detect clear patterns which differentiate both based on date"
   ]
  },
  {
   "cell_type": "markdown",
   "metadata": {
    "id": "4n9nFcqM8rTb"
   },
   "source": [
    "#Attempting to add the features one by one"
   ]
  },
  {
   "cell_type": "code",
   "execution_count": 85,
   "metadata": {
    "id": "RZWXA4lf-Unk"
   },
   "outputs": [],
   "source": [
    "Unique_comp_type = Train.groupby('Index').rem_company_id_dummy.unique()"
   ]
  },
  {
   "cell_type": "code",
   "execution_count": 86,
   "metadata": {
    "colab": {
     "base_uri": "https://localhost:8080/"
    },
    "id": "-RwwV1lUDHyV",
    "outputId": "c0f9968a-8e0b-4cb9-a16b-1135bce1e781"
   },
   "outputs": [
    {
     "data": {
      "text/plain": [
       "Index\n",
       "5000000, 10028200    [1000000000]\n",
       "5000000, 10072700    [1000000000]\n",
       "5000000, 10089800    [1000000000]\n",
       "5000000, 10472700    [1000000000]\n",
       "5000000, 10670700    [1000000000]\n",
       "                         ...     \n",
       "5742900, 74564200    [1000005090]\n",
       "5743300, 74530200    [1000038290]\n",
       "5743500, 74532600    [1000024130]\n",
       "5743600, 74560500    [1000038310]\n",
       "5743700, 74586600    [1000038320]\n",
       "Name: rem_company_id_dummy, Length: 382795, dtype: object"
      ]
     },
     "execution_count": 86,
     "metadata": {
      "tags": []
     },
     "output_type": "execute_result"
    }
   ],
   "source": [
    "Unique_comp_type"
   ]
  },
  {
   "cell_type": "code",
   "execution_count": 87,
   "metadata": {
    "colab": {
     "base_uri": "https://localhost:8080/",
     "height": 76
    },
    "id": "AKNfLsIgCy0e",
    "outputId": "d75dff66-20a1-4a77-d6ad-93c27b59b8a5"
   },
   "outputs": [
    {
     "data": {
      "text/html": [
       "<div>\n",
       "<style scoped>\n",
       "    .dataframe tbody tr th:only-of-type {\n",
       "        vertical-align: middle;\n",
       "    }\n",
       "\n",
       "    .dataframe tbody tr th {\n",
       "        vertical-align: top;\n",
       "    }\n",
       "\n",
       "    .dataframe thead th {\n",
       "        text-align: right;\n",
       "    }\n",
       "</style>\n",
       "<table border=\"1\" class=\"dataframe\">\n",
       "  <thead>\n",
       "    <tr style=\"text-align: right;\">\n",
       "      <th></th>\n",
       "      <th>rem_company_id_dummy</th>\n",
       "      <th>length</th>\n",
       "    </tr>\n",
       "    <tr>\n",
       "      <th>Index</th>\n",
       "      <th></th>\n",
       "      <th></th>\n",
       "    </tr>\n",
       "  </thead>\n",
       "  <tbody>\n",
       "  </tbody>\n",
       "</table>\n",
       "</div>"
      ],
      "text/plain": [
       "Empty DataFrame\n",
       "Columns: [rem_company_id_dummy, length]\n",
       "Index: []"
      ]
     },
     "execution_count": 87,
     "metadata": {
      "tags": []
     },
     "output_type": "execute_result"
    }
   ],
   "source": [
    "temp = pd.DataFrame(Unique_comp_type)\n",
    "temp['length'] = temp['rem_company_id_dummy'].apply(lambda x:len(x))\n",
    "temp[temp.length>1]\n",
    "# No company has length more than 1"
   ]
  },
  {
   "cell_type": "code",
   "execution_count": 88,
   "metadata": {
    "id": "rrk8IcJDLWdA"
   },
   "outputs": [],
   "source": [
    "train = Train[~Train.index.duplicated(keep='first')]"
   ]
  },
  {
   "cell_type": "code",
   "execution_count": 89,
   "metadata": {
    "colab": {
     "base_uri": "https://localhost:8080/",
     "height": 428
    },
    "id": "3ldfXkItLWgq",
    "outputId": "5c497024-d2be-452a-ddf5-3c8af517553b"
   },
   "outputs": [
    {
     "data": {
      "text/html": [
       "<div>\n",
       "<style scoped>\n",
       "    .dataframe tbody tr th:only-of-type {\n",
       "        vertical-align: middle;\n",
       "    }\n",
       "\n",
       "    .dataframe tbody tr th {\n",
       "        vertical-align: top;\n",
       "    }\n",
       "\n",
       "    .dataframe thead th {\n",
       "        text-align: right;\n",
       "    }\n",
       "</style>\n",
       "<table border=\"1\" class=\"dataframe\">\n",
       "  <thead>\n",
       "    <tr style=\"text-align: right;\">\n",
       "      <th></th>\n",
       "      <th>rem_company_id_dummy</th>\n",
       "      <th>txn_amt</th>\n",
       "      <th>transaction_val_dt</th>\n",
       "      <th>txn_type</th>\n",
       "      <th>rem_company_ind</th>\n",
       "      <th>payroll_ind</th>\n",
       "    </tr>\n",
       "    <tr>\n",
       "      <th>Index</th>\n",
       "      <th></th>\n",
       "      <th></th>\n",
       "      <th></th>\n",
       "      <th></th>\n",
       "      <th></th>\n",
       "      <th></th>\n",
       "    </tr>\n",
       "  </thead>\n",
       "  <tbody>\n",
       "    <tr>\n",
       "      <th>5000000, 8000000</th>\n",
       "      <td>1000000000</td>\n",
       "      <td>1.458730</td>\n",
       "      <td>2020-09-17</td>\n",
       "      <td>CROSS BORDER</td>\n",
       "      <td>Consumer</td>\n",
       "      <td>0</td>\n",
       "    </tr>\n",
       "    <tr>\n",
       "      <th>5000200, 8000200</th>\n",
       "      <td>1000000020</td>\n",
       "      <td>1.269716</td>\n",
       "      <td>2020-09-30</td>\n",
       "      <td>CROSS BORDER</td>\n",
       "      <td>Communications</td>\n",
       "      <td>0</td>\n",
       "    </tr>\n",
       "    <tr>\n",
       "      <th>5000300, 8000300</th>\n",
       "      <td>1000000030</td>\n",
       "      <td>1.190682</td>\n",
       "      <td>2020-09-22</td>\n",
       "      <td>CROSS BORDER</td>\n",
       "      <td>Industrials</td>\n",
       "      <td>0</td>\n",
       "    </tr>\n",
       "    <tr>\n",
       "      <th>5000500, 8000500</th>\n",
       "      <td>1000000050</td>\n",
       "      <td>5.657271</td>\n",
       "      <td>2020-09-29</td>\n",
       "      <td>CROSS BORDER</td>\n",
       "      <td>Technology</td>\n",
       "      <td>0</td>\n",
       "    </tr>\n",
       "    <tr>\n",
       "      <th>5000200, 8000600</th>\n",
       "      <td>1000000020</td>\n",
       "      <td>1.239628</td>\n",
       "      <td>2020-09-29</td>\n",
       "      <td>CROSS BORDER</td>\n",
       "      <td>Communications</td>\n",
       "      <td>0</td>\n",
       "    </tr>\n",
       "    <tr>\n",
       "      <th>...</th>\n",
       "      <td>...</td>\n",
       "      <td>...</td>\n",
       "      <td>...</td>\n",
       "      <td>...</td>\n",
       "      <td>...</td>\n",
       "      <td>...</td>\n",
       "    </tr>\n",
       "    <tr>\n",
       "      <th>5001200, 74587500</th>\n",
       "      <td>1000000110</td>\n",
       "      <td>1.044155</td>\n",
       "      <td>2021-01-26</td>\n",
       "      <td>DOMESTIC</td>\n",
       "      <td>Public Sector</td>\n",
       "      <td>0</td>\n",
       "    </tr>\n",
       "    <tr>\n",
       "      <th>5000200, 74587600</th>\n",
       "      <td>1000000020</td>\n",
       "      <td>1.076303</td>\n",
       "      <td>2021-01-29</td>\n",
       "      <td>CROSS BORDER</td>\n",
       "      <td>Communications</td>\n",
       "      <td>0</td>\n",
       "    </tr>\n",
       "    <tr>\n",
       "      <th>5000200, 74587700</th>\n",
       "      <td>1000000020</td>\n",
       "      <td>1.594051</td>\n",
       "      <td>2021-01-29</td>\n",
       "      <td>CROSS BORDER</td>\n",
       "      <td>Communications</td>\n",
       "      <td>0</td>\n",
       "    </tr>\n",
       "    <tr>\n",
       "      <th>5017600, 74587800</th>\n",
       "      <td>1000001620</td>\n",
       "      <td>1388.377824</td>\n",
       "      <td>2020-12-04</td>\n",
       "      <td>CROSS BORDER</td>\n",
       "      <td>Public Sector</td>\n",
       "      <td>0</td>\n",
       "    </tr>\n",
       "    <tr>\n",
       "      <th>5236100, 74587900</th>\n",
       "      <td>1000006980</td>\n",
       "      <td>19024.188477</td>\n",
       "      <td>2020-11-16</td>\n",
       "      <td>DOMESTIC</td>\n",
       "      <td>Public Sector</td>\n",
       "      <td>0</td>\n",
       "    </tr>\n",
       "  </tbody>\n",
       "</table>\n",
       "<p>382795 rows × 6 columns</p>\n",
       "</div>"
      ],
      "text/plain": [
       "                   rem_company_id_dummy  ...  payroll_ind\n",
       "Index                                    ...             \n",
       "5000000, 8000000             1000000000  ...            0\n",
       "5000200, 8000200             1000000020  ...            0\n",
       "5000300, 8000300             1000000030  ...            0\n",
       "5000500, 8000500             1000000050  ...            0\n",
       "5000200, 8000600             1000000020  ...            0\n",
       "...                                 ...  ...          ...\n",
       "5001200, 74587500            1000000110  ...            0\n",
       "5000200, 74587600            1000000020  ...            0\n",
       "5000200, 74587700            1000000020  ...            0\n",
       "5017600, 74587800            1000001620  ...            0\n",
       "5236100, 74587900            1000006980  ...            0\n",
       "\n",
       "[382795 rows x 6 columns]"
      ]
     },
     "execution_count": 89,
     "metadata": {
      "tags": []
     },
     "output_type": "execute_result"
    }
   ],
   "source": [
    "train"
   ]
  },
  {
   "cell_type": "code",
   "execution_count": 90,
   "metadata": {
    "id": "99OQP_q4LWiJ"
   },
   "outputs": [],
   "source": [
    "# Adding the features one by one"
   ]
  },
  {
   "cell_type": "code",
   "execution_count": 91,
   "metadata": {
    "colab": {
     "base_uri": "https://localhost:8080/"
    },
    "id": "JTC_TVavLWkp",
    "outputId": "01e597a0-089c-450e-9a82-2fe3532f5dfd"
   },
   "outputs": [
    {
     "name": "stderr",
     "output_type": "stream",
     "text": [
      "/usr/local/lib/python3.7/dist-packages/ipykernel_launcher.py:1: SettingWithCopyWarning: \n",
      "A value is trying to be set on a copy of a slice from a DataFrame.\n",
      "Try using .loc[row_indexer,col_indexer] = value instead\n",
      "\n",
      "See the caveats in the documentation: https://pandas.pydata.org/pandas-docs/stable/user_guide/indexing.html#returning-a-view-versus-a-copy\n",
      "  \"\"\"Entry point for launching an IPython kernel.\n",
      "/usr/local/lib/python3.7/dist-packages/ipykernel_launcher.py:2: SettingWithCopyWarning: \n",
      "A value is trying to be set on a copy of a slice from a DataFrame.\n",
      "Try using .loc[row_indexer,col_indexer] = value instead\n",
      "\n",
      "See the caveats in the documentation: https://pandas.pydata.org/pandas-docs/stable/user_guide/indexing.html#returning-a-view-versus-a-copy\n",
      "  \n",
      "/usr/local/lib/python3.7/dist-packages/ipykernel_launcher.py:3: SettingWithCopyWarning: \n",
      "A value is trying to be set on a copy of a slice from a DataFrame.\n",
      "Try using .loc[row_indexer,col_indexer] = value instead\n",
      "\n",
      "See the caveats in the documentation: https://pandas.pydata.org/pandas-docs/stable/user_guide/indexing.html#returning-a-view-versus-a-copy\n",
      "  This is separate from the ipykernel package so we can avoid doing imports until\n",
      "/usr/local/lib/python3.7/dist-packages/ipykernel_launcher.py:4: SettingWithCopyWarning: \n",
      "A value is trying to be set on a copy of a slice from a DataFrame.\n",
      "Try using .loc[row_indexer,col_indexer] = value instead\n",
      "\n",
      "See the caveats in the documentation: https://pandas.pydata.org/pandas-docs/stable/user_guide/indexing.html#returning-a-view-versus-a-copy\n",
      "  after removing the cwd from sys.path.\n",
      "/usr/local/lib/python3.7/dist-packages/ipykernel_launcher.py:5: SettingWithCopyWarning: \n",
      "A value is trying to be set on a copy of a slice from a DataFrame.\n",
      "Try using .loc[row_indexer,col_indexer] = value instead\n",
      "\n",
      "See the caveats in the documentation: https://pandas.pydata.org/pandas-docs/stable/user_guide/indexing.html#returning-a-view-versus-a-copy\n",
      "  \"\"\"\n"
     ]
    }
   ],
   "source": [
    "train['Average_txn_amount'] = 0\n",
    "train['Std_txn_amount'] = 0\n",
    "train['No_of_transactions'] = 0\n",
    "train['Periodicity'] = 0\n",
    "train['ID'] = train.index\n",
    "# We can add more features here"
   ]
  },
  {
   "cell_type": "code",
   "execution_count": 92,
   "metadata": {
    "colab": {
     "base_uri": "https://localhost:8080/",
     "height": 597
    },
    "id": "dxlyV0JPFG8b",
    "outputId": "dad2debb-45d9-4a62-c193-549b71abfe88"
   },
   "outputs": [
    {
     "data": {
      "text/html": [
       "<div>\n",
       "<style scoped>\n",
       "    .dataframe tbody tr th:only-of-type {\n",
       "        vertical-align: middle;\n",
       "    }\n",
       "\n",
       "    .dataframe tbody tr th {\n",
       "        vertical-align: top;\n",
       "    }\n",
       "\n",
       "    .dataframe thead th {\n",
       "        text-align: right;\n",
       "    }\n",
       "</style>\n",
       "<table border=\"1\" class=\"dataframe\">\n",
       "  <thead>\n",
       "    <tr style=\"text-align: right;\">\n",
       "      <th></th>\n",
       "      <th>rem_company_id_dummy</th>\n",
       "      <th>txn_amt</th>\n",
       "      <th>transaction_val_dt</th>\n",
       "      <th>txn_type</th>\n",
       "      <th>rem_company_ind</th>\n",
       "      <th>payroll_ind</th>\n",
       "      <th>Average_txn_amount</th>\n",
       "      <th>Std_txn_amount</th>\n",
       "      <th>No_of_transactions</th>\n",
       "      <th>Periodicity</th>\n",
       "      <th>ID</th>\n",
       "    </tr>\n",
       "    <tr>\n",
       "      <th>Index</th>\n",
       "      <th></th>\n",
       "      <th></th>\n",
       "      <th></th>\n",
       "      <th></th>\n",
       "      <th></th>\n",
       "      <th></th>\n",
       "      <th></th>\n",
       "      <th></th>\n",
       "      <th></th>\n",
       "      <th></th>\n",
       "      <th></th>\n",
       "    </tr>\n",
       "  </thead>\n",
       "  <tbody>\n",
       "    <tr>\n",
       "      <th>5000000, 8000000</th>\n",
       "      <td>1000000000</td>\n",
       "      <td>1.458730</td>\n",
       "      <td>2020-09-17</td>\n",
       "      <td>CROSS BORDER</td>\n",
       "      <td>Consumer</td>\n",
       "      <td>0</td>\n",
       "      <td>0</td>\n",
       "      <td>0</td>\n",
       "      <td>0</td>\n",
       "      <td>0</td>\n",
       "      <td>5000000, 8000000</td>\n",
       "    </tr>\n",
       "    <tr>\n",
       "      <th>5000200, 8000200</th>\n",
       "      <td>1000000020</td>\n",
       "      <td>1.269716</td>\n",
       "      <td>2020-09-30</td>\n",
       "      <td>CROSS BORDER</td>\n",
       "      <td>Communications</td>\n",
       "      <td>0</td>\n",
       "      <td>0</td>\n",
       "      <td>0</td>\n",
       "      <td>0</td>\n",
       "      <td>0</td>\n",
       "      <td>5000200, 8000200</td>\n",
       "    </tr>\n",
       "    <tr>\n",
       "      <th>5000300, 8000300</th>\n",
       "      <td>1000000030</td>\n",
       "      <td>1.190682</td>\n",
       "      <td>2020-09-22</td>\n",
       "      <td>CROSS BORDER</td>\n",
       "      <td>Industrials</td>\n",
       "      <td>0</td>\n",
       "      <td>0</td>\n",
       "      <td>0</td>\n",
       "      <td>0</td>\n",
       "      <td>0</td>\n",
       "      <td>5000300, 8000300</td>\n",
       "    </tr>\n",
       "    <tr>\n",
       "      <th>5000500, 8000500</th>\n",
       "      <td>1000000050</td>\n",
       "      <td>5.657271</td>\n",
       "      <td>2020-09-29</td>\n",
       "      <td>CROSS BORDER</td>\n",
       "      <td>Technology</td>\n",
       "      <td>0</td>\n",
       "      <td>0</td>\n",
       "      <td>0</td>\n",
       "      <td>0</td>\n",
       "      <td>0</td>\n",
       "      <td>5000500, 8000500</td>\n",
       "    </tr>\n",
       "    <tr>\n",
       "      <th>5000200, 8000600</th>\n",
       "      <td>1000000020</td>\n",
       "      <td>1.239628</td>\n",
       "      <td>2020-09-29</td>\n",
       "      <td>CROSS BORDER</td>\n",
       "      <td>Communications</td>\n",
       "      <td>0</td>\n",
       "      <td>0</td>\n",
       "      <td>0</td>\n",
       "      <td>0</td>\n",
       "      <td>0</td>\n",
       "      <td>5000200, 8000600</td>\n",
       "    </tr>\n",
       "    <tr>\n",
       "      <th>...</th>\n",
       "      <td>...</td>\n",
       "      <td>...</td>\n",
       "      <td>...</td>\n",
       "      <td>...</td>\n",
       "      <td>...</td>\n",
       "      <td>...</td>\n",
       "      <td>...</td>\n",
       "      <td>...</td>\n",
       "      <td>...</td>\n",
       "      <td>...</td>\n",
       "      <td>...</td>\n",
       "    </tr>\n",
       "    <tr>\n",
       "      <th>5001200, 74587500</th>\n",
       "      <td>1000000110</td>\n",
       "      <td>1.044155</td>\n",
       "      <td>2021-01-26</td>\n",
       "      <td>DOMESTIC</td>\n",
       "      <td>Public Sector</td>\n",
       "      <td>0</td>\n",
       "      <td>0</td>\n",
       "      <td>0</td>\n",
       "      <td>0</td>\n",
       "      <td>0</td>\n",
       "      <td>5001200, 74587500</td>\n",
       "    </tr>\n",
       "    <tr>\n",
       "      <th>5000200, 74587600</th>\n",
       "      <td>1000000020</td>\n",
       "      <td>1.076303</td>\n",
       "      <td>2021-01-29</td>\n",
       "      <td>CROSS BORDER</td>\n",
       "      <td>Communications</td>\n",
       "      <td>0</td>\n",
       "      <td>0</td>\n",
       "      <td>0</td>\n",
       "      <td>0</td>\n",
       "      <td>0</td>\n",
       "      <td>5000200, 74587600</td>\n",
       "    </tr>\n",
       "    <tr>\n",
       "      <th>5000200, 74587700</th>\n",
       "      <td>1000000020</td>\n",
       "      <td>1.594051</td>\n",
       "      <td>2021-01-29</td>\n",
       "      <td>CROSS BORDER</td>\n",
       "      <td>Communications</td>\n",
       "      <td>0</td>\n",
       "      <td>0</td>\n",
       "      <td>0</td>\n",
       "      <td>0</td>\n",
       "      <td>0</td>\n",
       "      <td>5000200, 74587700</td>\n",
       "    </tr>\n",
       "    <tr>\n",
       "      <th>5017600, 74587800</th>\n",
       "      <td>1000001620</td>\n",
       "      <td>1388.377824</td>\n",
       "      <td>2020-12-04</td>\n",
       "      <td>CROSS BORDER</td>\n",
       "      <td>Public Sector</td>\n",
       "      <td>0</td>\n",
       "      <td>0</td>\n",
       "      <td>0</td>\n",
       "      <td>0</td>\n",
       "      <td>0</td>\n",
       "      <td>5017600, 74587800</td>\n",
       "    </tr>\n",
       "    <tr>\n",
       "      <th>5236100, 74587900</th>\n",
       "      <td>1000006980</td>\n",
       "      <td>19024.188477</td>\n",
       "      <td>2020-11-16</td>\n",
       "      <td>DOMESTIC</td>\n",
       "      <td>Public Sector</td>\n",
       "      <td>0</td>\n",
       "      <td>0</td>\n",
       "      <td>0</td>\n",
       "      <td>0</td>\n",
       "      <td>0</td>\n",
       "      <td>5236100, 74587900</td>\n",
       "    </tr>\n",
       "  </tbody>\n",
       "</table>\n",
       "<p>382795 rows × 11 columns</p>\n",
       "</div>"
      ],
      "text/plain": [
       "                   rem_company_id_dummy  ...                 ID\n",
       "Index                                    ...                   \n",
       "5000000, 8000000             1000000000  ...   5000000, 8000000\n",
       "5000200, 8000200             1000000020  ...   5000200, 8000200\n",
       "5000300, 8000300             1000000030  ...   5000300, 8000300\n",
       "5000500, 8000500             1000000050  ...   5000500, 8000500\n",
       "5000200, 8000600             1000000020  ...   5000200, 8000600\n",
       "...                                 ...  ...                ...\n",
       "5001200, 74587500            1000000110  ...  5001200, 74587500\n",
       "5000200, 74587600            1000000020  ...  5000200, 74587600\n",
       "5000200, 74587700            1000000020  ...  5000200, 74587700\n",
       "5017600, 74587800            1000001620  ...  5017600, 74587800\n",
       "5236100, 74587900            1000006980  ...  5236100, 74587900\n",
       "\n",
       "[382795 rows x 11 columns]"
      ]
     },
     "execution_count": 92,
     "metadata": {
      "tags": []
     },
     "output_type": "execute_result"
    }
   ],
   "source": [
    "train"
   ]
  },
  {
   "cell_type": "code",
   "execution_count": 93,
   "metadata": {
    "colab": {
     "base_uri": "https://localhost:8080/",
     "height": 223
    },
    "id": "rFrZOC9dLWni",
    "outputId": "69b8537e-244a-4f26-a98c-527ab432f09d"
   },
   "outputs": [
    {
     "data": {
      "text/html": [
       "<div>\n",
       "<style scoped>\n",
       "    .dataframe tbody tr th:only-of-type {\n",
       "        vertical-align: middle;\n",
       "    }\n",
       "\n",
       "    .dataframe tbody tr th {\n",
       "        vertical-align: top;\n",
       "    }\n",
       "\n",
       "    .dataframe thead th {\n",
       "        text-align: right;\n",
       "    }\n",
       "</style>\n",
       "<table border=\"1\" class=\"dataframe\">\n",
       "  <thead>\n",
       "    <tr style=\"text-align: right;\">\n",
       "      <th></th>\n",
       "      <th>rem_company_id_dummy</th>\n",
       "      <th>txn_amt</th>\n",
       "      <th>payroll_ind</th>\n",
       "    </tr>\n",
       "    <tr>\n",
       "      <th>Index</th>\n",
       "      <th></th>\n",
       "      <th></th>\n",
       "      <th></th>\n",
       "    </tr>\n",
       "  </thead>\n",
       "  <tbody>\n",
       "    <tr>\n",
       "      <th>5000000, 10028200</th>\n",
       "      <td>1000000000</td>\n",
       "      <td>1.066488</td>\n",
       "      <td>0</td>\n",
       "    </tr>\n",
       "    <tr>\n",
       "      <th>5000000, 10072700</th>\n",
       "      <td>1000000000</td>\n",
       "      <td>1.516822</td>\n",
       "      <td>0</td>\n",
       "    </tr>\n",
       "    <tr>\n",
       "      <th>5000000, 10089800</th>\n",
       "      <td>1000000000</td>\n",
       "      <td>2.361373</td>\n",
       "      <td>0</td>\n",
       "    </tr>\n",
       "    <tr>\n",
       "      <th>5000000, 10472700</th>\n",
       "      <td>1000000000</td>\n",
       "      <td>1.053046</td>\n",
       "      <td>0</td>\n",
       "    </tr>\n",
       "    <tr>\n",
       "      <th>5000000, 10670700</th>\n",
       "      <td>1000000000</td>\n",
       "      <td>1.068061</td>\n",
       "      <td>0</td>\n",
       "    </tr>\n",
       "  </tbody>\n",
       "</table>\n",
       "</div>"
      ],
      "text/plain": [
       "                   rem_company_id_dummy   txn_amt  payroll_ind\n",
       "Index                                                         \n",
       "5000000, 10028200            1000000000  1.066488            0\n",
       "5000000, 10072700            1000000000  1.516822            0\n",
       "5000000, 10089800            1000000000  2.361373            0\n",
       "5000000, 10472700            1000000000  1.053046            0\n",
       "5000000, 10670700            1000000000  1.068061            0"
      ]
     },
     "execution_count": 93,
     "metadata": {
      "tags": []
     },
     "output_type": "execute_result"
    }
   ],
   "source": [
    "mean = Train.groupby('Index').mean()\n",
    "mean.head()"
   ]
  },
  {
   "cell_type": "code",
   "execution_count": 94,
   "metadata": {
    "colab": {
     "base_uri": "https://localhost:8080/",
     "height": 597
    },
    "id": "zi4gumvUFBk1",
    "outputId": "953f77ca-b2f8-4517-ba3e-7ea91102af47"
   },
   "outputs": [
    {
     "data": {
      "text/html": [
       "<div>\n",
       "<style scoped>\n",
       "    .dataframe tbody tr th:only-of-type {\n",
       "        vertical-align: middle;\n",
       "    }\n",
       "\n",
       "    .dataframe tbody tr th {\n",
       "        vertical-align: top;\n",
       "    }\n",
       "\n",
       "    .dataframe thead th {\n",
       "        text-align: right;\n",
       "    }\n",
       "</style>\n",
       "<table border=\"1\" class=\"dataframe\">\n",
       "  <thead>\n",
       "    <tr style=\"text-align: right;\">\n",
       "      <th></th>\n",
       "      <th>rem_company_id_dummy</th>\n",
       "      <th>txn_amt</th>\n",
       "      <th>transaction_val_dt</th>\n",
       "      <th>txn_type</th>\n",
       "      <th>rem_company_ind</th>\n",
       "      <th>payroll_ind</th>\n",
       "      <th>Average_txn_amount</th>\n",
       "      <th>Std_txn_amount</th>\n",
       "      <th>No_of_transactions</th>\n",
       "      <th>Periodicity</th>\n",
       "      <th>ID</th>\n",
       "    </tr>\n",
       "    <tr>\n",
       "      <th>Index</th>\n",
       "      <th></th>\n",
       "      <th></th>\n",
       "      <th></th>\n",
       "      <th></th>\n",
       "      <th></th>\n",
       "      <th></th>\n",
       "      <th></th>\n",
       "      <th></th>\n",
       "      <th></th>\n",
       "      <th></th>\n",
       "      <th></th>\n",
       "    </tr>\n",
       "  </thead>\n",
       "  <tbody>\n",
       "    <tr>\n",
       "      <th>5000000, 8000000</th>\n",
       "      <td>1000000000</td>\n",
       "      <td>1.458730</td>\n",
       "      <td>2020-09-17</td>\n",
       "      <td>CROSS BORDER</td>\n",
       "      <td>Consumer</td>\n",
       "      <td>0</td>\n",
       "      <td>0</td>\n",
       "      <td>0</td>\n",
       "      <td>0</td>\n",
       "      <td>0</td>\n",
       "      <td>5000000, 8000000</td>\n",
       "    </tr>\n",
       "    <tr>\n",
       "      <th>5000200, 8000200</th>\n",
       "      <td>1000000020</td>\n",
       "      <td>1.269716</td>\n",
       "      <td>2020-09-30</td>\n",
       "      <td>CROSS BORDER</td>\n",
       "      <td>Communications</td>\n",
       "      <td>0</td>\n",
       "      <td>0</td>\n",
       "      <td>0</td>\n",
       "      <td>0</td>\n",
       "      <td>0</td>\n",
       "      <td>5000200, 8000200</td>\n",
       "    </tr>\n",
       "    <tr>\n",
       "      <th>5000300, 8000300</th>\n",
       "      <td>1000000030</td>\n",
       "      <td>1.190682</td>\n",
       "      <td>2020-09-22</td>\n",
       "      <td>CROSS BORDER</td>\n",
       "      <td>Industrials</td>\n",
       "      <td>0</td>\n",
       "      <td>0</td>\n",
       "      <td>0</td>\n",
       "      <td>0</td>\n",
       "      <td>0</td>\n",
       "      <td>5000300, 8000300</td>\n",
       "    </tr>\n",
       "    <tr>\n",
       "      <th>5000500, 8000500</th>\n",
       "      <td>1000000050</td>\n",
       "      <td>5.657271</td>\n",
       "      <td>2020-09-29</td>\n",
       "      <td>CROSS BORDER</td>\n",
       "      <td>Technology</td>\n",
       "      <td>0</td>\n",
       "      <td>0</td>\n",
       "      <td>0</td>\n",
       "      <td>0</td>\n",
       "      <td>0</td>\n",
       "      <td>5000500, 8000500</td>\n",
       "    </tr>\n",
       "    <tr>\n",
       "      <th>5000200, 8000600</th>\n",
       "      <td>1000000020</td>\n",
       "      <td>1.239628</td>\n",
       "      <td>2020-09-29</td>\n",
       "      <td>CROSS BORDER</td>\n",
       "      <td>Communications</td>\n",
       "      <td>0</td>\n",
       "      <td>0</td>\n",
       "      <td>0</td>\n",
       "      <td>0</td>\n",
       "      <td>0</td>\n",
       "      <td>5000200, 8000600</td>\n",
       "    </tr>\n",
       "    <tr>\n",
       "      <th>...</th>\n",
       "      <td>...</td>\n",
       "      <td>...</td>\n",
       "      <td>...</td>\n",
       "      <td>...</td>\n",
       "      <td>...</td>\n",
       "      <td>...</td>\n",
       "      <td>...</td>\n",
       "      <td>...</td>\n",
       "      <td>...</td>\n",
       "      <td>...</td>\n",
       "      <td>...</td>\n",
       "    </tr>\n",
       "    <tr>\n",
       "      <th>5001200, 74587500</th>\n",
       "      <td>1000000110</td>\n",
       "      <td>1.044155</td>\n",
       "      <td>2021-01-26</td>\n",
       "      <td>DOMESTIC</td>\n",
       "      <td>Public Sector</td>\n",
       "      <td>0</td>\n",
       "      <td>0</td>\n",
       "      <td>0</td>\n",
       "      <td>0</td>\n",
       "      <td>0</td>\n",
       "      <td>5001200, 74587500</td>\n",
       "    </tr>\n",
       "    <tr>\n",
       "      <th>5000200, 74587600</th>\n",
       "      <td>1000000020</td>\n",
       "      <td>1.076303</td>\n",
       "      <td>2021-01-29</td>\n",
       "      <td>CROSS BORDER</td>\n",
       "      <td>Communications</td>\n",
       "      <td>0</td>\n",
       "      <td>0</td>\n",
       "      <td>0</td>\n",
       "      <td>0</td>\n",
       "      <td>0</td>\n",
       "      <td>5000200, 74587600</td>\n",
       "    </tr>\n",
       "    <tr>\n",
       "      <th>5000200, 74587700</th>\n",
       "      <td>1000000020</td>\n",
       "      <td>1.594051</td>\n",
       "      <td>2021-01-29</td>\n",
       "      <td>CROSS BORDER</td>\n",
       "      <td>Communications</td>\n",
       "      <td>0</td>\n",
       "      <td>0</td>\n",
       "      <td>0</td>\n",
       "      <td>0</td>\n",
       "      <td>0</td>\n",
       "      <td>5000200, 74587700</td>\n",
       "    </tr>\n",
       "    <tr>\n",
       "      <th>5017600, 74587800</th>\n",
       "      <td>1000001620</td>\n",
       "      <td>1388.377824</td>\n",
       "      <td>2020-12-04</td>\n",
       "      <td>CROSS BORDER</td>\n",
       "      <td>Public Sector</td>\n",
       "      <td>0</td>\n",
       "      <td>0</td>\n",
       "      <td>0</td>\n",
       "      <td>0</td>\n",
       "      <td>0</td>\n",
       "      <td>5017600, 74587800</td>\n",
       "    </tr>\n",
       "    <tr>\n",
       "      <th>5236100, 74587900</th>\n",
       "      <td>1000006980</td>\n",
       "      <td>19024.188477</td>\n",
       "      <td>2020-11-16</td>\n",
       "      <td>DOMESTIC</td>\n",
       "      <td>Public Sector</td>\n",
       "      <td>0</td>\n",
       "      <td>0</td>\n",
       "      <td>0</td>\n",
       "      <td>0</td>\n",
       "      <td>0</td>\n",
       "      <td>5236100, 74587900</td>\n",
       "    </tr>\n",
       "  </tbody>\n",
       "</table>\n",
       "<p>382795 rows × 11 columns</p>\n",
       "</div>"
      ],
      "text/plain": [
       "                   rem_company_id_dummy  ...                 ID\n",
       "Index                                    ...                   \n",
       "5000000, 8000000             1000000000  ...   5000000, 8000000\n",
       "5000200, 8000200             1000000020  ...   5000200, 8000200\n",
       "5000300, 8000300             1000000030  ...   5000300, 8000300\n",
       "5000500, 8000500             1000000050  ...   5000500, 8000500\n",
       "5000200, 8000600             1000000020  ...   5000200, 8000600\n",
       "...                                 ...  ...                ...\n",
       "5001200, 74587500            1000000110  ...  5001200, 74587500\n",
       "5000200, 74587600            1000000020  ...  5000200, 74587600\n",
       "5000200, 74587700            1000000020  ...  5000200, 74587700\n",
       "5017600, 74587800            1000001620  ...  5017600, 74587800\n",
       "5236100, 74587900            1000006980  ...  5236100, 74587900\n",
       "\n",
       "[382795 rows x 11 columns]"
      ]
     },
     "execution_count": 94,
     "metadata": {
      "tags": []
     },
     "output_type": "execute_result"
    }
   ],
   "source": [
    "train"
   ]
  },
  {
   "cell_type": "code",
   "execution_count": 95,
   "metadata": {
    "colab": {
     "base_uri": "https://localhost:8080/"
    },
    "id": "mPvuBlmSEkWf",
    "outputId": "04edc736-fb1d-4033-cb5c-7bee8e45ef06"
   },
   "outputs": [
    {
     "name": "stderr",
     "output_type": "stream",
     "text": [
      "/usr/local/lib/python3.7/dist-packages/ipykernel_launcher.py:1: SettingWithCopyWarning: \n",
      "A value is trying to be set on a copy of a slice from a DataFrame.\n",
      "Try using .loc[row_indexer,col_indexer] = value instead\n",
      "\n",
      "See the caveats in the documentation: https://pandas.pydata.org/pandas-docs/stable/user_guide/indexing.html#returning-a-view-versus-a-copy\n",
      "  \"\"\"Entry point for launching an IPython kernel.\n"
     ]
    }
   ],
   "source": [
    "train['Average_txn_amount'] = train.ID.apply(lambda x: mean.loc[x,'txn_amt'])"
   ]
  },
  {
   "cell_type": "code",
   "execution_count": 96,
   "metadata": {
    "colab": {
     "base_uri": "https://localhost:8080/",
     "height": 223
    },
    "id": "RE5EeUvhFSpA",
    "outputId": "21784e90-08d7-41b4-89df-fbd70a4daed2"
   },
   "outputs": [
    {
     "data": {
      "text/html": [
       "<div>\n",
       "<style scoped>\n",
       "    .dataframe tbody tr th:only-of-type {\n",
       "        vertical-align: middle;\n",
       "    }\n",
       "\n",
       "    .dataframe tbody tr th {\n",
       "        vertical-align: top;\n",
       "    }\n",
       "\n",
       "    .dataframe thead th {\n",
       "        text-align: right;\n",
       "    }\n",
       "</style>\n",
       "<table border=\"1\" class=\"dataframe\">\n",
       "  <thead>\n",
       "    <tr style=\"text-align: right;\">\n",
       "      <th></th>\n",
       "      <th>rem_company_id_dummy</th>\n",
       "      <th>txn_amt</th>\n",
       "      <th>transaction_val_dt</th>\n",
       "      <th>txn_type</th>\n",
       "      <th>rem_company_ind</th>\n",
       "      <th>payroll_ind</th>\n",
       "      <th>Average_txn_amount</th>\n",
       "      <th>Std_txn_amount</th>\n",
       "      <th>No_of_transactions</th>\n",
       "      <th>Periodicity</th>\n",
       "      <th>ID</th>\n",
       "    </tr>\n",
       "    <tr>\n",
       "      <th>Index</th>\n",
       "      <th></th>\n",
       "      <th></th>\n",
       "      <th></th>\n",
       "      <th></th>\n",
       "      <th></th>\n",
       "      <th></th>\n",
       "      <th></th>\n",
       "      <th></th>\n",
       "      <th></th>\n",
       "      <th></th>\n",
       "      <th></th>\n",
       "    </tr>\n",
       "  </thead>\n",
       "  <tbody>\n",
       "    <tr>\n",
       "      <th>5000000, 8000000</th>\n",
       "      <td>1000000000</td>\n",
       "      <td>1.458730</td>\n",
       "      <td>2020-09-17</td>\n",
       "      <td>CROSS BORDER</td>\n",
       "      <td>Consumer</td>\n",
       "      <td>0</td>\n",
       "      <td>1.480575</td>\n",
       "      <td>0</td>\n",
       "      <td>0</td>\n",
       "      <td>0</td>\n",
       "      <td>5000000, 8000000</td>\n",
       "    </tr>\n",
       "    <tr>\n",
       "      <th>5000200, 8000200</th>\n",
       "      <td>1000000020</td>\n",
       "      <td>1.269716</td>\n",
       "      <td>2020-09-30</td>\n",
       "      <td>CROSS BORDER</td>\n",
       "      <td>Communications</td>\n",
       "      <td>0</td>\n",
       "      <td>1.268922</td>\n",
       "      <td>0</td>\n",
       "      <td>0</td>\n",
       "      <td>0</td>\n",
       "      <td>5000200, 8000200</td>\n",
       "    </tr>\n",
       "    <tr>\n",
       "      <th>5000300, 8000300</th>\n",
       "      <td>1000000030</td>\n",
       "      <td>1.190682</td>\n",
       "      <td>2020-09-22</td>\n",
       "      <td>CROSS BORDER</td>\n",
       "      <td>Industrials</td>\n",
       "      <td>0</td>\n",
       "      <td>1.190682</td>\n",
       "      <td>0</td>\n",
       "      <td>0</td>\n",
       "      <td>0</td>\n",
       "      <td>5000300, 8000300</td>\n",
       "    </tr>\n",
       "    <tr>\n",
       "      <th>5000500, 8000500</th>\n",
       "      <td>1000000050</td>\n",
       "      <td>5.657271</td>\n",
       "      <td>2020-09-29</td>\n",
       "      <td>CROSS BORDER</td>\n",
       "      <td>Technology</td>\n",
       "      <td>0</td>\n",
       "      <td>5.360628</td>\n",
       "      <td>0</td>\n",
       "      <td>0</td>\n",
       "      <td>0</td>\n",
       "      <td>5000500, 8000500</td>\n",
       "    </tr>\n",
       "    <tr>\n",
       "      <th>5000200, 8000600</th>\n",
       "      <td>1000000020</td>\n",
       "      <td>1.239628</td>\n",
       "      <td>2020-09-29</td>\n",
       "      <td>CROSS BORDER</td>\n",
       "      <td>Communications</td>\n",
       "      <td>0</td>\n",
       "      <td>1.251413</td>\n",
       "      <td>0</td>\n",
       "      <td>0</td>\n",
       "      <td>0</td>\n",
       "      <td>5000200, 8000600</td>\n",
       "    </tr>\n",
       "  </tbody>\n",
       "</table>\n",
       "</div>"
      ],
      "text/plain": [
       "                  rem_company_id_dummy   txn_amt  ... Periodicity                ID\n",
       "Index                                             ...                              \n",
       "5000000, 8000000            1000000000  1.458730  ...           0  5000000, 8000000\n",
       "5000200, 8000200            1000000020  1.269716  ...           0  5000200, 8000200\n",
       "5000300, 8000300            1000000030  1.190682  ...           0  5000300, 8000300\n",
       "5000500, 8000500            1000000050  5.657271  ...           0  5000500, 8000500\n",
       "5000200, 8000600            1000000020  1.239628  ...           0  5000200, 8000600\n",
       "\n",
       "[5 rows x 11 columns]"
      ]
     },
     "execution_count": 96,
     "metadata": {
      "tags": []
     },
     "output_type": "execute_result"
    }
   ],
   "source": [
    "train.head()"
   ]
  },
  {
   "cell_type": "code",
   "execution_count": 97,
   "metadata": {
    "id": "SLKdQPVYFc1L"
   },
   "outputs": [],
   "source": [
    "count = Train.groupby('Index').count()"
   ]
  },
  {
   "cell_type": "code",
   "execution_count": 98,
   "metadata": {
    "colab": {
     "base_uri": "https://localhost:8080/"
    },
    "id": "n4QNqy8uF-tt",
    "outputId": "8aecc6ce-527c-4593-d9d7-ad1db083567e"
   },
   "outputs": [
    {
     "name": "stderr",
     "output_type": "stream",
     "text": [
      "/usr/local/lib/python3.7/dist-packages/ipykernel_launcher.py:1: SettingWithCopyWarning: \n",
      "A value is trying to be set on a copy of a slice from a DataFrame.\n",
      "Try using .loc[row_indexer,col_indexer] = value instead\n",
      "\n",
      "See the caveats in the documentation: https://pandas.pydata.org/pandas-docs/stable/user_guide/indexing.html#returning-a-view-versus-a-copy\n",
      "  \"\"\"Entry point for launching an IPython kernel.\n"
     ]
    }
   ],
   "source": [
    "train['No_of_transactions'] = train.ID.apply(lambda x: count.loc[x,'txn_amt'])"
   ]
  },
  {
   "cell_type": "code",
   "execution_count": 99,
   "metadata": {
    "colab": {
     "base_uri": "https://localhost:8080/",
     "height": 223
    },
    "id": "QY2oAFFhF-wH",
    "outputId": "7fe81eb6-575c-4a24-e638-c537264f43ca"
   },
   "outputs": [
    {
     "data": {
      "text/html": [
       "<div>\n",
       "<style scoped>\n",
       "    .dataframe tbody tr th:only-of-type {\n",
       "        vertical-align: middle;\n",
       "    }\n",
       "\n",
       "    .dataframe tbody tr th {\n",
       "        vertical-align: top;\n",
       "    }\n",
       "\n",
       "    .dataframe thead th {\n",
       "        text-align: right;\n",
       "    }\n",
       "</style>\n",
       "<table border=\"1\" class=\"dataframe\">\n",
       "  <thead>\n",
       "    <tr style=\"text-align: right;\">\n",
       "      <th></th>\n",
       "      <th>rem_company_id_dummy</th>\n",
       "      <th>txn_amt</th>\n",
       "      <th>transaction_val_dt</th>\n",
       "      <th>txn_type</th>\n",
       "      <th>rem_company_ind</th>\n",
       "      <th>payroll_ind</th>\n",
       "      <th>Average_txn_amount</th>\n",
       "      <th>Std_txn_amount</th>\n",
       "      <th>No_of_transactions</th>\n",
       "      <th>Periodicity</th>\n",
       "      <th>ID</th>\n",
       "    </tr>\n",
       "    <tr>\n",
       "      <th>Index</th>\n",
       "      <th></th>\n",
       "      <th></th>\n",
       "      <th></th>\n",
       "      <th></th>\n",
       "      <th></th>\n",
       "      <th></th>\n",
       "      <th></th>\n",
       "      <th></th>\n",
       "      <th></th>\n",
       "      <th></th>\n",
       "      <th></th>\n",
       "    </tr>\n",
       "  </thead>\n",
       "  <tbody>\n",
       "    <tr>\n",
       "      <th>5000000, 8000000</th>\n",
       "      <td>1000000000</td>\n",
       "      <td>1.458730</td>\n",
       "      <td>2020-09-17</td>\n",
       "      <td>CROSS BORDER</td>\n",
       "      <td>Consumer</td>\n",
       "      <td>0</td>\n",
       "      <td>1.480575</td>\n",
       "      <td>0</td>\n",
       "      <td>3</td>\n",
       "      <td>0</td>\n",
       "      <td>5000000, 8000000</td>\n",
       "    </tr>\n",
       "    <tr>\n",
       "      <th>5000200, 8000200</th>\n",
       "      <td>1000000020</td>\n",
       "      <td>1.269716</td>\n",
       "      <td>2020-09-30</td>\n",
       "      <td>CROSS BORDER</td>\n",
       "      <td>Communications</td>\n",
       "      <td>0</td>\n",
       "      <td>1.268922</td>\n",
       "      <td>0</td>\n",
       "      <td>3</td>\n",
       "      <td>0</td>\n",
       "      <td>5000200, 8000200</td>\n",
       "    </tr>\n",
       "    <tr>\n",
       "      <th>5000300, 8000300</th>\n",
       "      <td>1000000030</td>\n",
       "      <td>1.190682</td>\n",
       "      <td>2020-09-22</td>\n",
       "      <td>CROSS BORDER</td>\n",
       "      <td>Industrials</td>\n",
       "      <td>0</td>\n",
       "      <td>1.190682</td>\n",
       "      <td>0</td>\n",
       "      <td>1</td>\n",
       "      <td>0</td>\n",
       "      <td>5000300, 8000300</td>\n",
       "    </tr>\n",
       "    <tr>\n",
       "      <th>5000500, 8000500</th>\n",
       "      <td>1000000050</td>\n",
       "      <td>5.657271</td>\n",
       "      <td>2020-09-29</td>\n",
       "      <td>CROSS BORDER</td>\n",
       "      <td>Technology</td>\n",
       "      <td>0</td>\n",
       "      <td>5.360628</td>\n",
       "      <td>0</td>\n",
       "      <td>7</td>\n",
       "      <td>0</td>\n",
       "      <td>5000500, 8000500</td>\n",
       "    </tr>\n",
       "    <tr>\n",
       "      <th>5000200, 8000600</th>\n",
       "      <td>1000000020</td>\n",
       "      <td>1.239628</td>\n",
       "      <td>2020-09-29</td>\n",
       "      <td>CROSS BORDER</td>\n",
       "      <td>Communications</td>\n",
       "      <td>0</td>\n",
       "      <td>1.251413</td>\n",
       "      <td>0</td>\n",
       "      <td>5</td>\n",
       "      <td>0</td>\n",
       "      <td>5000200, 8000600</td>\n",
       "    </tr>\n",
       "  </tbody>\n",
       "</table>\n",
       "</div>"
      ],
      "text/plain": [
       "                  rem_company_id_dummy   txn_amt  ... Periodicity                ID\n",
       "Index                                             ...                              \n",
       "5000000, 8000000            1000000000  1.458730  ...           0  5000000, 8000000\n",
       "5000200, 8000200            1000000020  1.269716  ...           0  5000200, 8000200\n",
       "5000300, 8000300            1000000030  1.190682  ...           0  5000300, 8000300\n",
       "5000500, 8000500            1000000050  5.657271  ...           0  5000500, 8000500\n",
       "5000200, 8000600            1000000020  1.239628  ...           0  5000200, 8000600\n",
       "\n",
       "[5 rows x 11 columns]"
      ]
     },
     "execution_count": 99,
     "metadata": {
      "tags": []
     },
     "output_type": "execute_result"
    }
   ],
   "source": [
    "train.head()"
   ]
  },
  {
   "cell_type": "code",
   "execution_count": 100,
   "metadata": {
    "id": "oAgr7BrIF-zK"
   },
   "outputs": [],
   "source": [
    "std = Train.groupby('Index').std()"
   ]
  },
  {
   "cell_type": "code",
   "execution_count": 101,
   "metadata": {
    "id": "g-j4sakzF-1U"
   },
   "outputs": [],
   "source": [
    "std.replace(np.nan,0, inplace=True)"
   ]
  },
  {
   "cell_type": "code",
   "execution_count": 102,
   "metadata": {
    "colab": {
     "base_uri": "https://localhost:8080/"
    },
    "id": "W5EE8taSF-3l",
    "outputId": "6b83fb6b-dd0f-4702-927b-ac6740bd9da9"
   },
   "outputs": [
    {
     "name": "stderr",
     "output_type": "stream",
     "text": [
      "/usr/local/lib/python3.7/dist-packages/ipykernel_launcher.py:1: SettingWithCopyWarning: \n",
      "A value is trying to be set on a copy of a slice from a DataFrame.\n",
      "Try using .loc[row_indexer,col_indexer] = value instead\n",
      "\n",
      "See the caveats in the documentation: https://pandas.pydata.org/pandas-docs/stable/user_guide/indexing.html#returning-a-view-versus-a-copy\n",
      "  \"\"\"Entry point for launching an IPython kernel.\n"
     ]
    }
   ],
   "source": [
    "train['Std_txn_amount'] = train.ID.apply(lambda x: std.loc[x,'txn_amt'])"
   ]
  },
  {
   "cell_type": "code",
   "execution_count": 103,
   "metadata": {
    "colab": {
     "base_uri": "https://localhost:8080/",
     "height": 223
    },
    "id": "Uqdk4OFEJeyA",
    "outputId": "82be1c49-2531-4d8a-8cc6-8ce54ad802d1"
   },
   "outputs": [
    {
     "data": {
      "text/html": [
       "<div>\n",
       "<style scoped>\n",
       "    .dataframe tbody tr th:only-of-type {\n",
       "        vertical-align: middle;\n",
       "    }\n",
       "\n",
       "    .dataframe tbody tr th {\n",
       "        vertical-align: top;\n",
       "    }\n",
       "\n",
       "    .dataframe thead th {\n",
       "        text-align: right;\n",
       "    }\n",
       "</style>\n",
       "<table border=\"1\" class=\"dataframe\">\n",
       "  <thead>\n",
       "    <tr style=\"text-align: right;\">\n",
       "      <th></th>\n",
       "      <th>rem_company_id_dummy</th>\n",
       "      <th>txn_amt</th>\n",
       "      <th>transaction_val_dt</th>\n",
       "      <th>txn_type</th>\n",
       "      <th>rem_company_ind</th>\n",
       "      <th>payroll_ind</th>\n",
       "      <th>Average_txn_amount</th>\n",
       "      <th>Std_txn_amount</th>\n",
       "      <th>No_of_transactions</th>\n",
       "      <th>Periodicity</th>\n",
       "      <th>ID</th>\n",
       "    </tr>\n",
       "    <tr>\n",
       "      <th>Index</th>\n",
       "      <th></th>\n",
       "      <th></th>\n",
       "      <th></th>\n",
       "      <th></th>\n",
       "      <th></th>\n",
       "      <th></th>\n",
       "      <th></th>\n",
       "      <th></th>\n",
       "      <th></th>\n",
       "      <th></th>\n",
       "      <th></th>\n",
       "    </tr>\n",
       "  </thead>\n",
       "  <tbody>\n",
       "    <tr>\n",
       "      <th>5000000, 8000000</th>\n",
       "      <td>1000000000</td>\n",
       "      <td>1.458730</td>\n",
       "      <td>2020-09-17</td>\n",
       "      <td>CROSS BORDER</td>\n",
       "      <td>Consumer</td>\n",
       "      <td>0</td>\n",
       "      <td>1.480575</td>\n",
       "      <td>0.037836</td>\n",
       "      <td>3</td>\n",
       "      <td>0</td>\n",
       "      <td>5000000, 8000000</td>\n",
       "    </tr>\n",
       "    <tr>\n",
       "      <th>5000200, 8000200</th>\n",
       "      <td>1000000020</td>\n",
       "      <td>1.269716</td>\n",
       "      <td>2020-09-30</td>\n",
       "      <td>CROSS BORDER</td>\n",
       "      <td>Communications</td>\n",
       "      <td>0</td>\n",
       "      <td>1.268922</td>\n",
       "      <td>0.131940</td>\n",
       "      <td>3</td>\n",
       "      <td>0</td>\n",
       "      <td>5000200, 8000200</td>\n",
       "    </tr>\n",
       "    <tr>\n",
       "      <th>5000300, 8000300</th>\n",
       "      <td>1000000030</td>\n",
       "      <td>1.190682</td>\n",
       "      <td>2020-09-22</td>\n",
       "      <td>CROSS BORDER</td>\n",
       "      <td>Industrials</td>\n",
       "      <td>0</td>\n",
       "      <td>1.190682</td>\n",
       "      <td>0.000000</td>\n",
       "      <td>1</td>\n",
       "      <td>0</td>\n",
       "      <td>5000300, 8000300</td>\n",
       "    </tr>\n",
       "    <tr>\n",
       "      <th>5000500, 8000500</th>\n",
       "      <td>1000000050</td>\n",
       "      <td>5.657271</td>\n",
       "      <td>2020-09-29</td>\n",
       "      <td>CROSS BORDER</td>\n",
       "      <td>Technology</td>\n",
       "      <td>0</td>\n",
       "      <td>5.360628</td>\n",
       "      <td>2.013667</td>\n",
       "      <td>7</td>\n",
       "      <td>0</td>\n",
       "      <td>5000500, 8000500</td>\n",
       "    </tr>\n",
       "    <tr>\n",
       "      <th>5000200, 8000600</th>\n",
       "      <td>1000000020</td>\n",
       "      <td>1.239628</td>\n",
       "      <td>2020-09-29</td>\n",
       "      <td>CROSS BORDER</td>\n",
       "      <td>Communications</td>\n",
       "      <td>0</td>\n",
       "      <td>1.251413</td>\n",
       "      <td>0.116883</td>\n",
       "      <td>5</td>\n",
       "      <td>0</td>\n",
       "      <td>5000200, 8000600</td>\n",
       "    </tr>\n",
       "  </tbody>\n",
       "</table>\n",
       "</div>"
      ],
      "text/plain": [
       "                  rem_company_id_dummy   txn_amt  ... Periodicity                ID\n",
       "Index                                             ...                              \n",
       "5000000, 8000000            1000000000  1.458730  ...           0  5000000, 8000000\n",
       "5000200, 8000200            1000000020  1.269716  ...           0  5000200, 8000200\n",
       "5000300, 8000300            1000000030  1.190682  ...           0  5000300, 8000300\n",
       "5000500, 8000500            1000000050  5.657271  ...           0  5000500, 8000500\n",
       "5000200, 8000600            1000000020  1.239628  ...           0  5000200, 8000600\n",
       "\n",
       "[5 rows x 11 columns]"
      ]
     },
     "execution_count": 103,
     "metadata": {
      "tags": []
     },
     "output_type": "execute_result"
    }
   ],
   "source": [
    "train.head()"
   ]
  },
  {
   "cell_type": "code",
   "execution_count": 104,
   "metadata": {
    "colab": {
     "base_uri": "https://localhost:8080/",
     "height": 428
    },
    "id": "o9HB5L6lJmbS",
    "outputId": "73fcd528-81a7-431c-9e4e-ab22f46e2c51"
   },
   "outputs": [
    {
     "data": {
      "text/html": [
       "<div>\n",
       "<style scoped>\n",
       "    .dataframe tbody tr th:only-of-type {\n",
       "        vertical-align: middle;\n",
       "    }\n",
       "\n",
       "    .dataframe tbody tr th {\n",
       "        vertical-align: top;\n",
       "    }\n",
       "\n",
       "    .dataframe thead th {\n",
       "        text-align: right;\n",
       "    }\n",
       "</style>\n",
       "<table border=\"1\" class=\"dataframe\">\n",
       "  <thead>\n",
       "    <tr style=\"text-align: right;\">\n",
       "      <th></th>\n",
       "      <th>rem_company_ind</th>\n",
       "    </tr>\n",
       "    <tr>\n",
       "      <th>Index</th>\n",
       "      <th></th>\n",
       "    </tr>\n",
       "  </thead>\n",
       "  <tbody>\n",
       "    <tr>\n",
       "      <th>5000000, 10028200</th>\n",
       "      <td>[Consumer]</td>\n",
       "    </tr>\n",
       "    <tr>\n",
       "      <th>5000000, 10072700</th>\n",
       "      <td>[Consumer]</td>\n",
       "    </tr>\n",
       "    <tr>\n",
       "      <th>5000000, 10089800</th>\n",
       "      <td>[Consumer]</td>\n",
       "    </tr>\n",
       "    <tr>\n",
       "      <th>5000000, 10472700</th>\n",
       "      <td>[Consumer]</td>\n",
       "    </tr>\n",
       "    <tr>\n",
       "      <th>5000000, 10670700</th>\n",
       "      <td>[Consumer]</td>\n",
       "    </tr>\n",
       "    <tr>\n",
       "      <th>...</th>\n",
       "      <td>...</td>\n",
       "    </tr>\n",
       "    <tr>\n",
       "      <th>5742900, 74564200</th>\n",
       "      <td>[Industrials]</td>\n",
       "    </tr>\n",
       "    <tr>\n",
       "      <th>5743300, 74530200</th>\n",
       "      <td>[Industrials]</td>\n",
       "    </tr>\n",
       "    <tr>\n",
       "      <th>5743500, 74532600</th>\n",
       "      <td>[Industrials]</td>\n",
       "    </tr>\n",
       "    <tr>\n",
       "      <th>5743600, 74560500</th>\n",
       "      <td>[Industrials]</td>\n",
       "    </tr>\n",
       "    <tr>\n",
       "      <th>5743700, 74586600</th>\n",
       "      <td>[Financial Institutions]</td>\n",
       "    </tr>\n",
       "  </tbody>\n",
       "</table>\n",
       "<p>382795 rows × 1 columns</p>\n",
       "</div>"
      ],
      "text/plain": [
       "                            rem_company_ind\n",
       "Index                                      \n",
       "5000000, 10028200                [Consumer]\n",
       "5000000, 10072700                [Consumer]\n",
       "5000000, 10089800                [Consumer]\n",
       "5000000, 10472700                [Consumer]\n",
       "5000000, 10670700                [Consumer]\n",
       "...                                     ...\n",
       "5742900, 74564200             [Industrials]\n",
       "5743300, 74530200             [Industrials]\n",
       "5743500, 74532600             [Industrials]\n",
       "5743600, 74560500             [Industrials]\n",
       "5743700, 74586600  [Financial Institutions]\n",
       "\n",
       "[382795 rows x 1 columns]"
      ]
     },
     "execution_count": 104,
     "metadata": {
      "tags": []
     },
     "output_type": "execute_result"
    }
   ],
   "source": [
    "company_ind = pd.DataFrame(Train.groupby('Index').rem_company_ind.unique())\n",
    "company_ind"
   ]
  },
  {
   "cell_type": "code",
   "execution_count": 105,
   "metadata": {
    "id": "tdk1F6G2J8rt"
   },
   "outputs": [],
   "source": [
    "company_ind.iloc[:,0] = company_ind.iloc[:,0].apply(lambda x:np.sort(x)[0])"
   ]
  },
  {
   "cell_type": "code",
   "execution_count": 106,
   "metadata": {
    "colab": {
     "base_uri": "https://localhost:8080/"
    },
    "id": "XD3UpMsWL6s6",
    "outputId": "896f6822-7c1b-4952-c5c2-37e3962f879c"
   },
   "outputs": [
    {
     "name": "stderr",
     "output_type": "stream",
     "text": [
      "/usr/local/lib/python3.7/dist-packages/ipykernel_launcher.py:1: SettingWithCopyWarning: \n",
      "A value is trying to be set on a copy of a slice from a DataFrame.\n",
      "Try using .loc[row_indexer,col_indexer] = value instead\n",
      "\n",
      "See the caveats in the documentation: https://pandas.pydata.org/pandas-docs/stable/user_guide/indexing.html#returning-a-view-versus-a-copy\n",
      "  \"\"\"Entry point for launching an IPython kernel.\n"
     ]
    }
   ],
   "source": [
    "train['rem_company_ind'] = train.ID.apply(lambda x: company_ind.loc[x,'rem_company_ind'])"
   ]
  },
  {
   "cell_type": "code",
   "execution_count": 107,
   "metadata": {
    "colab": {
     "base_uri": "https://localhost:8080/",
     "height": 223
    },
    "id": "stgaS7wwMLM3",
    "outputId": "911007d5-2f68-4191-e97f-05c5be382756"
   },
   "outputs": [
    {
     "data": {
      "text/html": [
       "<div>\n",
       "<style scoped>\n",
       "    .dataframe tbody tr th:only-of-type {\n",
       "        vertical-align: middle;\n",
       "    }\n",
       "\n",
       "    .dataframe tbody tr th {\n",
       "        vertical-align: top;\n",
       "    }\n",
       "\n",
       "    .dataframe thead th {\n",
       "        text-align: right;\n",
       "    }\n",
       "</style>\n",
       "<table border=\"1\" class=\"dataframe\">\n",
       "  <thead>\n",
       "    <tr style=\"text-align: right;\">\n",
       "      <th></th>\n",
       "      <th>rem_company_id_dummy</th>\n",
       "      <th>txn_amt</th>\n",
       "      <th>transaction_val_dt</th>\n",
       "      <th>txn_type</th>\n",
       "      <th>rem_company_ind</th>\n",
       "      <th>payroll_ind</th>\n",
       "      <th>Average_txn_amount</th>\n",
       "      <th>Std_txn_amount</th>\n",
       "      <th>No_of_transactions</th>\n",
       "      <th>Periodicity</th>\n",
       "      <th>ID</th>\n",
       "    </tr>\n",
       "    <tr>\n",
       "      <th>Index</th>\n",
       "      <th></th>\n",
       "      <th></th>\n",
       "      <th></th>\n",
       "      <th></th>\n",
       "      <th></th>\n",
       "      <th></th>\n",
       "      <th></th>\n",
       "      <th></th>\n",
       "      <th></th>\n",
       "      <th></th>\n",
       "      <th></th>\n",
       "    </tr>\n",
       "  </thead>\n",
       "  <tbody>\n",
       "    <tr>\n",
       "      <th>5000000, 8000000</th>\n",
       "      <td>1000000000</td>\n",
       "      <td>1.458730</td>\n",
       "      <td>2020-09-17</td>\n",
       "      <td>CROSS BORDER</td>\n",
       "      <td>Consumer</td>\n",
       "      <td>0</td>\n",
       "      <td>1.480575</td>\n",
       "      <td>0.037836</td>\n",
       "      <td>3</td>\n",
       "      <td>0</td>\n",
       "      <td>5000000, 8000000</td>\n",
       "    </tr>\n",
       "    <tr>\n",
       "      <th>5000200, 8000200</th>\n",
       "      <td>1000000020</td>\n",
       "      <td>1.269716</td>\n",
       "      <td>2020-09-30</td>\n",
       "      <td>CROSS BORDER</td>\n",
       "      <td>Communications</td>\n",
       "      <td>0</td>\n",
       "      <td>1.268922</td>\n",
       "      <td>0.131940</td>\n",
       "      <td>3</td>\n",
       "      <td>0</td>\n",
       "      <td>5000200, 8000200</td>\n",
       "    </tr>\n",
       "    <tr>\n",
       "      <th>5000300, 8000300</th>\n",
       "      <td>1000000030</td>\n",
       "      <td>1.190682</td>\n",
       "      <td>2020-09-22</td>\n",
       "      <td>CROSS BORDER</td>\n",
       "      <td>Industrials</td>\n",
       "      <td>0</td>\n",
       "      <td>1.190682</td>\n",
       "      <td>0.000000</td>\n",
       "      <td>1</td>\n",
       "      <td>0</td>\n",
       "      <td>5000300, 8000300</td>\n",
       "    </tr>\n",
       "    <tr>\n",
       "      <th>5000500, 8000500</th>\n",
       "      <td>1000000050</td>\n",
       "      <td>5.657271</td>\n",
       "      <td>2020-09-29</td>\n",
       "      <td>CROSS BORDER</td>\n",
       "      <td>Technology</td>\n",
       "      <td>0</td>\n",
       "      <td>5.360628</td>\n",
       "      <td>2.013667</td>\n",
       "      <td>7</td>\n",
       "      <td>0</td>\n",
       "      <td>5000500, 8000500</td>\n",
       "    </tr>\n",
       "    <tr>\n",
       "      <th>5000200, 8000600</th>\n",
       "      <td>1000000020</td>\n",
       "      <td>1.239628</td>\n",
       "      <td>2020-09-29</td>\n",
       "      <td>CROSS BORDER</td>\n",
       "      <td>Communications</td>\n",
       "      <td>0</td>\n",
       "      <td>1.251413</td>\n",
       "      <td>0.116883</td>\n",
       "      <td>5</td>\n",
       "      <td>0</td>\n",
       "      <td>5000200, 8000600</td>\n",
       "    </tr>\n",
       "  </tbody>\n",
       "</table>\n",
       "</div>"
      ],
      "text/plain": [
       "                  rem_company_id_dummy   txn_amt  ... Periodicity                ID\n",
       "Index                                             ...                              \n",
       "5000000, 8000000            1000000000  1.458730  ...           0  5000000, 8000000\n",
       "5000200, 8000200            1000000020  1.269716  ...           0  5000200, 8000200\n",
       "5000300, 8000300            1000000030  1.190682  ...           0  5000300, 8000300\n",
       "5000500, 8000500            1000000050  5.657271  ...           0  5000500, 8000500\n",
       "5000200, 8000600            1000000020  1.239628  ...           0  5000200, 8000600\n",
       "\n",
       "[5 rows x 11 columns]"
      ]
     },
     "execution_count": 107,
     "metadata": {
      "tags": []
     },
     "output_type": "execute_result"
    }
   ],
   "source": [
    "train.head()"
   ]
  },
  {
   "cell_type": "code",
   "execution_count": 108,
   "metadata": {
    "id": "dyvQ84GgMLVE"
   },
   "outputs": [],
   "source": [
    "txn_type = pd.DataFrame(Train.groupby('Index').txn_type.unique())"
   ]
  },
  {
   "cell_type": "code",
   "execution_count": 110,
   "metadata": {
    "id": "2bujAthsNt5m"
   },
   "outputs": [],
   "source": [
    "def calculate_mode(x):\n",
    "    if len(x) == 1:\n",
    "        return x[0]\n",
    "    else:\n",
    "        return 'Multiple'"
   ]
  },
  {
   "cell_type": "code",
   "execution_count": 111,
   "metadata": {
    "id": "1jTALwR5MLXI"
   },
   "outputs": [],
   "source": [
    "txn_type.iloc[:,0] = txn_type.iloc[:,0].apply(lambda x:calculate_mode(x))"
   ]
  },
  {
   "cell_type": "code",
   "execution_count": 112,
   "metadata": {
    "colab": {
     "base_uri": "https://localhost:8080/"
    },
    "id": "qp98tHaXMLZo",
    "outputId": "99d20429-f530-4f4b-f1c8-c4b43b658a83"
   },
   "outputs": [
    {
     "name": "stderr",
     "output_type": "stream",
     "text": [
      "/usr/local/lib/python3.7/dist-packages/ipykernel_launcher.py:1: SettingWithCopyWarning: \n",
      "A value is trying to be set on a copy of a slice from a DataFrame.\n",
      "Try using .loc[row_indexer,col_indexer] = value instead\n",
      "\n",
      "See the caveats in the documentation: https://pandas.pydata.org/pandas-docs/stable/user_guide/indexing.html#returning-a-view-versus-a-copy\n",
      "  \"\"\"Entry point for launching an IPython kernel.\n"
     ]
    }
   ],
   "source": [
    "train['txn_type'] = train.ID.apply(lambda x: txn_type.loc[x,'txn_type'])"
   ]
  },
  {
   "cell_type": "code",
   "execution_count": 113,
   "metadata": {
    "colab": {
     "base_uri": "https://localhost:8080/",
     "height": 223
    },
    "id": "M8VqlC_MMLby",
    "outputId": "e00feab5-df7d-4804-9038-acfe7a349508"
   },
   "outputs": [
    {
     "data": {
      "text/html": [
       "<div>\n",
       "<style scoped>\n",
       "    .dataframe tbody tr th:only-of-type {\n",
       "        vertical-align: middle;\n",
       "    }\n",
       "\n",
       "    .dataframe tbody tr th {\n",
       "        vertical-align: top;\n",
       "    }\n",
       "\n",
       "    .dataframe thead th {\n",
       "        text-align: right;\n",
       "    }\n",
       "</style>\n",
       "<table border=\"1\" class=\"dataframe\">\n",
       "  <thead>\n",
       "    <tr style=\"text-align: right;\">\n",
       "      <th></th>\n",
       "      <th>rem_company_id_dummy</th>\n",
       "      <th>txn_amt</th>\n",
       "      <th>transaction_val_dt</th>\n",
       "      <th>txn_type</th>\n",
       "      <th>rem_company_ind</th>\n",
       "      <th>payroll_ind</th>\n",
       "      <th>Average_txn_amount</th>\n",
       "      <th>Std_txn_amount</th>\n",
       "      <th>No_of_transactions</th>\n",
       "      <th>Periodicity</th>\n",
       "      <th>ID</th>\n",
       "    </tr>\n",
       "    <tr>\n",
       "      <th>Index</th>\n",
       "      <th></th>\n",
       "      <th></th>\n",
       "      <th></th>\n",
       "      <th></th>\n",
       "      <th></th>\n",
       "      <th></th>\n",
       "      <th></th>\n",
       "      <th></th>\n",
       "      <th></th>\n",
       "      <th></th>\n",
       "      <th></th>\n",
       "    </tr>\n",
       "  </thead>\n",
       "  <tbody>\n",
       "    <tr>\n",
       "      <th>5000000, 8000000</th>\n",
       "      <td>1000000000</td>\n",
       "      <td>1.458730</td>\n",
       "      <td>2020-09-17</td>\n",
       "      <td>CROSS BORDER</td>\n",
       "      <td>Consumer</td>\n",
       "      <td>0</td>\n",
       "      <td>1.480575</td>\n",
       "      <td>0.037836</td>\n",
       "      <td>3</td>\n",
       "      <td>0</td>\n",
       "      <td>5000000, 8000000</td>\n",
       "    </tr>\n",
       "    <tr>\n",
       "      <th>5000200, 8000200</th>\n",
       "      <td>1000000020</td>\n",
       "      <td>1.269716</td>\n",
       "      <td>2020-09-30</td>\n",
       "      <td>CROSS BORDER</td>\n",
       "      <td>Communications</td>\n",
       "      <td>0</td>\n",
       "      <td>1.268922</td>\n",
       "      <td>0.131940</td>\n",
       "      <td>3</td>\n",
       "      <td>0</td>\n",
       "      <td>5000200, 8000200</td>\n",
       "    </tr>\n",
       "    <tr>\n",
       "      <th>5000300, 8000300</th>\n",
       "      <td>1000000030</td>\n",
       "      <td>1.190682</td>\n",
       "      <td>2020-09-22</td>\n",
       "      <td>CROSS BORDER</td>\n",
       "      <td>Industrials</td>\n",
       "      <td>0</td>\n",
       "      <td>1.190682</td>\n",
       "      <td>0.000000</td>\n",
       "      <td>1</td>\n",
       "      <td>0</td>\n",
       "      <td>5000300, 8000300</td>\n",
       "    </tr>\n",
       "    <tr>\n",
       "      <th>5000500, 8000500</th>\n",
       "      <td>1000000050</td>\n",
       "      <td>5.657271</td>\n",
       "      <td>2020-09-29</td>\n",
       "      <td>CROSS BORDER</td>\n",
       "      <td>Technology</td>\n",
       "      <td>0</td>\n",
       "      <td>5.360628</td>\n",
       "      <td>2.013667</td>\n",
       "      <td>7</td>\n",
       "      <td>0</td>\n",
       "      <td>5000500, 8000500</td>\n",
       "    </tr>\n",
       "    <tr>\n",
       "      <th>5000200, 8000600</th>\n",
       "      <td>1000000020</td>\n",
       "      <td>1.239628</td>\n",
       "      <td>2020-09-29</td>\n",
       "      <td>CROSS BORDER</td>\n",
       "      <td>Communications</td>\n",
       "      <td>0</td>\n",
       "      <td>1.251413</td>\n",
       "      <td>0.116883</td>\n",
       "      <td>5</td>\n",
       "      <td>0</td>\n",
       "      <td>5000200, 8000600</td>\n",
       "    </tr>\n",
       "  </tbody>\n",
       "</table>\n",
       "</div>"
      ],
      "text/plain": [
       "                  rem_company_id_dummy   txn_amt  ... Periodicity                ID\n",
       "Index                                             ...                              \n",
       "5000000, 8000000            1000000000  1.458730  ...           0  5000000, 8000000\n",
       "5000200, 8000200            1000000020  1.269716  ...           0  5000200, 8000200\n",
       "5000300, 8000300            1000000030  1.190682  ...           0  5000300, 8000300\n",
       "5000500, 8000500            1000000050  5.657271  ...           0  5000500, 8000500\n",
       "5000200, 8000600            1000000020  1.239628  ...           0  5000200, 8000600\n",
       "\n",
       "[5 rows x 11 columns]"
      ]
     },
     "execution_count": 113,
     "metadata": {
      "tags": []
     },
     "output_type": "execute_result"
    }
   ],
   "source": [
    "train.head()"
   ]
  },
  {
   "cell_type": "code",
   "execution_count": null,
   "metadata": {
    "colab": {
     "base_uri": "https://localhost:8080/"
    },
    "id": "ye-ncAK6ONJf",
    "outputId": "ddd2148a-0068-46c9-cf1c-137aa803cfe7"
   },
   "outputs": [
    {
     "data": {
      "text/plain": [
       "0    382795\n",
       "Name: Periodicity, dtype: int64"
      ]
     },
     "execution_count": 107,
     "metadata": {
      "tags": []
     },
     "output_type": "execute_result"
    }
   ],
   "source": [
    "train.Periodicity.value_counts()"
   ]
  },
  {
   "cell_type": "code",
   "execution_count": null,
   "metadata": {
    "id": "xzTDq5ouNH2U"
   },
   "outputs": [],
   "source": [
    "# train.loc['5000000, 8000000\t','Periodicity'] = 1"
   ]
  },
  {
   "cell_type": "code",
   "execution_count": null,
   "metadata": {
    "id": "hOSd8WuNGDHU"
   },
   "outputs": [],
   "source": [
    "# train.Periodicity.value_counts()"
   ]
  },
  {
   "cell_type": "code",
   "execution_count": null,
   "metadata": {
    "id": "fzJ8UIbH6S5G"
   },
   "outputs": [],
   "source": [
    "import pickle"
   ]
  },
  {
   "cell_type": "code",
   "execution_count": null,
   "metadata": {
    "id": "DDMgAFAh6S7y"
   },
   "outputs": [],
   "source": [
    "def fImpReal(data, feature, alpha=0.05):\n",
    "    print('Importance of variable', feature, '\\n')\n",
    "    x = data[feature]\n",
    "    y = data['payroll_ind']\n",
    "    \n",
    "    x0 = x.loc[y==0]\n",
    "    x1 = x.loc[y==1]\n",
    "    \n",
    "    lev = levene(x0, x1)\n",
    "    if lev[1]<alpha:\n",
    "        print('Variance Assumption Invalid: Test Results not Accurate')\n",
    "    else:\n",
    "        print('Variance Assumption Valid')\n",
    "    \n",
    "    s1 = shapiro(x0)[1]\n",
    "    s2 = shapiro(x1)[1]\n",
    "    if s1<alpha or s2<alpha:\n",
    "        print('Normality Assumption Invalid: Test Results not Accurate\\n')\n",
    "    else:\n",
    "        print('Normality Assumption Valid\\n')\n",
    "    \n",
    "    pb = pointbiserialr(y, x)\n",
    "    print('Point Biserial:', np.round(pb[0], 3))\n",
    "    if pb[1]>alpha:\n",
    "        print('Not Important')\n",
    "    else:\n",
    "        print('Important')\n",
    "        \n",
    "    ktest = kruskal(y, x, nan_policy='omit')\n",
    "    print('Kruskal-Wallis H-test (No need for normality assumption):', np.round(ktest[0], 3))\n",
    "    if ktest[1]>alpha:\n",
    "        print('Not Important')\n",
    "    else:\n",
    "        print('Important')\n",
    "        \n",
    "    welch = ttest_ind(x0, x1, equal_var=False, nan_policy='omit')\n",
    "    print('Welch t-Test (No need for variance assumption):', np.round(welch[0], 3))\n",
    "    if welch[1]>alpha:\n",
    "        print('Not Important')\n",
    "    else:\n",
    "        print('Important --> Checking post-hoc Games Howell test')\n",
    "        gamesHowell = pg.pairwise_gameshowell(data=data, dv=feature, between='payroll_ind')\n",
    "        if gamesHowell.iloc[0, :]['pval'] < alpha:\n",
    "            print('Importance Confirmed')\n",
    "        else:\n",
    "            print('Importance Not Confirmed')\n",
    "        \n",
    "        \n",
    "    mann = mannwhitneyu(x0, x1)\n",
    "    print('Mann-Whitney U Test (No need for normality assumption):', np.round(mann[0], 3))\n",
    "    if mann[1]>alpha:\n",
    "        print('Not Important')\n",
    "    else:\n",
    "        print('Important')"
   ]
  },
  {
   "cell_type": "code",
   "execution_count": null,
   "metadata": {
    "colab": {
     "base_uri": "https://localhost:8080/"
    },
    "id": "g0FghHs26TEJ",
    "outputId": "9c5ff953-207f-4f07-f074-d41b3a9b3628"
   },
   "outputs": [
    {
     "name": "stdout",
     "output_type": "stream",
     "text": [
      "Importance of variable Average_txn_amount \n",
      "\n",
      "Variance Assumption Valid\n",
      "Normality Assumption Invalid: Test Results not Accurate\n",
      "\n",
      "Point Biserial: -0.001\n",
      "Not Important\n"
     ]
    },
    {
     "name": "stderr",
     "output_type": "stream",
     "text": [
      "/usr/local/lib/python3.7/dist-packages/scipy/stats/morestats.py:1676: UserWarning: p-value may not be accurate for N > 5000.\n",
      "  warnings.warn(\"p-value may not be accurate for N > 5000.\")\n"
     ]
    },
    {
     "name": "stdout",
     "output_type": "stream",
     "text": [
      "Kruskal-Wallis H-test (No need for normality assumption): 643102.821\n",
      "Important\n",
      "Welch t-Test (No need for variance assumption): 3.89\n",
      "Important --> Checking post-hoc Games Howell test\n",
      "Importance Confirmed\n",
      "Mann-Whitney U Test (No need for normality assumption): 946576343.5\n",
      "Important\n"
     ]
    }
   ],
   "source": [
    "fImpReal(train, 'Average_txn_amount', alpha=0.05)"
   ]
  },
  {
   "cell_type": "code",
   "execution_count": null,
   "metadata": {
    "id": "R9G-1bfA6THA"
   },
   "outputs": [],
   "source": []
  },
  {
   "cell_type": "code",
   "execution_count": null,
   "metadata": {
    "id": "Ay5h5zwzONM5"
   },
   "outputs": [],
   "source": []
  },
  {
   "cell_type": "code",
   "execution_count": null,
   "metadata": {
    "id": "dCJziwDUONPe"
   },
   "outputs": [],
   "source": []
  },
  {
   "cell_type": "code",
   "execution_count": null,
   "metadata": {
    "colab": {
     "base_uri": "https://localhost:8080/"
    },
    "id": "c6HBLGzYRlSk",
    "outputId": "8b6ef1ee-8c95-4252-ef77-5f2d1c52c9b9"
   },
   "outputs": [
    {
     "data": {
      "text/plain": [
       "array(['Consumer', 'Communications', 'Industrials', 'Technology',\n",
       "       'Public Sector', 'Financial Institutions', 'Healthcare',\n",
       "       'Alternative Assets', 'Unknown', 'Power', 'Energy', 'Real Estate'],\n",
       "      dtype=object)"
      ]
     },
     "execution_count": 113,
     "metadata": {
      "tags": []
     },
     "output_type": "execute_result"
    }
   ],
   "source": [
    "Train.rem_company_ind.unique()"
   ]
  },
  {
   "cell_type": "code",
   "execution_count": null,
   "metadata": {
    "colab": {
     "base_uri": "https://localhost:8080/"
    },
    "id": "wRIjUYYs6hFk",
    "outputId": "e211936b-e438-4799-ea82-a7e568041ac7"
   },
   "outputs": [
    {
     "data": {
      "text/plain": [
       "(array(['Alternative Assets', 'Communications', 'Consumer', 'Energy',\n",
       "        'Financial Institutions', 'Healthcare', 'Industrials', 'Power',\n",
       "        'Public Sector', 'Real Estate', 'Technology', 'Unknown'],\n",
       "       dtype=object),\n",
       " array([  3988, 433975, 145665,   5258, 423130,  36492, 136933,  10873,\n",
       "        104448,   1480, 121806,   6585]))"
      ]
     },
     "execution_count": 114,
     "metadata": {
      "tags": []
     },
     "output_type": "execute_result"
    }
   ],
   "source": [
    "np.unique(Train.rem_company_ind, return_counts=True)"
   ]
  },
  {
   "cell_type": "code",
   "execution_count": null,
   "metadata": {
    "id": "38zhAUDg67eF"
   },
   "outputs": [],
   "source": [
    "np.unique(Train.txn_type, return_counts=True)"
   ]
  },
  {
   "cell_type": "code",
   "execution_count": null,
   "metadata": {
    "id": "aBTHY0kH7K4O"
   },
   "outputs": [],
   "source": [
    "Train[Train.payroll_ind==1].txn_type.count()"
   ]
  },
  {
   "cell_type": "code",
   "execution_count": null,
   "metadata": {
    "id": "tPDquQ9u7Y7f"
   },
   "outputs": [],
   "source": [
    "corr = pd.crosstab(Train.txn_type,Train.payroll_ind)"
   ]
  },
  {
   "cell_type": "code",
   "execution_count": null,
   "metadata": {
    "id": "M0uzfssJ7i47"
   },
   "outputs": [],
   "source": [
    "corr"
   ]
  },
  {
   "cell_type": "code",
   "execution_count": null,
   "metadata": {
    "id": "N7KREvmG7oms"
   },
   "outputs": [],
   "source": [
    "Train.payroll_ind.value_counts()[0]"
   ]
  },
  {
   "cell_type": "code",
   "execution_count": null,
   "metadata": {
    "id": "LFREziwg99sE"
   },
   "outputs": [],
   "source": [
    "Train.payroll_ind.value_counts()[1]"
   ]
  },
  {
   "cell_type": "code",
   "execution_count": null,
   "metadata": {
    "id": "D7I7LT_A9QtV"
   },
   "outputs": [],
   "source": [
    "corr = pd.crosstab(Train.rem_company_ind,Train.payroll_ind)"
   ]
  },
  {
   "cell_type": "code",
   "execution_count": null,
   "metadata": {
    "id": "3AA8ahqV95Ul"
   },
   "outputs": [],
   "source": [
    "corr"
   ]
  },
  {
   "cell_type": "code",
   "execution_count": null,
   "metadata": {
    "id": "6kYpL3RI92aK"
   },
   "outputs": [],
   "source": [
    "corr.loc[:,0] = corr.loc[:,0]/1308694"
   ]
  },
  {
   "cell_type": "code",
   "execution_count": null,
   "metadata": {
    "id": "sK2PbOOM93Uj"
   },
   "outputs": [],
   "source": [
    "corr.loc[:,1] = corr.loc[:,1]/121939"
   ]
  },
  {
   "cell_type": "code",
   "execution_count": null,
   "metadata": {
    "id": "a9RxKmnb-XdF"
   },
   "outputs": [],
   "source": [
    "corr['ratio'] = corr.loc[:,0]/corr.loc[:,1]"
   ]
  },
  {
   "cell_type": "code",
   "execution_count": null,
   "metadata": {
    "id": "c9CKONq9-RMO"
   },
   "outputs": [],
   "source": [
    "corr"
   ]
  },
  {
   "cell_type": "code",
   "execution_count": null,
   "metadata": {
    "id": "I2spUROm-R3m"
   },
   "outputs": [],
   "source": []
  },
  {
   "cell_type": "code",
   "execution_count": null,
   "metadata": {
    "id": "mX9sn45ShlzY"
   },
   "outputs": [],
   "source": [
    "train_repeating = Train.loc[temp[temp.length>1].index,:]"
   ]
  },
  {
   "cell_type": "code",
   "execution_count": null,
   "metadata": {
    "id": "YasdJ3wGiIDS"
   },
   "outputs": [],
   "source": [
    "train.index.value_counts()"
   ]
  },
  {
   "cell_type": "code",
   "execution_count": null,
   "metadata": {
    "id": "b2B-aQRDij3x"
   },
   "outputs": [],
   "source": []
  }
 ],
 "metadata": {
  "colab": {
   "collapsed_sections": [],
   "name": "Citi.ipynb",
   "provenance": []
  },
  "kernelspec": {
   "display_name": "Python 3",
   "language": "python",
   "name": "python3"
  },
  "language_info": {
   "codemirror_mode": {
    "name": "ipython",
    "version": 3
   },
   "file_extension": ".py",
   "mimetype": "text/x-python",
   "name": "python",
   "nbconvert_exporter": "python",
   "pygments_lexer": "ipython3",
   "version": "3.8.8"
  }
 },
 "nbformat": 4,
 "nbformat_minor": 1
}
